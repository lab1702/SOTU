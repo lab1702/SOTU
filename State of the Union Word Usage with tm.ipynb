{
 "cells": [
  {
   "cell_type": "markdown",
   "metadata": {},
   "source": [
    "# State of the Union\n",
    "\n",
    "## Word Usage with *tm*\n",
    "\n",
    "### Created by Lars Bernhardsson\n",
    "\n",
    "I used the jupyter/datascience-notebook docker image found at https://hub.docker.com/r/jupyter/datascience-notebook when making this notebook."
   ]
  },
  {
   "cell_type": "markdown",
   "metadata": {},
   "source": [
    "## R session prep"
   ]
  },
  {
   "cell_type": "code",
   "execution_count": 1,
   "metadata": {},
   "outputs": [
    {
     "name": "stderr",
     "output_type": "stream",
     "text": [
      "Loading required package: NLP\n"
     ]
    }
   ],
   "source": [
    "# If you are using the jupyter/datascience-notebook docker image to run the notebooks in this repository,\n",
    "# open a terminal window and run this first:\n",
    "#\n",
    "#   conda install r-tm\n",
    "\n",
    "library(tm)\n",
    "\n",
    "options(stringsAsFactors = FALSE)"
   ]
  },
  {
   "cell_type": "markdown",
   "metadata": {},
   "source": [
    "## Data"
   ]
  },
  {
   "cell_type": "code",
   "execution_count": 2,
   "metadata": {},
   "outputs": [],
   "source": [
    "if(file.exists(\"SOTUtexts.RData\")) {\n",
    "    load(\"SOTUtexts.RData\")\n",
    "} else {\n",
    "    stop(\"Run the data notebook first\")\n",
    "}"
   ]
  },
  {
   "cell_type": "markdown",
   "metadata": {},
   "source": [
    "## Processing"
   ]
  },
  {
   "cell_type": "code",
   "execution_count": 3,
   "metadata": {},
   "outputs": [],
   "source": [
    "docs_df <- data.frame(doc_id=d$Speech, text=d$Text, d[, c(\"President\", \"Term\", \"Year\")])"
   ]
  },
  {
   "cell_type": "code",
   "execution_count": 4,
   "metadata": {},
   "outputs": [],
   "source": [
    "docs_ds <- DataframeSource(docs_df)"
   ]
  },
  {
   "cell_type": "code",
   "execution_count": 5,
   "metadata": {},
   "outputs": [
    {
     "data": {
      "text/plain": [
       "<<SimpleCorpus>>\n",
       "Metadata:  corpus specific: 1, document level (indexed): 3\n",
       "Content:  documents: 39"
      ]
     },
     "metadata": {},
     "output_type": "display_data"
    }
   ],
   "source": [
    "docs_c <- SimpleCorpus(docs_ds)\n",
    "docs_c"
   ]
  },
  {
   "cell_type": "code",
   "execution_count": 6,
   "metadata": {},
   "outputs": [
    {
     "data": {
      "text/html": [
       "<ol class=list-inline>\n",
       "\t<li>'removeNumbers'</li>\n",
       "\t<li>'removePunctuation'</li>\n",
       "\t<li>'removeWords'</li>\n",
       "\t<li>'stemDocument'</li>\n",
       "\t<li>'stripWhitespace'</li>\n",
       "</ol>\n"
      ],
      "text/latex": [
       "\\begin{enumerate*}\n",
       "\\item 'removeNumbers'\n",
       "\\item 'removePunctuation'\n",
       "\\item 'removeWords'\n",
       "\\item 'stemDocument'\n",
       "\\item 'stripWhitespace'\n",
       "\\end{enumerate*}\n"
      ],
      "text/markdown": [
       "1. 'removeNumbers'\n",
       "2. 'removePunctuation'\n",
       "3. 'removeWords'\n",
       "4. 'stemDocument'\n",
       "5. 'stripWhitespace'\n",
       "\n",
       "\n"
      ],
      "text/plain": [
       "[1] \"removeNumbers\"     \"removePunctuation\" \"removeWords\"      \n",
       "[4] \"stemDocument\"      \"stripWhitespace\"  "
      ]
     },
     "metadata": {},
     "output_type": "display_data"
    }
   ],
   "source": [
    "getTransformations()"
   ]
  },
  {
   "cell_type": "code",
   "execution_count": 7,
   "metadata": {},
   "outputs": [
    {
     "data": {
      "text/plain": [
       "<<SimpleCorpus>>\n",
       "Metadata:  corpus specific: 1, document level (indexed): 3\n",
       "Content:  documents: 39"
      ]
     },
     "metadata": {},
     "output_type": "display_data"
    }
   ],
   "source": [
    "docs_c <- tm_map(docs_c, removeNumbers)\n",
    "docs_c <- tm_map(docs_c, removePunctuation)\n",
    "docs_c <- tm_map(docs_c, stripWhitespace)\n",
    "docs_c <- tm_map(docs_c, content_transformer(tolower))\n",
    "docs_c <- tm_map(docs_c, removeWords, c(stopwords(), \"applause\"))\n",
    "\n",
    "docs_c"
   ]
  },
  {
   "cell_type": "code",
   "execution_count": 8,
   "metadata": {},
   "outputs": [
    {
     "name": "stdout",
     "output_type": "stream",
     "text": [
      "<<DocumentTermMatrix (documents: 39, terms: 10920)>>\n",
      "Non-/sparse entries: 52183/373697\n",
      "Sparsity           : 88%\n",
      "Maximal term length: 32\n",
      "Weighting          : term frequency - inverse document frequency (normalized) (tf-idf)\n",
      "Sample             :\n",
      "             Terms\n",
      "Docs             hussein         iraq       iraqi      propose   reduction\n",
      "  1981 Reagan 0.00000000 0.0000000000 0.000000000 0.0003531298 0.004743368\n",
      "  1982 Reagan 0.00000000 0.0000000000 0.000000000 0.0003011194 0.002889104\n",
      "  1986 Reagan 0.00000000 0.0000000000 0.000000000 0.0000000000 0.000000000\n",
      "  1987 Reagan 0.00000000 0.0000000000 0.000000000 0.0008484546 0.002442161\n",
      "  1988 Reagan 0.00000000 0.0000000000 0.000000000 0.0000000000 0.003096840\n",
      "  2003 GWBush 0.01945612 0.0035849161 0.004416653 0.0011416318 0.000000000\n",
      "  2007 GWBush 0.00000000 0.0057200535 0.006292111 0.0005692423 0.000000000\n",
      "  2017 Trump  0.00000000 0.0000000000 0.000000000 0.0000000000 0.000000000\n",
      "  2018 Trump  0.00000000 0.0003340228 0.000000000 0.0000000000 0.000000000\n",
      "  2019 Trump  0.00000000 0.0006699869 0.000000000 0.0000000000 0.000000000\n",
      "             Terms\n",
      "Docs              saddam       soviet       terror    terrorist      welfare\n",
      "  1981 Reagan 0.00000000 0.0005121588 0.0000000000 0.0000000000 0.0007636467\n",
      "  1982 Reagan 0.00000000 0.0021836299 0.0000000000 0.0000000000 0.0009767606\n",
      "  1986 Reagan 0.00000000 0.0025366636 0.0017715361 0.0000000000 0.0018911271\n",
      "  1987 Reagan 0.00000000 0.0061527446 0.0000000000 0.0008140537 0.0032108852\n",
      "  1988 Reagan 0.00000000 0.0009362559 0.0008718071 0.0000000000 0.0017449879\n",
      "  2003 GWBush 0.01772922 0.0004139390 0.0023126687 0.0032860314 0.0000000000\n",
      "  2007 GWBush 0.00000000 0.0000000000 0.0019219111 0.0010923243 0.0000000000\n",
      "  2017 Trump  0.00000000 0.0000000000 0.0000000000 0.0000000000 0.0003348649\n",
      "  2018 Trump  0.00000000 0.0000000000 0.0000000000 0.0010205811 0.0002875353\n",
      "  2019 Trump  0.00000000 0.0000000000 0.0003601799 0.0000000000 0.0000000000\n"
     ]
    }
   ],
   "source": [
    "docs_dtm <- DocumentTermMatrix(docs_c, control=list(weighting=weightTfIdf))\n",
    "\n",
    "inspect(docs_dtm)"
   ]
  },
  {
   "cell_type": "code",
   "execution_count": 9,
   "metadata": {},
   "outputs": [
    {
     "name": "stdout",
     "output_type": "stream",
     "text": [
      "<<TermDocumentMatrix (terms: 10920, documents: 39)>>\n",
      "Non-/sparse entries: 52183/373697\n",
      "Sparsity           : 88%\n",
      "Maximal term length: 32\n",
      "Weighting          : term frequency - inverse document frequency (normalized) (tf-idf)\n",
      "Sample             :\n",
      "           Docs\n",
      "Terms        1981 Reagan  1982 Reagan 1986 Reagan  1987 Reagan  1988 Reagan\n",
      "  hussein   0.0000000000 0.0000000000 0.000000000 0.0000000000 0.0000000000\n",
      "  iraq      0.0000000000 0.0000000000 0.000000000 0.0000000000 0.0000000000\n",
      "  iraqi     0.0000000000 0.0000000000 0.000000000 0.0000000000 0.0000000000\n",
      "  propose   0.0003531298 0.0003011194 0.000000000 0.0008484546 0.0000000000\n",
      "  reduction 0.0047433679 0.0028891041 0.000000000 0.0024421610 0.0030968396\n",
      "  saddam    0.0000000000 0.0000000000 0.000000000 0.0000000000 0.0000000000\n",
      "  soviet    0.0005121588 0.0021836299 0.002536664 0.0061527446 0.0009362559\n",
      "  terror    0.0000000000 0.0000000000 0.001771536 0.0000000000 0.0008718071\n",
      "  terrorist 0.0000000000 0.0000000000 0.000000000 0.0008140537 0.0000000000\n",
      "  welfare   0.0007636467 0.0009767606 0.001891127 0.0032108852 0.0017449879\n",
      "           Docs\n",
      "Terms       2003 GWBush  2007 GWBush   2017 Trump   2018 Trump   2019 Trump\n",
      "  hussein   0.019456119 0.0000000000 0.0000000000 0.0000000000 0.0000000000\n",
      "  iraq      0.003584916 0.0057200535 0.0000000000 0.0003340228 0.0006699869\n",
      "  iraqi     0.004416653 0.0062921110 0.0000000000 0.0000000000 0.0000000000\n",
      "  propose   0.001141632 0.0005692423 0.0000000000 0.0000000000 0.0000000000\n",
      "  reduction 0.000000000 0.0000000000 0.0000000000 0.0000000000 0.0000000000\n",
      "  saddam    0.017729217 0.0000000000 0.0000000000 0.0000000000 0.0000000000\n",
      "  soviet    0.000413939 0.0000000000 0.0000000000 0.0000000000 0.0000000000\n",
      "  terror    0.002312669 0.0019219111 0.0000000000 0.0000000000 0.0003601799\n",
      "  terrorist 0.003286031 0.0010923243 0.0000000000 0.0010205811 0.0000000000\n",
      "  welfare   0.000000000 0.0000000000 0.0003348649 0.0002875353 0.0000000000\n"
     ]
    }
   ],
   "source": [
    "docs_tdm <- TermDocumentMatrix(docs_c, control=list(weighting=weightTfIdf))\n",
    "\n",
    "inspect(docs_tdm)"
   ]
  },
  {
   "cell_type": "code",
   "execution_count": 10,
   "metadata": {},
   "outputs": [
    {
     "data": {
      "text/html": [
       "<ol class=list-inline>\n",
       "\t<li>'companies'</li>\n",
       "\t<li>'must'</li>\n",
       "\t<li>'oil'</li>\n",
       "\t<li>'propose'</li>\n",
       "\t<li>'recovery'</li>\n",
       "\t<li>'reduction'</li>\n",
       "\t<li>'soviet'</li>\n",
       "\t<li>'space'</li>\n",
       "\t<li>'thats'</li>\n",
       "\t<li>'welfare'</li>\n",
       "\t<li>'crime'</li>\n",
       "\t<li>'regime'</li>\n",
       "\t<li>'college'</li>\n",
       "\t<li>'terrorists'</li>\n",
       "\t<li>'drugs'</li>\n",
       "\t<li>'terror'</li>\n",
       "\t<li>'kids'</li>\n",
       "\t<li>'terrorist'</li>\n",
       "\t<li>'hussein'</li>\n",
       "\t<li>'iraq'</li>\n",
       "\t<li>'saddam'</li>\n",
       "\t<li>'iraqi'</li>\n",
       "\t<li>'qaida'</li>\n",
       "</ol>\n"
      ],
      "text/latex": [
       "\\begin{enumerate*}\n",
       "\\item 'companies'\n",
       "\\item 'must'\n",
       "\\item 'oil'\n",
       "\\item 'propose'\n",
       "\\item 'recovery'\n",
       "\\item 'reduction'\n",
       "\\item 'soviet'\n",
       "\\item 'space'\n",
       "\\item 'thats'\n",
       "\\item 'welfare'\n",
       "\\item 'crime'\n",
       "\\item 'regime'\n",
       "\\item 'college'\n",
       "\\item 'terrorists'\n",
       "\\item 'drugs'\n",
       "\\item 'terror'\n",
       "\\item 'kids'\n",
       "\\item 'terrorist'\n",
       "\\item 'hussein'\n",
       "\\item 'iraq'\n",
       "\\item 'saddam'\n",
       "\\item 'iraqi'\n",
       "\\item 'qaida'\n",
       "\\end{enumerate*}\n"
      ],
      "text/markdown": [
       "1. 'companies'\n",
       "2. 'must'\n",
       "3. 'oil'\n",
       "4. 'propose'\n",
       "5. 'recovery'\n",
       "6. 'reduction'\n",
       "7. 'soviet'\n",
       "8. 'space'\n",
       "9. 'thats'\n",
       "10. 'welfare'\n",
       "11. 'crime'\n",
       "12. 'regime'\n",
       "13. 'college'\n",
       "14. 'terrorists'\n",
       "15. 'drugs'\n",
       "16. 'terror'\n",
       "17. 'kids'\n",
       "18. 'terrorist'\n",
       "19. 'hussein'\n",
       "20. 'iraq'\n",
       "21. 'saddam'\n",
       "22. 'iraqi'\n",
       "23. 'qaida'\n",
       "\n",
       "\n"
      ],
      "text/plain": [
       " [1] \"companies\"  \"must\"       \"oil\"        \"propose\"    \"recovery\"  \n",
       " [6] \"reduction\"  \"soviet\"     \"space\"      \"thats\"      \"welfare\"   \n",
       "[11] \"crime\"      \"regime\"     \"college\"    \"terrorists\" \"drugs\"     \n",
       "[16] \"terror\"     \"kids\"       \"terrorist\"  \"hussein\"    \"iraq\"      \n",
       "[21] \"saddam\"     \"iraqi\"      \"qaida\"     "
      ]
     },
     "metadata": {},
     "output_type": "display_data"
    }
   ],
   "source": [
    "# Find the terms with the highest tf-idf, that is most unique to their speech.\n",
    "\n",
    "findFreqTerms(docs_tdm, lowfreq = 0.02)"
   ]
  },
  {
   "cell_type": "markdown",
   "metadata": {},
   "source": [
    "## Visualizations"
   ]
  },
  {
   "cell_type": "code",
   "execution_count": 11,
   "metadata": {},
   "outputs": [
    {
     "data": {
      "image/png": "[encoded data removed]",
      "text/plain": [
       "Plot with title “Cluster Dendrogram”"
      ]
     },
     "metadata": {},
     "output_type": "display_data"
    }
   ],
   "source": [
    "plot(hclust(dist(docs_dtm), method = \"ward.D\"))"
   ]
  },
  {
   "cell_type": "code",
   "execution_count": null,
   "metadata": {},
   "outputs": [],
   "source": []
  }
 ],
 "metadata": {
  "kernelspec": {
   "display_name": "R",
   "language": "R",
   "name": "ir"
  },
  "language_info": {
   "codemirror_mode": "r",
   "file_extension": ".r",
   "mimetype": "text/x-r-source",
   "name": "R",
   "pygments_lexer": "r",
   "version": "3.6.1"
  }
 },
 "nbformat": 4,
 "nbformat_minor": 4
}
