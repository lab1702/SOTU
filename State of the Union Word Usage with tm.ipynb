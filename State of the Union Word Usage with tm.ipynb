{
 "cells": [
  {
   "cell_type": "markdown",
   "metadata": {},
   "source": [
    "# State of the Union\n",
    "\n",
    "## Word Usage with *tm*\n",
    "\n",
    "### Created by Lars Bernhardsson\n",
    "\n",
    "I used the jupyter/datascience-notebook docker image found at https://hub.docker.com/r/jupyter/datascience-notebook when making this notebook."
   ]
  },
  {
   "cell_type": "markdown",
   "metadata": {},
   "source": [
    "## R session prep"
   ]
  },
  {
   "cell_type": "code",
   "execution_count": 1,
   "metadata": {},
   "outputs": [
    {
     "name": "stderr",
     "output_type": "stream",
     "text": [
      "Loading required package: NLP\n",
      "\n"
     ]
    }
   ],
   "source": [
    "# If you are using the jupyter/datascience-notebook docker image to run the notebooks in this repository,\n",
    "# open a terminal window and run this first:\n",
    "#\n",
    "#   conda install r-tm\n",
    "\n",
    "library(tm)\n",
    "\n",
    "options(stringsAsFactors = FALSE)"
   ]
  },
  {
   "cell_type": "markdown",
   "metadata": {},
   "source": [
    "## Data"
   ]
  },
  {
   "cell_type": "code",
   "execution_count": 2,
   "metadata": {},
   "outputs": [],
   "source": [
    "if(file.exists(\"SOTUtexts.RData\")) {\n",
    "    load(\"SOTUtexts.RData\")\n",
    "} else {\n",
    "    stop(\"Run the data notebook first\")\n",
    "}"
   ]
  },
  {
   "cell_type": "markdown",
   "metadata": {},
   "source": [
    "## Processing"
   ]
  },
  {
   "cell_type": "code",
   "execution_count": 3,
   "metadata": {},
   "outputs": [],
   "source": [
    "docs_df <- data.frame(doc_id=d$Speech, text=d$Text, d[, c(\"President\", \"Term\", \"Year\")])"
   ]
  },
  {
   "cell_type": "code",
   "execution_count": 4,
   "metadata": {},
   "outputs": [],
   "source": [
    "docs_ds <- DataframeSource(docs_df)"
   ]
  },
  {
   "cell_type": "code",
   "execution_count": 5,
   "metadata": {},
   "outputs": [
    {
     "data": {
      "text/plain": [
       "<<SimpleCorpus>>\n",
       "Metadata:  corpus specific: 1, document level (indexed): 3\n",
       "Content:  documents: 41"
      ]
     },
     "metadata": {},
     "output_type": "display_data"
    }
   ],
   "source": [
    "docs_c <- SimpleCorpus(docs_ds)\n",
    "docs_c"
   ]
  },
  {
   "cell_type": "code",
   "execution_count": 6,
   "metadata": {},
   "outputs": [
    {
     "data": {
      "text/html": [
       "<style>\n",
       ".list-inline {list-style: none; margin:0; padding: 0}\n",
       ".list-inline>li {display: inline-block}\n",
       ".list-inline>li:not(:last-child)::after {content: \"\\00b7\"; padding: 0 .5ex}\n",
       "</style>\n",
       "<ol class=list-inline><li>'removeNumbers'</li><li>'removePunctuation'</li><li>'removeWords'</li><li>'stemDocument'</li><li>'stripWhitespace'</li></ol>\n"
      ],
      "text/latex": [
       "\\begin{enumerate*}\n",
       "\\item 'removeNumbers'\n",
       "\\item 'removePunctuation'\n",
       "\\item 'removeWords'\n",
       "\\item 'stemDocument'\n",
       "\\item 'stripWhitespace'\n",
       "\\end{enumerate*}\n"
      ],
      "text/markdown": [
       "1. 'removeNumbers'\n",
       "2. 'removePunctuation'\n",
       "3. 'removeWords'\n",
       "4. 'stemDocument'\n",
       "5. 'stripWhitespace'\n",
       "\n",
       "\n"
      ],
      "text/plain": [
       "[1] \"removeNumbers\"     \"removePunctuation\" \"removeWords\"      \n",
       "[4] \"stemDocument\"      \"stripWhitespace\"  "
      ]
     },
     "metadata": {},
     "output_type": "display_data"
    }
   ],
   "source": [
    "getTransformations()"
   ]
  },
  {
   "cell_type": "code",
   "execution_count": 7,
   "metadata": {},
   "outputs": [
    {
     "data": {
      "text/plain": [
       "<<SimpleCorpus>>\n",
       "Metadata:  corpus specific: 1, document level (indexed): 3\n",
       "Content:  documents: 41"
      ]
     },
     "metadata": {},
     "output_type": "display_data"
    }
   ],
   "source": [
    "docs_c <- tm_map(docs_c, removeNumbers)\n",
    "docs_c <- tm_map(docs_c, removePunctuation)\n",
    "docs_c <- tm_map(docs_c, stripWhitespace)\n",
    "docs_c <- tm_map(docs_c, content_transformer(tolower))\n",
    "docs_c <- tm_map(docs_c, removeWords, c(stopwords(), \"applause\"))\n",
    "docs_c"
   ]
  },
  {
   "cell_type": "code",
   "execution_count": 8,
   "metadata": {},
   "outputs": [
    {
     "name": "stderr",
     "output_type": "stream",
     "text": [
      "Warning message in TermDocumentMatrix.SimpleCorpus(x, control):\n",
      "“custom functions are ignored”\n"
     ]
    },
    {
     "name": "stdout",
     "output_type": "stream",
     "text": [
      "<<DocumentTermMatrix (documents: 41, terms: 11317)>>\n",
      "Non-/sparse entries: 55413/408584\n",
      "Sparsity           : 88%\n",
      "Maximal term length: 32\n",
      "Weighting          : term frequency - inverse document frequency (normalized) (tf-idf)\n",
      "Sample             :\n",
      "             Terms\n",
      "Docs            hussein         iraq       iraqi         must      propose\n",
      "  1981 Reagan 0.0000000 0.0000000000 0.000000000 0.0006561534 0.0003565584\n",
      "  1986 Reagan 0.0000000 0.0000000000 0.000000000 0.0011026286 0.0000000000\n",
      "  1987 Reagan 0.0000000 0.0000000000 0.000000000 0.0006756517 0.0008566924\n",
      "  1988 Reagan 0.0000000 0.0000000000 0.000000000 0.0003855492 0.0000000000\n",
      "  2003 GWBush 0.0199298 0.0035785208 0.004591169 0.0006818386 0.0011527160\n",
      "  2007 GWBush 0.0000000 0.0057098493 0.006540732 0.0006799589 0.0005747692\n",
      "  2017 Trump  0.0000000 0.0000000000 0.000000000 0.0008220809 0.0000000000\n",
      "  2018 Trump  0.0000000 0.0003334269 0.000000000 0.0002470610 0.0000000000\n",
      "  2019 Trump  0.0000000 0.0006698732 0.000000000 0.0006736304 0.0000000000\n",
      "  2020 Trump  0.0000000 0.0011751761 0.000000000 0.0002487932 0.0000000000\n",
      "             Terms\n",
      "Docs             reduction    saddam       soviet       terror      welfare\n",
      "  1981 Reagan 0.0046393243 0.0000000 0.0005430052 0.0000000000 0.0007679524\n",
      "  1986 Reagan 0.0000000000 0.0000000 0.0026894424 0.0017622411 0.0019017901\n",
      "  1987 Reagan 0.0023885933 0.0000000 0.0065233136 0.0000000000 0.0032289896\n",
      "  1988 Reagan 0.0030289118 0.0000000 0.0009926449 0.0008672329 0.0017548269\n",
      "  2003 GWBush 0.0000000000 0.0182029 0.0004388698 0.0023005345 0.0000000000\n",
      "  2007 GWBush 0.0000000000 0.0000000 0.0000000000 0.0019118272 0.0000000000\n",
      "  2017 Trump  0.0000000000 0.0000000 0.0000000000 0.0000000000 0.0003367531\n",
      "  2018 Trump  0.0000000000 0.0000000 0.0000000000 0.0000000000 0.0002891566\n",
      "  2019 Trump  0.0000000000 0.0000000 0.0000000000 0.0003588695 0.0000000000\n",
      "  2020 Trump  0.0004397722 0.0000000 0.0000000000 0.0006295742 0.0002547859\n"
     ]
    }
   ],
   "source": [
    "docs_dtm <- DocumentTermMatrix(docs_c, control=list(weighting=weightTfIdf))\n",
    "\n",
    "inspect(docs_dtm)"
   ]
  },
  {
   "cell_type": "code",
   "execution_count": 9,
   "metadata": {},
   "outputs": [
    {
     "name": "stderr",
     "output_type": "stream",
     "text": [
      "Warning message in TermDocumentMatrix.SimpleCorpus(docs_c, control = list(weighting = weightTfIdf)):\n",
      "“custom functions are ignored”\n"
     ]
    },
    {
     "name": "stdout",
     "output_type": "stream",
     "text": [
      "<<TermDocumentMatrix (terms: 11317, documents: 41)>>\n",
      "Non-/sparse entries: 55413/408584\n",
      "Sparsity           : 88%\n",
      "Maximal term length: 32\n",
      "Weighting          : term frequency - inverse document frequency (normalized) (tf-idf)\n",
      "Sample             :\n",
      "           Docs\n",
      "Terms        1981 Reagan 1986 Reagan  1987 Reagan  1988 Reagan  2003 GWBush\n",
      "  hussein   0.0000000000 0.000000000 0.0000000000 0.0000000000 0.0199298045\n",
      "  iraq      0.0000000000 0.000000000 0.0000000000 0.0000000000 0.0035785208\n",
      "  iraqi     0.0000000000 0.000000000 0.0000000000 0.0000000000 0.0045911689\n",
      "  must      0.0006561534 0.001102629 0.0006756517 0.0003855492 0.0006818386\n",
      "  propose   0.0003565584 0.000000000 0.0008566924 0.0000000000 0.0011527160\n",
      "  reduction 0.0046393243 0.000000000 0.0023885933 0.0030289118 0.0000000000\n",
      "  saddam    0.0000000000 0.000000000 0.0000000000 0.0000000000 0.0182029028\n",
      "  soviet    0.0005430052 0.002689442 0.0065233136 0.0009926449 0.0004388698\n",
      "  terror    0.0000000000 0.001762241 0.0000000000 0.0008672329 0.0023005345\n",
      "  welfare   0.0007679524 0.001901790 0.0032289896 0.0017548269 0.0000000000\n",
      "           Docs\n",
      "Terms        2007 GWBush   2017 Trump   2018 Trump   2019 Trump   2020 Trump\n",
      "  hussein   0.0000000000 0.0000000000 0.0000000000 0.0000000000 0.0000000000\n",
      "  iraq      0.0057098493 0.0000000000 0.0003334269 0.0006698732 0.0011751761\n",
      "  iraqi     0.0065407319 0.0000000000 0.0000000000 0.0000000000 0.0000000000\n",
      "  must      0.0006799589 0.0008220809 0.0002470610 0.0006736304 0.0002487932\n",
      "  propose   0.0005747692 0.0000000000 0.0000000000 0.0000000000 0.0000000000\n",
      "  reduction 0.0000000000 0.0000000000 0.0000000000 0.0000000000 0.0004397722\n",
      "  saddam    0.0000000000 0.0000000000 0.0000000000 0.0000000000 0.0000000000\n",
      "  soviet    0.0000000000 0.0000000000 0.0000000000 0.0000000000 0.0000000000\n",
      "  terror    0.0019118272 0.0000000000 0.0000000000 0.0003588695 0.0006295742\n",
      "  welfare   0.0000000000 0.0003367531 0.0002891566 0.0000000000 0.0002547859\n"
     ]
    }
   ],
   "source": [
    "docs_tdm <- TermDocumentMatrix(docs_c, control=list(weighting=weightTfIdf))\n",
    "\n",
    "inspect(docs_tdm)"
   ]
  },
  {
   "cell_type": "code",
   "execution_count": 10,
   "metadata": {},
   "outputs": [
    {
     "data": {
      "text/html": [
       "<style>\n",
       ".list-inline {list-style: none; margin:0; padding: 0}\n",
       ".list-inline>li {display: inline-block}\n",
       ".list-inline>li:not(:last-child)::after {content: \"\\00b7\"; padding: 0 .5ex}\n",
       "</style>\n",
       "<ol class=list-inline><li>'companies'</li><li>'industry'</li><li>'inflation'</li><li>'must'</li><li>'oil'</li><li>'propose'</li><li>'recovery'</li><li>'reduction'</li><li>'soviet'</li><li>'space'</li><li>'thats'</li><li>'welfare'</li><li>'regime'</li><li>'college'</li><li>'usa'</li><li>'revolution'</li><li>'terrorists'</li><li>'drugs'</li><li>'terror'</li><li>'kids'</li><li>'terrorist'</li><li>'border'</li><li>'hussein'</li><li>'iraq'</li><li>'saddam'</li><li>'iraqi'</li><li>'gun'</li><li>'qaida'</li><li>'iraqis'</li></ol>\n"
      ],
      "text/latex": [
       "\\begin{enumerate*}\n",
       "\\item 'companies'\n",
       "\\item 'industry'\n",
       "\\item 'inflation'\n",
       "\\item 'must'\n",
       "\\item 'oil'\n",
       "\\item 'propose'\n",
       "\\item 'recovery'\n",
       "\\item 'reduction'\n",
       "\\item 'soviet'\n",
       "\\item 'space'\n",
       "\\item 'thats'\n",
       "\\item 'welfare'\n",
       "\\item 'regime'\n",
       "\\item 'college'\n",
       "\\item 'usa'\n",
       "\\item 'revolution'\n",
       "\\item 'terrorists'\n",
       "\\item 'drugs'\n",
       "\\item 'terror'\n",
       "\\item 'kids'\n",
       "\\item 'terrorist'\n",
       "\\item 'border'\n",
       "\\item 'hussein'\n",
       "\\item 'iraq'\n",
       "\\item 'saddam'\n",
       "\\item 'iraqi'\n",
       "\\item 'gun'\n",
       "\\item 'qaida'\n",
       "\\item 'iraqis'\n",
       "\\end{enumerate*}\n"
      ],
      "text/markdown": [
       "1. 'companies'\n",
       "2. 'industry'\n",
       "3. 'inflation'\n",
       "4. 'must'\n",
       "5. 'oil'\n",
       "6. 'propose'\n",
       "7. 'recovery'\n",
       "8. 'reduction'\n",
       "9. 'soviet'\n",
       "10. 'space'\n",
       "11. 'thats'\n",
       "12. 'welfare'\n",
       "13. 'regime'\n",
       "14. 'college'\n",
       "15. 'usa'\n",
       "16. 'revolution'\n",
       "17. 'terrorists'\n",
       "18. 'drugs'\n",
       "19. 'terror'\n",
       "20. 'kids'\n",
       "21. 'terrorist'\n",
       "22. 'border'\n",
       "23. 'hussein'\n",
       "24. 'iraq'\n",
       "25. 'saddam'\n",
       "26. 'iraqi'\n",
       "27. 'gun'\n",
       "28. 'qaida'\n",
       "29. 'iraqis'\n",
       "\n",
       "\n"
      ],
      "text/plain": [
       " [1] \"companies\"  \"industry\"   \"inflation\"  \"must\"       \"oil\"       \n",
       " [6] \"propose\"    \"recovery\"   \"reduction\"  \"soviet\"     \"space\"     \n",
       "[11] \"thats\"      \"welfare\"    \"regime\"     \"college\"    \"usa\"       \n",
       "[16] \"revolution\" \"terrorists\" \"drugs\"      \"terror\"     \"kids\"      \n",
       "[21] \"terrorist\"  \"border\"     \"hussein\"    \"iraq\"       \"saddam\"    \n",
       "[26] \"iraqi\"      \"gun\"        \"qaida\"      \"iraqis\"    "
      ]
     },
     "metadata": {},
     "output_type": "display_data"
    }
   ],
   "source": [
    "# Find the terms with the highest tf-idf, that is most unique to their speech.\n",
    "\n",
    "findFreqTerms(docs_tdm, lowfreq = 0.02)"
   ]
  },
  {
   "cell_type": "markdown",
   "metadata": {},
   "source": [
    "## Visualizations"
   ]
  },
  {
   "cell_type": "code",
   "execution_count": 11,
   "metadata": {},
   "outputs": [
    {
     "data": {
      "image/png": "[encoded data removed]",
      "text/plain": [
       "Plot with title “Cluster Dendrogram”"
      ]
     },
     "metadata": {
      "image/png": {
       "height": 420,
       "width": 420
      }
     },
     "output_type": "display_data"
    }
   ],
   "source": [
    "plot(hclust(dist(docs_dtm), method = \"ward.D\"))"
   ]
  },
  {
   "cell_type": "code",
   "execution_count": null,
   "metadata": {},
   "outputs": [],
   "source": []
  }
 ],
 "metadata": {
  "kernelspec": {
   "display_name": "R",
   "language": "R",
   "name": "ir"
  },
  "language_info": {
   "codemirror_mode": "r",
   "file_extension": ".r",
   "mimetype": "text/x-r-source",
   "name": "R",
   "pygments_lexer": "r",
   "version": "4.0.3"
  }
 },
 "nbformat": 4,
 "nbformat_minor": 4
}
