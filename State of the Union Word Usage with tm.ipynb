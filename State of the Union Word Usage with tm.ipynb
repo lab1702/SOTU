{
 "cells": [
  {
   "cell_type": "markdown",
   "metadata": {},
   "source": [
    "# State of the Union\n",
    "\n",
    "## Word Usage with *tm*\n",
    "\n",
    "### Created by Lars Bernhardsson\n",
    "\n",
    "I used the jupyter/datascience-notebook docker image found at https://hub.docker.com/r/jupyter/datascience-notebook when making this notebook."
   ]
  },
  {
   "cell_type": "markdown",
   "metadata": {},
   "source": [
    "## R session prep"
   ]
  },
  {
   "cell_type": "code",
   "execution_count": 1,
   "metadata": {},
   "outputs": [
    {
     "name": "stderr",
     "output_type": "stream",
     "text": [
      "Loading required package: NLP\n",
      "\n"
     ]
    }
   ],
   "source": [
    "# If you are using the jupyter/datascience-notebook docker image to run the notebooks in this repository,\n",
    "# open a terminal window and run this first:\n",
    "#\n",
    "#   conda install r-tm\n",
    "\n",
    "library(tm)\n",
    "\n",
    "options(stringsAsFactors = FALSE)"
   ]
  },
  {
   "cell_type": "markdown",
   "metadata": {},
   "source": [
    "## Data"
   ]
  },
  {
   "cell_type": "code",
   "execution_count": 2,
   "metadata": {},
   "outputs": [],
   "source": [
    "if(file.exists(\"SOTUtexts.RData\")) {\n",
    "    load(\"SOTUtexts.RData\")\n",
    "} else {\n",
    "    stop(\"Run the data notebook first\")\n",
    "}"
   ]
  },
  {
   "cell_type": "markdown",
   "metadata": {},
   "source": [
    "## Processing"
   ]
  },
  {
   "cell_type": "code",
   "execution_count": 3,
   "metadata": {},
   "outputs": [],
   "source": [
    "docs_df <- data.frame(doc_id=d$Speech, text=d$Text, d[, c(\"President\", \"Term\", \"Year\")])"
   ]
  },
  {
   "cell_type": "code",
   "execution_count": 4,
   "metadata": {},
   "outputs": [],
   "source": [
    "docs_ds <- DataframeSource(docs_df)"
   ]
  },
  {
   "cell_type": "code",
   "execution_count": 5,
   "metadata": {},
   "outputs": [
    {
     "data": {
      "text/plain": [
       "<<SimpleCorpus>>\n",
       "Metadata:  corpus specific: 1, document level (indexed): 3\n",
       "Content:  documents: 40"
      ]
     },
     "metadata": {},
     "output_type": "display_data"
    }
   ],
   "source": [
    "docs_c <- SimpleCorpus(docs_ds)\n",
    "docs_c"
   ]
  },
  {
   "cell_type": "code",
   "execution_count": 6,
   "metadata": {},
   "outputs": [
    {
     "data": {
      "text/html": [
       "<style>\n",
       ".list-inline {list-style: none; margin:0; padding: 0}\n",
       ".list-inline>li {display: inline-block}\n",
       ".list-inline>li:not(:last-child)::after {content: \"\\00b7\"; padding: 0 .5ex}\n",
       "</style>\n",
       "<ol class=list-inline><li>'removeNumbers'</li><li>'removePunctuation'</li><li>'removeWords'</li><li>'stemDocument'</li><li>'stripWhitespace'</li></ol>\n"
      ],
      "text/latex": [
       "\\begin{enumerate*}\n",
       "\\item 'removeNumbers'\n",
       "\\item 'removePunctuation'\n",
       "\\item 'removeWords'\n",
       "\\item 'stemDocument'\n",
       "\\item 'stripWhitespace'\n",
       "\\end{enumerate*}\n"
      ],
      "text/markdown": [
       "1. 'removeNumbers'\n",
       "2. 'removePunctuation'\n",
       "3. 'removeWords'\n",
       "4. 'stemDocument'\n",
       "5. 'stripWhitespace'\n",
       "\n",
       "\n"
      ],
      "text/plain": [
       "[1] \"removeNumbers\"     \"removePunctuation\" \"removeWords\"      \n",
       "[4] \"stemDocument\"      \"stripWhitespace\"  "
      ]
     },
     "metadata": {},
     "output_type": "display_data"
    }
   ],
   "source": [
    "getTransformations()"
   ]
  },
  {
   "cell_type": "code",
   "execution_count": 7,
   "metadata": {},
   "outputs": [
    {
     "data": {
      "text/plain": [
       "<<SimpleCorpus>>\n",
       "Metadata:  corpus specific: 1, document level (indexed): 3\n",
       "Content:  documents: 40"
      ]
     },
     "metadata": {},
     "output_type": "display_data"
    }
   ],
   "source": [
    "docs_c <- tm_map(docs_c, removeNumbers)\n",
    "docs_c <- tm_map(docs_c, removePunctuation)\n",
    "docs_c <- tm_map(docs_c, stripWhitespace)\n",
    "docs_c <- tm_map(docs_c, content_transformer(tolower))\n",
    "docs_c <- tm_map(docs_c, removeWords, c(stopwords(), \"applause\"))\n",
    "docs_c"
   ]
  },
  {
   "cell_type": "code",
   "execution_count": 8,
   "metadata": {},
   "outputs": [
    {
     "name": "stdout",
     "output_type": "stream",
     "text": [
      "<<DocumentTermMatrix (documents: 40, terms: 11115)>>\n",
      "Non-/sparse entries: 53827/390773\n",
      "Sparsity           : 88%\n",
      "Maximal term length: 32\n",
      "Weighting          : term frequency - inverse document frequency (normalized) (tf-idf)\n",
      "Sample             :\n",
      "             Terms\n",
      "Docs             hussein         iraq       iraqi      propose    reduction\n",
      "  1981 Reagan 0.00000000 0.0000000000 0.000000000 0.0003687458 0.0045327115\n",
      "  1986 Reagan 0.00000000 0.0000000000 0.000000000 0.0000000000 0.0000000000\n",
      "  1987 Reagan 0.00000000 0.0000000000 0.000000000 0.0008859748 0.0023337029\n",
      "  1988 Reagan 0.00000000 0.0000000000 0.000000000 0.0000000000 0.0029593067\n",
      "  2003 GWBush 0.01969592 0.0034554250 0.004505002 0.0011921168 0.0000000000\n",
      "  2007 GWBush 0.00000000 0.0055134390 0.006417975 0.0005944152 0.0000000000\n",
      "  2017 Trump  0.00000000 0.0000000000 0.000000000 0.0000000000 0.0000000000\n",
      "  2018 Trump  0.00000000 0.0003219575 0.000000000 0.0000000000 0.0000000000\n",
      "  2019 Trump  0.00000000 0.0006457862 0.000000000 0.0000000000 0.0000000000\n",
      "  2020 Trump  0.00000000 0.0011283498 0.000000000 0.0000000000 0.0004272421\n",
      "             Terms\n",
      "Docs              saddam       soviet       terror    terrorist      welfare\n",
      "  1981 Reagan 0.00000000 0.0005277748 0.0000000000 0.0000000000 0.0007374916\n",
      "  1986 Reagan 0.00000000 0.0026140079 0.0017056653 0.0000000000 0.0018263557\n",
      "  1987 Reagan 0.00000000 0.0063403454 0.0000000000 0.0007779010 0.0031009118\n",
      "  1988 Reagan 0.00000000 0.0009648029 0.0008393908 0.0000000000 0.0016852217\n",
      "  2003 GWBush 0.01796902 0.0004265602 0.0022266771 0.0031400964 0.0000000000\n",
      "  2007 GWBush 0.00000000 0.0000000000 0.0018504490 0.0010438134 0.0000000000\n",
      "  2017 Trump  0.00000000 0.0000000000 0.0000000000 0.0000000000 0.0003233958\n",
      "  2018 Trump  0.00000000 0.0000000000 0.0000000000 0.0009752564 0.0002776872\n",
      "  2019 Trump  0.00000000 0.0000000000 0.0003467874 0.0000000000 0.0000000000\n",
      "  2020 Trump  0.00000000 0.0000000000 0.0006059242 0.0008544842 0.0002432994\n"
     ]
    }
   ],
   "source": [
    "docs_dtm <- DocumentTermMatrix(docs_c, control=list(weighting=weightTfIdf))\n",
    "\n",
    "inspect(docs_dtm)"
   ]
  },
  {
   "cell_type": "code",
   "execution_count": 9,
   "metadata": {},
   "outputs": [
    {
     "name": "stdout",
     "output_type": "stream",
     "text": [
      "<<TermDocumentMatrix (terms: 11115, documents: 40)>>\n",
      "Non-/sparse entries: 53827/390773\n",
      "Sparsity           : 88%\n",
      "Maximal term length: 32\n",
      "Weighting          : term frequency - inverse document frequency (normalized) (tf-idf)\n",
      "Sample             :\n",
      "           Docs\n",
      "Terms        1981 Reagan 1986 Reagan  1987 Reagan  1988 Reagan  2003 GWBush\n",
      "  hussein   0.0000000000 0.000000000 0.0000000000 0.0000000000 0.0196959226\n",
      "  iraq      0.0000000000 0.000000000 0.0000000000 0.0000000000 0.0034554250\n",
      "  iraqi     0.0000000000 0.000000000 0.0000000000 0.0000000000 0.0045050018\n",
      "  propose   0.0003687458 0.000000000 0.0008859748 0.0000000000 0.0011921168\n",
      "  reduction 0.0045327115 0.000000000 0.0023337029 0.0029593067 0.0000000000\n",
      "  saddam    0.0000000000 0.000000000 0.0000000000 0.0000000000 0.0179690208\n",
      "  soviet    0.0005277748 0.002614008 0.0063403454 0.0009648029 0.0004265602\n",
      "  terror    0.0000000000 0.001705665 0.0000000000 0.0008393908 0.0022266771\n",
      "  terrorist 0.0000000000 0.000000000 0.0007779010 0.0000000000 0.0031400964\n",
      "  welfare   0.0007374916 0.001826356 0.0031009118 0.0016852217 0.0000000000\n",
      "           Docs\n",
      "Terms        2007 GWBush   2017 Trump   2018 Trump   2019 Trump   2020 Trump\n",
      "  hussein   0.0000000000 0.0000000000 0.0000000000 0.0000000000 0.0000000000\n",
      "  iraq      0.0055134390 0.0000000000 0.0003219575 0.0006457862 0.0011283498\n",
      "  iraqi     0.0064179755 0.0000000000 0.0000000000 0.0000000000 0.0000000000\n",
      "  propose   0.0005944152 0.0000000000 0.0000000000 0.0000000000 0.0000000000\n",
      "  reduction 0.0000000000 0.0000000000 0.0000000000 0.0000000000 0.0004272421\n",
      "  saddam    0.0000000000 0.0000000000 0.0000000000 0.0000000000 0.0000000000\n",
      "  soviet    0.0000000000 0.0000000000 0.0000000000 0.0000000000 0.0000000000\n",
      "  terror    0.0018504490 0.0000000000 0.0000000000 0.0003467874 0.0006059242\n",
      "  terrorist 0.0010438134 0.0000000000 0.0009752564 0.0000000000 0.0008544842\n",
      "  welfare   0.0000000000 0.0003233958 0.0002776872 0.0000000000 0.0002432994\n"
     ]
    }
   ],
   "source": [
    "docs_tdm <- TermDocumentMatrix(docs_c, control=list(weighting=weightTfIdf))\n",
    "\n",
    "inspect(docs_tdm)"
   ]
  },
  {
   "cell_type": "code",
   "execution_count": 10,
   "metadata": {},
   "outputs": [
    {
     "data": {
      "text/html": [
       "<style>\n",
       ".list-inline {list-style: none; margin:0; padding: 0}\n",
       ".list-inline>li {display: inline-block}\n",
       ".list-inline>li:not(:last-child)::after {content: \"\\00b7\"; padding: 0 .5ex}\n",
       "</style>\n",
       "<ol class=list-inline><li>'companies'</li><li>'industry'</li><li>'must'</li><li>'oil'</li><li>'propose'</li><li>'recovery'</li><li>'reduction'</li><li>'soviet'</li><li>'space'</li><li>'thats'</li><li>'welfare'</li><li>'—'</li><li>'crime'</li><li>'regime'</li><li>'college'</li><li>'usa'</li><li>'terrorists'</li><li>'drugs'</li><li>'terror'</li><li>'kids'</li><li>'terrorist'</li><li>'border'</li><li>'hussein'</li><li>'iraq'</li><li>'saddam'</li><li>'iraqi'</li><li>'qaida'</li></ol>\n"
      ],
      "text/latex": [
       "\\begin{enumerate*}\n",
       "\\item 'companies'\n",
       "\\item 'industry'\n",
       "\\item 'must'\n",
       "\\item 'oil'\n",
       "\\item 'propose'\n",
       "\\item 'recovery'\n",
       "\\item 'reduction'\n",
       "\\item 'soviet'\n",
       "\\item 'space'\n",
       "\\item 'thats'\n",
       "\\item 'welfare'\n",
       "\\item '—'\n",
       "\\item 'crime'\n",
       "\\item 'regime'\n",
       "\\item 'college'\n",
       "\\item 'usa'\n",
       "\\item 'terrorists'\n",
       "\\item 'drugs'\n",
       "\\item 'terror'\n",
       "\\item 'kids'\n",
       "\\item 'terrorist'\n",
       "\\item 'border'\n",
       "\\item 'hussein'\n",
       "\\item 'iraq'\n",
       "\\item 'saddam'\n",
       "\\item 'iraqi'\n",
       "\\item 'qaida'\n",
       "\\end{enumerate*}\n"
      ],
      "text/markdown": [
       "1. 'companies'\n",
       "2. 'industry'\n",
       "3. 'must'\n",
       "4. 'oil'\n",
       "5. 'propose'\n",
       "6. 'recovery'\n",
       "7. 'reduction'\n",
       "8. 'soviet'\n",
       "9. 'space'\n",
       "10. 'thats'\n",
       "11. 'welfare'\n",
       "12. '—'\n",
       "13. 'crime'\n",
       "14. 'regime'\n",
       "15. 'college'\n",
       "16. 'usa'\n",
       "17. 'terrorists'\n",
       "18. 'drugs'\n",
       "19. 'terror'\n",
       "20. 'kids'\n",
       "21. 'terrorist'\n",
       "22. 'border'\n",
       "23. 'hussein'\n",
       "24. 'iraq'\n",
       "25. 'saddam'\n",
       "26. 'iraqi'\n",
       "27. 'qaida'\n",
       "\n",
       "\n"
      ],
      "text/plain": [
       " [1] \"companies\"  \"industry\"   \"must\"       \"oil\"        \"propose\"   \n",
       " [6] \"recovery\"   \"reduction\"  \"soviet\"     \"space\"      \"thats\"     \n",
       "[11] \"welfare\"    \"—\"          \"crime\"      \"regime\"     \"college\"   \n",
       "[16] \"usa\"        \"terrorists\" \"drugs\"      \"terror\"     \"kids\"      \n",
       "[21] \"terrorist\"  \"border\"     \"hussein\"    \"iraq\"       \"saddam\"    \n",
       "[26] \"iraqi\"      \"qaida\"     "
      ]
     },
     "metadata": {},
     "output_type": "display_data"
    }
   ],
   "source": [
    "# Find the terms with the highest tf-idf, that is most unique to their speech.\n",
    "\n",
    "findFreqTerms(docs_tdm, lowfreq = 0.02)"
   ]
  },
  {
   "cell_type": "markdown",
   "metadata": {},
   "source": [
    "## Visualizations"
   ]
  },
  {
   "cell_type": "code",
   "execution_count": 11,
   "metadata": {},
   "outputs": [
    {
     "data": {
      "image/png": "[encoded data removed]",
      "text/plain": [
       "Plot with title “Cluster Dendrogram”"
      ]
     },
     "metadata": {
      "image/png": {
       "height": 420,
       "width": 420
      },
      "text/plain": {
       "height": 420,
       "width": 420
      }
     },
     "output_type": "display_data"
    }
   ],
   "source": [
    "plot(hclust(dist(docs_dtm), method = \"ward.D\"))"
   ]
  },
  {
   "cell_type": "code",
   "execution_count": null,
   "metadata": {},
   "outputs": [],
   "source": []
  }
 ],
 "metadata": {
  "kernelspec": {
   "display_name": "R",
   "language": "R",
   "name": "ir"
  },
  "language_info": {
   "codemirror_mode": "r",
   "file_extension": ".r",
   "mimetype": "text/x-r-source",
   "name": "R",
   "pygments_lexer": "r",
   "version": "3.6.2"
  }
 },
 "nbformat": 4,
 "nbformat_minor": 4
}
