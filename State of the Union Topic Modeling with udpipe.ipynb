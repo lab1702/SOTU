{
 "cells": [
  {
   "cell_type": "markdown",
   "metadata": {},
   "source": [
    "# State of the Union\n",
    "\n",
    "## Topic Modeling With *udpipe*\n",
    "\n",
    "### Created by Lars Bernhardsson\n",
    "\n",
    "I used the jupyter/datascience-notebook docker image found at https://hub.docker.com/r/jupyter/datascience-notebook when making this notebook."
   ]
  },
  {
   "cell_type": "markdown",
   "metadata": {},
   "source": [
    "## R session prep"
   ]
  },
  {
   "cell_type": "code",
   "execution_count": 1,
   "metadata": {},
   "outputs": [
    {
     "name": "stderr",
     "output_type": "stream",
     "text": [
      "── \u001b[1mAttaching packages\u001b[22m ─────────────────────────────────────────────────────────────────────────────── tidyverse 1.3.1 ──\n",
      "\n",
      "\u001b[32m✔\u001b[39m \u001b[34mggplot2\u001b[39m 3.3.3     \u001b[32m✔\u001b[39m \u001b[34mpurrr  \u001b[39m 0.3.4\n",
      "\u001b[32m✔\u001b[39m \u001b[34mtibble \u001b[39m 3.1.0     \u001b[32m✔\u001b[39m \u001b[34mdplyr  \u001b[39m 1.0.5\n",
      "\u001b[32m✔\u001b[39m \u001b[34mtidyr  \u001b[39m 1.1.3     \u001b[32m✔\u001b[39m \u001b[34mstringr\u001b[39m 1.4.0\n",
      "\u001b[32m✔\u001b[39m \u001b[34mreadr  \u001b[39m 1.4.0     \u001b[32m✔\u001b[39m \u001b[34mforcats\u001b[39m 0.5.1\n",
      "\n",
      "── \u001b[1mConflicts\u001b[22m ────────────────────────────────────────────────────────────────────────────────── tidyverse_conflicts() ──\n",
      "\u001b[31m✖\u001b[39m \u001b[34mdplyr\u001b[39m::\u001b[32mfilter()\u001b[39m masks \u001b[34mstats\u001b[39m::filter()\n",
      "\u001b[31m✖\u001b[39m \u001b[34mdplyr\u001b[39m::\u001b[32mlag()\u001b[39m    masks \u001b[34mstats\u001b[39m::lag()\n",
      "\n"
     ]
    }
   ],
   "source": [
    "# If you are using the jupyter/datascience-notebook docker image to run the notebooks in this repository,\n",
    "# open a terminal window and run this first:\n",
    "#\n",
    "#   R -e 'install.packages(\"udpipe\", repos=\"https://cran.r-project.org\")'\n",
    "\n",
    "library(tidyverse)\n",
    "library(udpipe)\n",
    "\n",
    "options(stringsAsFactors = FALSE)"
   ]
  },
  {
   "cell_type": "markdown",
   "metadata": {},
   "source": [
    "## Setting up udpipe"
   ]
  },
  {
   "cell_type": "code",
   "execution_count": 2,
   "metadata": {},
   "outputs": [
    {
     "name": "stderr",
     "output_type": "stream",
     "text": [
      "Downloading udpipe model from https://raw.githubusercontent.com/jwijffels/udpipe.models.ud.2.5/master/inst/udpipe-ud-2.5-191206/english-ewt-ud-2.5-191206.udpipe to /home/jovyan/work/SOTU/english-ewt-ud-2.5-191206.udpipe\n",
      "\n",
      " - This model has been trained on version 2.5 of data from https://universaldependencies.org\n",
      "\n",
      " - The model is distributed under the CC-BY-SA-NC license: https://creativecommons.org/licenses/by-nc-sa/4.0\n",
      "\n",
      " - Visit https://github.com/jwijffels/udpipe.models.ud.2.5 for model license details.\n",
      "\n",
      " - For a list of all models and their licenses (most models you can download with this package have either a CC-BY-SA or a CC-BY-SA-NC license) read the documentation at ?udpipe_download_model. For building your own models: visit the documentation by typing vignette('udpipe-train', package = 'udpipe')\n",
      "\n",
      "Downloading finished, model stored at '/home/jovyan/work/SOTU/english-ewt-ud-2.5-191206.udpipe'\n",
      "\n"
     ]
    }
   ],
   "source": [
    "en <- udpipe_download_model(\"english\")"
   ]
  },
  {
   "cell_type": "code",
   "execution_count": 3,
   "metadata": {},
   "outputs": [],
   "source": [
    "model <- udpipe_load_model(en$file_model)"
   ]
  },
  {
   "cell_type": "markdown",
   "metadata": {},
   "source": [
    "## Data"
   ]
  },
  {
   "cell_type": "code",
   "execution_count": 4,
   "metadata": {},
   "outputs": [],
   "source": [
    "if(file.exists(\"SOTUtexts.RData\")) {\n",
    "    load(\"SOTUtexts.RData\")\n",
    "} else {\n",
    "    stop(\"Run the data notebook first\")\n",
    "}"
   ]
  },
  {
   "cell_type": "markdown",
   "metadata": {},
   "source": [
    "## Processing"
   ]
  },
  {
   "cell_type": "code",
   "execution_count": 5,
   "metadata": {},
   "outputs": [],
   "source": [
    "docs <- udpipe_annotate(model, d$Text, doc_id=d$Speech)"
   ]
  },
  {
   "cell_type": "code",
   "execution_count": 6,
   "metadata": {},
   "outputs": [],
   "source": [
    "docs_df <- as.data.frame(docs)"
   ]
  },
  {
   "cell_type": "code",
   "execution_count": 7,
   "metadata": {},
   "outputs": [
    {
     "data": {
      "text/html": [
       "<table class=\"dataframe\">\n",
       "<caption>A data.frame: 6 × 14</caption>\n",
       "<thead>\n",
       "\t<tr><th></th><th scope=col>doc_id</th><th scope=col>paragraph_id</th><th scope=col>sentence_id</th><th scope=col>sentence</th><th scope=col>token_id</th><th scope=col>token</th><th scope=col>lemma</th><th scope=col>upos</th><th scope=col>xpos</th><th scope=col>feats</th><th scope=col>head_token_id</th><th scope=col>dep_rel</th><th scope=col>deps</th><th scope=col>misc</th></tr>\n",
       "\t<tr><th></th><th scope=col>&lt;chr&gt;</th><th scope=col>&lt;int&gt;</th><th scope=col>&lt;int&gt;</th><th scope=col>&lt;chr&gt;</th><th scope=col>&lt;chr&gt;</th><th scope=col>&lt;chr&gt;</th><th scope=col>&lt;chr&gt;</th><th scope=col>&lt;chr&gt;</th><th scope=col>&lt;chr&gt;</th><th scope=col>&lt;chr&gt;</th><th scope=col>&lt;chr&gt;</th><th scope=col>&lt;chr&gt;</th><th scope=col>&lt;chr&gt;</th><th scope=col>&lt;chr&gt;</th></tr>\n",
       "</thead>\n",
       "<tbody>\n",
       "\t<tr><th scope=row>1</th><td>1981 Reagan</td><td>1</td><td>1</td><td>Mr. Speaker, Mr. President, distinguished Members of Congress, honored guests, and fellow citizens:</td><td>1</td><td>Mr.      </td><td>Mr.      </td><td>PROPN</td><td>NNP</td><td>Number=Sing</td><td>12</td><td>nsubj</td><td>NA</td><td>SpacesBefore=\\n\\s\\s\\s\\s</td></tr>\n",
       "\t<tr><th scope=row>2</th><td>1981 Reagan</td><td>1</td><td>1</td><td>Mr. Speaker, Mr. President, distinguished Members of Congress, honored guests, and fellow citizens:</td><td>2</td><td>Speaker  </td><td>speaker  </td><td>PROPN</td><td>NNP</td><td>Number=Sing</td><td>1 </td><td>flat </td><td>NA</td><td>SpaceAfter=No               </td></tr>\n",
       "\t<tr><th scope=row>3</th><td>1981 Reagan</td><td>1</td><td>1</td><td>Mr. Speaker, Mr. President, distinguished Members of Congress, honored guests, and fellow citizens:</td><td>3</td><td>,        </td><td>,        </td><td>PUNCT</td><td>,  </td><td>NA         </td><td>1 </td><td>punct</td><td>NA</td><td>NA                          </td></tr>\n",
       "\t<tr><th scope=row>4</th><td>1981 Reagan</td><td>1</td><td>1</td><td>Mr. Speaker, Mr. President, distinguished Members of Congress, honored guests, and fellow citizens:</td><td>4</td><td>Mr.      </td><td>Mr.      </td><td>PROPN</td><td>NNP</td><td>Number=Sing</td><td>1 </td><td>conj </td><td>NA</td><td>NA                          </td></tr>\n",
       "\t<tr><th scope=row>5</th><td>1981 Reagan</td><td>1</td><td>1</td><td>Mr. Speaker, Mr. President, distinguished Members of Congress, honored guests, and fellow citizens:</td><td>5</td><td>President</td><td>President</td><td>PROPN</td><td>NNP</td><td>Number=Sing</td><td>4 </td><td>flat </td><td>NA</td><td>SpaceAfter=No               </td></tr>\n",
       "\t<tr><th scope=row>6</th><td>1981 Reagan</td><td>1</td><td>1</td><td>Mr. Speaker, Mr. President, distinguished Members of Congress, honored guests, and fellow citizens:</td><td>6</td><td>,        </td><td>,        </td><td>PUNCT</td><td>,  </td><td>NA         </td><td>4 </td><td>punct</td><td>NA</td><td>NA                          </td></tr>\n",
       "</tbody>\n",
       "</table>\n"
      ],
      "text/latex": [
       "A data.frame: 6 × 14\n",
       "\\begin{tabular}{r|llllllllllllll}\n",
       "  & doc\\_id & paragraph\\_id & sentence\\_id & sentence & token\\_id & token & lemma & upos & xpos & feats & head\\_token\\_id & dep\\_rel & deps & misc\\\\\n",
       "  & <chr> & <int> & <int> & <chr> & <chr> & <chr> & <chr> & <chr> & <chr> & <chr> & <chr> & <chr> & <chr> & <chr>\\\\\n",
       "\\hline\n",
       "\t1 & 1981 Reagan & 1 & 1 & Mr. Speaker, Mr. President, distinguished Members of Congress, honored guests, and fellow citizens: & 1 & Mr.       & Mr.       & PROPN & NNP & Number=Sing & 12 & nsubj & NA & SpacesBefore=\\textbackslash{}n\\textbackslash{}s\\textbackslash{}s\\textbackslash{}s\\textbackslash{}s\\\\\n",
       "\t2 & 1981 Reagan & 1 & 1 & Mr. Speaker, Mr. President, distinguished Members of Congress, honored guests, and fellow citizens: & 2 & Speaker   & speaker   & PROPN & NNP & Number=Sing & 1  & flat  & NA & SpaceAfter=No               \\\\\n",
       "\t3 & 1981 Reagan & 1 & 1 & Mr. Speaker, Mr. President, distinguished Members of Congress, honored guests, and fellow citizens: & 3 & ,         & ,         & PUNCT & ,   & NA          & 1  & punct & NA & NA                          \\\\\n",
       "\t4 & 1981 Reagan & 1 & 1 & Mr. Speaker, Mr. President, distinguished Members of Congress, honored guests, and fellow citizens: & 4 & Mr.       & Mr.       & PROPN & NNP & Number=Sing & 1  & conj  & NA & NA                          \\\\\n",
       "\t5 & 1981 Reagan & 1 & 1 & Mr. Speaker, Mr. President, distinguished Members of Congress, honored guests, and fellow citizens: & 5 & President & President & PROPN & NNP & Number=Sing & 4  & flat  & NA & SpaceAfter=No               \\\\\n",
       "\t6 & 1981 Reagan & 1 & 1 & Mr. Speaker, Mr. President, distinguished Members of Congress, honored guests, and fellow citizens: & 6 & ,         & ,         & PUNCT & ,   & NA          & 4  & punct & NA & NA                          \\\\\n",
       "\\end{tabular}\n"
      ],
      "text/markdown": [
       "\n",
       "A data.frame: 6 × 14\n",
       "\n",
       "| <!--/--> | doc_id &lt;chr&gt; | paragraph_id &lt;int&gt; | sentence_id &lt;int&gt; | sentence &lt;chr&gt; | token_id &lt;chr&gt; | token &lt;chr&gt; | lemma &lt;chr&gt; | upos &lt;chr&gt; | xpos &lt;chr&gt; | feats &lt;chr&gt; | head_token_id &lt;chr&gt; | dep_rel &lt;chr&gt; | deps &lt;chr&gt; | misc &lt;chr&gt; |\n",
       "|---|---|---|---|---|---|---|---|---|---|---|---|---|---|---|\n",
       "| 1 | 1981 Reagan | 1 | 1 | Mr. Speaker, Mr. President, distinguished Members of Congress, honored guests, and fellow citizens: | 1 | Mr.       | Mr.       | PROPN | NNP | Number=Sing | 12 | nsubj | NA | SpacesBefore=\\n\\s\\s\\s\\s |\n",
       "| 2 | 1981 Reagan | 1 | 1 | Mr. Speaker, Mr. President, distinguished Members of Congress, honored guests, and fellow citizens: | 2 | Speaker   | speaker   | PROPN | NNP | Number=Sing | 1  | flat  | NA | SpaceAfter=No                |\n",
       "| 3 | 1981 Reagan | 1 | 1 | Mr. Speaker, Mr. President, distinguished Members of Congress, honored guests, and fellow citizens: | 3 | ,         | ,         | PUNCT | ,   | NA          | 1  | punct | NA | NA                           |\n",
       "| 4 | 1981 Reagan | 1 | 1 | Mr. Speaker, Mr. President, distinguished Members of Congress, honored guests, and fellow citizens: | 4 | Mr.       | Mr.       | PROPN | NNP | Number=Sing | 1  | conj  | NA | NA                           |\n",
       "| 5 | 1981 Reagan | 1 | 1 | Mr. Speaker, Mr. President, distinguished Members of Congress, honored guests, and fellow citizens: | 5 | President | President | PROPN | NNP | Number=Sing | 4  | flat  | NA | SpaceAfter=No                |\n",
       "| 6 | 1981 Reagan | 1 | 1 | Mr. Speaker, Mr. President, distinguished Members of Congress, honored guests, and fellow citizens: | 6 | ,         | ,         | PUNCT | ,   | NA          | 4  | punct | NA | NA                           |\n",
       "\n"
      ],
      "text/plain": [
       "  doc_id      paragraph_id sentence_id\n",
       "1 1981 Reagan 1            1          \n",
       "2 1981 Reagan 1            1          \n",
       "3 1981 Reagan 1            1          \n",
       "4 1981 Reagan 1            1          \n",
       "5 1981 Reagan 1            1          \n",
       "6 1981 Reagan 1            1          \n",
       "  sentence                                                                                           \n",
       "1 Mr. Speaker, Mr. President, distinguished Members of Congress, honored guests, and fellow citizens:\n",
       "2 Mr. Speaker, Mr. President, distinguished Members of Congress, honored guests, and fellow citizens:\n",
       "3 Mr. Speaker, Mr. President, distinguished Members of Congress, honored guests, and fellow citizens:\n",
       "4 Mr. Speaker, Mr. President, distinguished Members of Congress, honored guests, and fellow citizens:\n",
       "5 Mr. Speaker, Mr. President, distinguished Members of Congress, honored guests, and fellow citizens:\n",
       "6 Mr. Speaker, Mr. President, distinguished Members of Congress, honored guests, and fellow citizens:\n",
       "  token_id token     lemma     upos  xpos feats       head_token_id dep_rel\n",
       "1 1        Mr.       Mr.       PROPN NNP  Number=Sing 12            nsubj  \n",
       "2 2        Speaker   speaker   PROPN NNP  Number=Sing 1             flat   \n",
       "3 3        ,         ,         PUNCT ,    NA          1             punct  \n",
       "4 4        Mr.       Mr.       PROPN NNP  Number=Sing 1             conj   \n",
       "5 5        President President PROPN NNP  Number=Sing 4             flat   \n",
       "6 6        ,         ,         PUNCT ,    NA          4             punct  \n",
       "  deps misc                        \n",
       "1 NA   SpacesBefore=\\\\n\\\\s\\\\s\\\\s\\\\s\n",
       "2 NA   SpaceAfter=No               \n",
       "3 NA   NA                          \n",
       "4 NA   NA                          \n",
       "5 NA   SpaceAfter=No               \n",
       "6 NA   NA                          "
      ]
     },
     "metadata": {},
     "output_type": "display_data"
    }
   ],
   "source": [
    "docs_df %>%\n",
    "    head()"
   ]
  },
  {
   "cell_type": "markdown",
   "metadata": {},
   "source": [
    "### Extracting Top Keywords"
   ]
  },
  {
   "cell_type": "code",
   "execution_count": 8,
   "metadata": {},
   "outputs": [],
   "source": [
    "speech_topics <- lapply(split(docs_df, docs_df$doc_id), function(doc) {\n",
    "    keywords_rake(x = doc, term = \"lemma\", group = \"doc_id\", relevant = doc$upos %in% c(\"ADJ\", \"NOUN\", \"VERB\"))\n",
    "})"
   ]
  },
  {
   "cell_type": "code",
   "execution_count": 9,
   "metadata": {},
   "outputs": [
    {
     "data": {
      "text/html": [
       "<table class=\"dataframe\">\n",
       "<caption>A data.frame: 6 × 4</caption>\n",
       "<thead>\n",
       "\t<tr><th></th><th scope=col>keyword</th><th scope=col>ngram</th><th scope=col>freq</th><th scope=col>rake</th></tr>\n",
       "\t<tr><th></th><th scope=col>&lt;chr&gt;</th><th scope=col>&lt;int&gt;</th><th scope=col>&lt;int&gt;</th><th scope=col>&lt;dbl&gt;</th></tr>\n",
       "</thead>\n",
       "<tbody>\n",
       "\t<tr><th scope=row>1</th><td>tax rate         </td><td>2</td><td>3</td><td>2.810345</td></tr>\n",
       "\t<tr><th scope=row>2</th><td>unearned income  </td><td>2</td><td>2</td><td>2.666667</td></tr>\n",
       "\t<tr><th scope=row>3</th><td>interest rate    </td><td>2</td><td>4</td><td>2.666667</td></tr>\n",
       "\t<tr><th scope=row>4</th><td>local government </td><td>2</td><td>2</td><td>2.614907</td></tr>\n",
       "\t<tr><th scope=row>5</th><td>block grant      </td><td>2</td><td>2</td><td>2.571429</td></tr>\n",
       "\t<tr><th scope=row>6</th><td>economic recovery</td><td>2</td><td>3</td><td>2.480769</td></tr>\n",
       "</tbody>\n",
       "</table>\n"
      ],
      "text/latex": [
       "A data.frame: 6 × 4\n",
       "\\begin{tabular}{r|llll}\n",
       "  & keyword & ngram & freq & rake\\\\\n",
       "  & <chr> & <int> & <int> & <dbl>\\\\\n",
       "\\hline\n",
       "\t1 & tax rate          & 2 & 3 & 2.810345\\\\\n",
       "\t2 & unearned income   & 2 & 2 & 2.666667\\\\\n",
       "\t3 & interest rate     & 2 & 4 & 2.666667\\\\\n",
       "\t4 & local government  & 2 & 2 & 2.614907\\\\\n",
       "\t5 & block grant       & 2 & 2 & 2.571429\\\\\n",
       "\t6 & economic recovery & 2 & 3 & 2.480769\\\\\n",
       "\\end{tabular}\n"
      ],
      "text/markdown": [
       "\n",
       "A data.frame: 6 × 4\n",
       "\n",
       "| <!--/--> | keyword &lt;chr&gt; | ngram &lt;int&gt; | freq &lt;int&gt; | rake &lt;dbl&gt; |\n",
       "|---|---|---|---|---|\n",
       "| 1 | tax rate          | 2 | 3 | 2.810345 |\n",
       "| 2 | unearned income   | 2 | 2 | 2.666667 |\n",
       "| 3 | interest rate     | 2 | 4 | 2.666667 |\n",
       "| 4 | local government  | 2 | 2 | 2.614907 |\n",
       "| 5 | block grant       | 2 | 2 | 2.571429 |\n",
       "| 6 | economic recovery | 2 | 3 | 2.480769 |\n",
       "\n"
      ],
      "text/plain": [
       "  keyword           ngram freq rake    \n",
       "1 tax rate          2     3    2.810345\n",
       "2 unearned income   2     2    2.666667\n",
       "3 interest rate     2     4    2.666667\n",
       "4 local government  2     2    2.614907\n",
       "5 block grant       2     2    2.571429\n",
       "6 economic recovery 2     3    2.480769"
      ]
     },
     "metadata": {},
     "output_type": "display_data"
    }
   ],
   "source": [
    "head(speech_topics[[1]])"
   ]
  },
  {
   "cell_type": "markdown",
   "metadata": {},
   "source": [
    "### Top Keywords by Speech"
   ]
  },
  {
   "cell_type": "code",
   "execution_count": 10,
   "metadata": {},
   "outputs": [
    {
     "data": {
      "text/html": [
       "<table class=\"dataframe\">\n",
       "<caption>A matrix: 41 × 6 of type chr</caption>\n",
       "<tbody>\n",
       "\t<tr><th scope=row>1981 Reagan</th><td>tax rate              </td><td>unearned income    </td><td>interest rate         </td><td>local government   </td><td>block grant      </td><td>economic recovery    </td></tr>\n",
       "\t<tr><th scope=row>1982 Reagan</th><td>foreign policy        </td><td>social service     </td><td>federal government    </td><td>grass root         </td><td>military force   </td><td>tax increase         </td></tr>\n",
       "\t<tr><th scope=row>1983 Reagan</th><td>foreign policy        </td><td>national debt      </td><td>social security       </td><td>interest rate      </td><td>majority leader  </td><td>technological leader </td></tr>\n",
       "\t<tr><th scope=row>1984 Reagan</th><td>economic recovery     </td><td>increase tax       </td><td>bipartisan cooperation</td><td>next step          </td><td>down payment     </td><td>underground economy  </td></tr>\n",
       "\t<tr><th scope=row>1985 Reagan</th><td>tax simplification    </td><td>american people    </td><td>give                  </td><td>fellow citizen     </td><td>economic growth  </td><td>assistance           </td></tr>\n",
       "\t<tr><th scope=row>1986 Reagan</th><td>true reform           </td><td>american people    </td><td>federal budget        </td><td>national security  </td><td>human spirit     </td><td>next decade          </td></tr>\n",
       "\t<tr><th scope=row>1987 Reagan</th><td>national interest     </td><td>welfare reform     </td><td>arm reduction         </td><td>new job            </td><td>third century    </td><td>fellow citizen       </td></tr>\n",
       "\t<tr><th scope=row>1988 Reagan</th><td>arm reduction         </td><td>balanced budget    </td><td>national security     </td><td>free market        </td><td>nuclear terror   </td><td>freedom fighters     </td></tr>\n",
       "\t<tr><th scope=row>1989 BushSr</th><td>new program           </td><td>nuclear weapon     </td><td>best judgment         </td><td>growth             </td><td>child care       </td><td>lease sale           </td></tr>\n",
       "\t<tr><th scope=row>1990 BushSr</th><td>new initiative        </td><td>new world          </td><td>american worker       </td><td>american people    </td><td>american idea    </td><td>control              </td></tr>\n",
       "\t<tr><th scope=row>1991 BushSr</th><td>Sdi program           </td><td>federal government </td><td>dead wrong            </td><td>fit tribute        </td><td>american people  </td><td>define hour          </td></tr>\n",
       "\t<tr><th scope=row>1992 BushSr</th><td>federal agency        </td><td>american people    </td><td>interest rate         </td><td>government         </td><td>war begin        </td><td>cold war             </td></tr>\n",
       "\t<tr><th scope=row>1993 Clinton</th><td>health care           </td><td>national service   </td><td>small business        </td><td>lower burdens      </td><td>economic growth  </td><td>credit crunch        </td></tr>\n",
       "\t<tr><th scope=row>1994 Clinton</th><td>middle class          </td><td>health care        </td><td>health insurance      </td><td>violent crime      </td><td>private sector   </td><td>better angels        </td></tr>\n",
       "\t<tr><th scope=row>1995 Clinton</th><td>illegal alien         </td><td>health care        </td><td>middle class          </td><td>minimum wage       </td><td>religious leader </td><td>new era              </td></tr>\n",
       "\t<tr><th scope=row>1996 Clinton</th><td>health care           </td><td>good idea          </td><td>first time            </td><td>gi bill            </td><td>crime bill       </td><td>local community      </td></tr>\n",
       "\t<tr><th scope=row>1997 Clinton</th><td>economic crisis       </td><td>junior high        </td><td>welfare roll          </td><td>cold war           </td><td>high school      </td><td>new century          </td></tr>\n",
       "\t<tr><th scope=row>1998 Clinton</th><td>tax cut               </td><td>health insurance   </td><td>social security       </td><td>mass destruction   </td><td>21st century     </td><td>child care           </td></tr>\n",
       "\t<tr><th scope=row>1999 Clinton</th><td>21st century          </td><td>school district    </td><td>bipartisan basis      </td><td>health insurance   </td><td>social security  </td><td>tax credit           </td></tr>\n",
       "\t<tr><th scope=row>2000 Clinton</th><td>21st century          </td><td>tax credit         </td><td>new century           </td><td>health care        </td><td>prescription drug</td><td>economic growth      </td></tr>\n",
       "\t<tr><th scope=row>2001 GWBush</th><td>make sure             </td><td>health care        </td><td>social security       </td><td>tax relief         </td><td>increase spending</td><td>Social Security      </td></tr>\n",
       "\t<tr><th scope=row>2002 GWBush</th><td>create job            </td><td>great goal         </td><td>good job              </td><td>terrorist camp     </td><td>nuclear weapon   </td><td>american people      </td></tr>\n",
       "\t<tr><th scope=row>2003 GWBush</th><td>biological weapon     </td><td>iraqi official     </td><td>nuclear weapon        </td><td>intelligence source</td><td>fellow citizen   </td><td>tax relief           </td></tr>\n",
       "\t<tr><th scope=row>2004 GWBush</th><td>health care           </td><td>health insurance   </td><td>worker program        </td><td>law enforcement    </td><td>grow stronger    </td><td>fellow citizen       </td></tr>\n",
       "\t<tr><th scope=row>2005 GWBush</th><td>social security       </td><td>tax code           </td><td>personal account      </td><td>small business     </td><td>younger worker   </td><td>palestinian territory</td></tr>\n",
       "\t<tr><th scope=row>2006 GWBush</th><td>competitive require   </td><td>tax relief         </td><td>new democracy         </td><td>american people    </td><td>american worker  </td><td>organized crime      </td></tr>\n",
       "\t<tr><th scope=row>2007 GWBush</th><td>health insurance      </td><td>alternative fuel   </td><td>federal budget        </td><td>failing school     </td><td>new strategy     </td><td>foreign oil          </td></tr>\n",
       "\t<tr><th scope=row>2008 GWBush</th><td>safe haven            </td><td>new generation     </td><td>energy security       </td><td>iraqi force        </td><td>new market       </td><td>young democracy      </td></tr>\n",
       "\t<tr><th scope=row>2009 Obama</th><td>health care           </td><td>financial system   </td><td>tax break             </td><td>american taxpayer  </td><td>help banks       </td><td>tax cut              </td></tr>\n",
       "\t<tr><th scope=row>2010 Obama</th><td>clean energy          </td><td>tax credit         </td><td>tax cut               </td><td>health care        </td><td>rural community  </td><td>tax break            </td></tr>\n",
       "\t<tr><th scope=row>2011 Obama</th><td>trade agreement       </td><td>good job           </td><td>speed rail            </td><td>new job            </td><td>business owner   </td><td>last month           </td></tr>\n",
       "\t<tr><th scope=row>2012 Obama</th><td>clean energy          </td><td>tax reform         </td><td>american manufacturer </td><td>financial system   </td><td>american energy  </td><td>tax code             </td></tr>\n",
       "\t<tr><th scope=row>2013 Obama</th><td>health care           </td><td>middle class       </td><td>tax reform            </td><td>tax code           </td><td>american people  </td><td>new job              </td></tr>\n",
       "\t<tr><th scope=row>2014 Obama</th><td>unemployment insurance</td><td>middle class       </td><td>carbon pollution      </td><td>minimum wage       </td><td>higher education </td><td>new job              </td></tr>\n",
       "\t<tr><th scope=row>2015 Obama</th><td>community college     </td><td>new century        </td><td>health care           </td><td>create more        </td><td>knit family      </td><td>student loan         </td></tr>\n",
       "\t<tr><th scope=row>2016 Obama</th><td>new economy           </td><td>new job            </td><td>better politics       </td><td>fair shot          </td><td>unarmed truth    </td><td>make sure            </td></tr>\n",
       "\t<tr><th scope=row>2017 Trump</th><td>many other            </td><td>middle class       </td><td>new chapter           </td><td>national rebuilding</td><td>american spirit  </td><td>save billion         </td></tr>\n",
       "\t<tr><th scope=row>2018 Trump</th><td>high school           </td><td>new job            </td><td>gang member           </td><td>american family    </td><td>american worker  </td><td>new administration   </td></tr>\n",
       "\t<tr><th scope=row>2019 Trump</th><td>immigration system    </td><td>illegal immigration</td><td>american soldier      </td><td>southern border    </td><td>prescription drug</td><td>human trafficker     </td></tr>\n",
       "\t<tr><th scope=row>2020 Trump</th><td>health care           </td><td>unemployment rate  </td><td>illegal alien         </td><td>american family    </td><td>brave man        </td><td>southern border      </td></tr>\n",
       "\t<tr><th scope=row>2021 Biden</th><td>economic growth       </td><td>vast majority      </td><td>country support       </td><td>clean water        </td><td>background check </td><td>develop breakthrough </td></tr>\n",
       "</tbody>\n",
       "</table>\n"
      ],
      "text/latex": [
       "A matrix: 41 × 6 of type chr\n",
       "\\begin{tabular}{r|llllll}\n",
       "\t1981 Reagan & tax rate               & unearned income     & interest rate          & local government    & block grant       & economic recovery    \\\\\n",
       "\t1982 Reagan & foreign policy         & social service      & federal government     & grass root          & military force    & tax increase         \\\\\n",
       "\t1983 Reagan & foreign policy         & national debt       & social security        & interest rate       & majority leader   & technological leader \\\\\n",
       "\t1984 Reagan & economic recovery      & increase tax        & bipartisan cooperation & next step           & down payment      & underground economy  \\\\\n",
       "\t1985 Reagan & tax simplification     & american people     & give                   & fellow citizen      & economic growth   & assistance           \\\\\n",
       "\t1986 Reagan & true reform            & american people     & federal budget         & national security   & human spirit      & next decade          \\\\\n",
       "\t1987 Reagan & national interest      & welfare reform      & arm reduction          & new job             & third century     & fellow citizen       \\\\\n",
       "\t1988 Reagan & arm reduction          & balanced budget     & national security      & free market         & nuclear terror    & freedom fighters     \\\\\n",
       "\t1989 BushSr & new program            & nuclear weapon      & best judgment          & growth              & child care        & lease sale           \\\\\n",
       "\t1990 BushSr & new initiative         & new world           & american worker        & american people     & american idea     & control              \\\\\n",
       "\t1991 BushSr & Sdi program            & federal government  & dead wrong             & fit tribute         & american people   & define hour          \\\\\n",
       "\t1992 BushSr & federal agency         & american people     & interest rate          & government          & war begin         & cold war             \\\\\n",
       "\t1993 Clinton & health care            & national service    & small business         & lower burdens       & economic growth   & credit crunch        \\\\\n",
       "\t1994 Clinton & middle class           & health care         & health insurance       & violent crime       & private sector    & better angels        \\\\\n",
       "\t1995 Clinton & illegal alien          & health care         & middle class           & minimum wage        & religious leader  & new era              \\\\\n",
       "\t1996 Clinton & health care            & good idea           & first time             & gi bill             & crime bill        & local community      \\\\\n",
       "\t1997 Clinton & economic crisis        & junior high         & welfare roll           & cold war            & high school       & new century          \\\\\n",
       "\t1998 Clinton & tax cut                & health insurance    & social security        & mass destruction    & 21st century      & child care           \\\\\n",
       "\t1999 Clinton & 21st century           & school district     & bipartisan basis       & health insurance    & social security   & tax credit           \\\\\n",
       "\t2000 Clinton & 21st century           & tax credit          & new century            & health care         & prescription drug & economic growth      \\\\\n",
       "\t2001 GWBush & make sure              & health care         & social security        & tax relief          & increase spending & Social Security      \\\\\n",
       "\t2002 GWBush & create job             & great goal          & good job               & terrorist camp      & nuclear weapon    & american people      \\\\\n",
       "\t2003 GWBush & biological weapon      & iraqi official      & nuclear weapon         & intelligence source & fellow citizen    & tax relief           \\\\\n",
       "\t2004 GWBush & health care            & health insurance    & worker program         & law enforcement     & grow stronger     & fellow citizen       \\\\\n",
       "\t2005 GWBush & social security        & tax code            & personal account       & small business      & younger worker    & palestinian territory\\\\\n",
       "\t2006 GWBush & competitive require    & tax relief          & new democracy          & american people     & american worker   & organized crime      \\\\\n",
       "\t2007 GWBush & health insurance       & alternative fuel    & federal budget         & failing school      & new strategy      & foreign oil          \\\\\n",
       "\t2008 GWBush & safe haven             & new generation      & energy security        & iraqi force         & new market        & young democracy      \\\\\n",
       "\t2009 Obama & health care            & financial system    & tax break              & american taxpayer   & help banks        & tax cut              \\\\\n",
       "\t2010 Obama & clean energy           & tax credit          & tax cut                & health care         & rural community   & tax break            \\\\\n",
       "\t2011 Obama & trade agreement        & good job            & speed rail             & new job             & business owner    & last month           \\\\\n",
       "\t2012 Obama & clean energy           & tax reform          & american manufacturer  & financial system    & american energy   & tax code             \\\\\n",
       "\t2013 Obama & health care            & middle class        & tax reform             & tax code            & american people   & new job              \\\\\n",
       "\t2014 Obama & unemployment insurance & middle class        & carbon pollution       & minimum wage        & higher education  & new job              \\\\\n",
       "\t2015 Obama & community college      & new century         & health care            & create more         & knit family       & student loan         \\\\\n",
       "\t2016 Obama & new economy            & new job             & better politics        & fair shot           & unarmed truth     & make sure            \\\\\n",
       "\t2017 Trump & many other             & middle class        & new chapter            & national rebuilding & american spirit   & save billion         \\\\\n",
       "\t2018 Trump & high school            & new job             & gang member            & american family     & american worker   & new administration   \\\\\n",
       "\t2019 Trump & immigration system     & illegal immigration & american soldier       & southern border     & prescription drug & human trafficker     \\\\\n",
       "\t2020 Trump & health care            & unemployment rate   & illegal alien          & american family     & brave man         & southern border      \\\\\n",
       "\t2021 Biden & economic growth        & vast majority       & country support        & clean water         & background check  & develop breakthrough \\\\\n",
       "\\end{tabular}\n"
      ],
      "text/markdown": [
       "\n",
       "A matrix: 41 × 6 of type chr\n",
       "\n",
       "| 1981 Reagan | tax rate               | unearned income     | interest rate          | local government    | block grant       | economic recovery     |\n",
       "| 1982 Reagan | foreign policy         | social service      | federal government     | grass root          | military force    | tax increase          |\n",
       "| 1983 Reagan | foreign policy         | national debt       | social security        | interest rate       | majority leader   | technological leader  |\n",
       "| 1984 Reagan | economic recovery      | increase tax        | bipartisan cooperation | next step           | down payment      | underground economy   |\n",
       "| 1985 Reagan | tax simplification     | american people     | give                   | fellow citizen      | economic growth   | assistance            |\n",
       "| 1986 Reagan | true reform            | american people     | federal budget         | national security   | human spirit      | next decade           |\n",
       "| 1987 Reagan | national interest      | welfare reform      | arm reduction          | new job             | third century     | fellow citizen        |\n",
       "| 1988 Reagan | arm reduction          | balanced budget     | national security      | free market         | nuclear terror    | freedom fighters      |\n",
       "| 1989 BushSr | new program            | nuclear weapon      | best judgment          | growth              | child care        | lease sale            |\n",
       "| 1990 BushSr | new initiative         | new world           | american worker        | american people     | american idea     | control               |\n",
       "| 1991 BushSr | Sdi program            | federal government  | dead wrong             | fit tribute         | american people   | define hour           |\n",
       "| 1992 BushSr | federal agency         | american people     | interest rate          | government          | war begin         | cold war              |\n",
       "| 1993 Clinton | health care            | national service    | small business         | lower burdens       | economic growth   | credit crunch         |\n",
       "| 1994 Clinton | middle class           | health care         | health insurance       | violent crime       | private sector    | better angels         |\n",
       "| 1995 Clinton | illegal alien          | health care         | middle class           | minimum wage        | religious leader  | new era               |\n",
       "| 1996 Clinton | health care            | good idea           | first time             | gi bill             | crime bill        | local community       |\n",
       "| 1997 Clinton | economic crisis        | junior high         | welfare roll           | cold war            | high school       | new century           |\n",
       "| 1998 Clinton | tax cut                | health insurance    | social security        | mass destruction    | 21st century      | child care            |\n",
       "| 1999 Clinton | 21st century           | school district     | bipartisan basis       | health insurance    | social security   | tax credit            |\n",
       "| 2000 Clinton | 21st century           | tax credit          | new century            | health care         | prescription drug | economic growth       |\n",
       "| 2001 GWBush | make sure              | health care         | social security        | tax relief          | increase spending | Social Security       |\n",
       "| 2002 GWBush | create job             | great goal          | good job               | terrorist camp      | nuclear weapon    | american people       |\n",
       "| 2003 GWBush | biological weapon      | iraqi official      | nuclear weapon         | intelligence source | fellow citizen    | tax relief            |\n",
       "| 2004 GWBush | health care            | health insurance    | worker program         | law enforcement     | grow stronger     | fellow citizen        |\n",
       "| 2005 GWBush | social security        | tax code            | personal account       | small business      | younger worker    | palestinian territory |\n",
       "| 2006 GWBush | competitive require    | tax relief          | new democracy          | american people     | american worker   | organized crime       |\n",
       "| 2007 GWBush | health insurance       | alternative fuel    | federal budget         | failing school      | new strategy      | foreign oil           |\n",
       "| 2008 GWBush | safe haven             | new generation      | energy security        | iraqi force         | new market        | young democracy       |\n",
       "| 2009 Obama | health care            | financial system    | tax break              | american taxpayer   | help banks        | tax cut               |\n",
       "| 2010 Obama | clean energy           | tax credit          | tax cut                | health care         | rural community   | tax break             |\n",
       "| 2011 Obama | trade agreement        | good job            | speed rail             | new job             | business owner    | last month            |\n",
       "| 2012 Obama | clean energy           | tax reform          | american manufacturer  | financial system    | american energy   | tax code              |\n",
       "| 2013 Obama | health care            | middle class        | tax reform             | tax code            | american people   | new job               |\n",
       "| 2014 Obama | unemployment insurance | middle class        | carbon pollution       | minimum wage        | higher education  | new job               |\n",
       "| 2015 Obama | community college      | new century         | health care            | create more         | knit family       | student loan          |\n",
       "| 2016 Obama | new economy            | new job             | better politics        | fair shot           | unarmed truth     | make sure             |\n",
       "| 2017 Trump | many other             | middle class        | new chapter            | national rebuilding | american spirit   | save billion          |\n",
       "| 2018 Trump | high school            | new job             | gang member            | american family     | american worker   | new administration    |\n",
       "| 2019 Trump | immigration system     | illegal immigration | american soldier       | southern border     | prescription drug | human trafficker      |\n",
       "| 2020 Trump | health care            | unemployment rate   | illegal alien          | american family     | brave man         | southern border       |\n",
       "| 2021 Biden | economic growth        | vast majority       | country support        | clean water         | background check  | develop breakthrough  |\n",
       "\n"
      ],
      "text/plain": [
       "             [,1]                   [,2]                [,3]                  \n",
       "1981 Reagan  tax rate               unearned income     interest rate         \n",
       "1982 Reagan  foreign policy         social service      federal government    \n",
       "1983 Reagan  foreign policy         national debt       social security       \n",
       "1984 Reagan  economic recovery      increase tax        bipartisan cooperation\n",
       "1985 Reagan  tax simplification     american people     give                  \n",
       "1986 Reagan  true reform            american people     federal budget        \n",
       "1987 Reagan  national interest      welfare reform      arm reduction         \n",
       "1988 Reagan  arm reduction          balanced budget     national security     \n",
       "1989 BushSr  new program            nuclear weapon      best judgment         \n",
       "1990 BushSr  new initiative         new world           american worker       \n",
       "1991 BushSr  Sdi program            federal government  dead wrong            \n",
       "1992 BushSr  federal agency         american people     interest rate         \n",
       "1993 Clinton health care            national service    small business        \n",
       "1994 Clinton middle class           health care         health insurance      \n",
       "1995 Clinton illegal alien          health care         middle class          \n",
       "1996 Clinton health care            good idea           first time            \n",
       "1997 Clinton economic crisis        junior high         welfare roll          \n",
       "1998 Clinton tax cut                health insurance    social security       \n",
       "1999 Clinton 21st century           school district     bipartisan basis      \n",
       "2000 Clinton 21st century           tax credit          new century           \n",
       "2001 GWBush  make sure              health care         social security       \n",
       "2002 GWBush  create job             great goal          good job              \n",
       "2003 GWBush  biological weapon      iraqi official      nuclear weapon        \n",
       "2004 GWBush  health care            health insurance    worker program        \n",
       "2005 GWBush  social security        tax code            personal account      \n",
       "2006 GWBush  competitive require    tax relief          new democracy         \n",
       "2007 GWBush  health insurance       alternative fuel    federal budget        \n",
       "2008 GWBush  safe haven             new generation      energy security       \n",
       "2009 Obama   health care            financial system    tax break             \n",
       "2010 Obama   clean energy           tax credit          tax cut               \n",
       "2011 Obama   trade agreement        good job            speed rail            \n",
       "2012 Obama   clean energy           tax reform          american manufacturer \n",
       "2013 Obama   health care            middle class        tax reform            \n",
       "2014 Obama   unemployment insurance middle class        carbon pollution      \n",
       "2015 Obama   community college      new century         health care           \n",
       "2016 Obama   new economy            new job             better politics       \n",
       "2017 Trump   many other             middle class        new chapter           \n",
       "2018 Trump   high school            new job             gang member           \n",
       "2019 Trump   immigration system     illegal immigration american soldier      \n",
       "2020 Trump   health care            unemployment rate   illegal alien         \n",
       "2021 Biden   economic growth        vast majority       country support       \n",
       "             [,4]                [,5]              [,6]                 \n",
       "1981 Reagan  local government    block grant       economic recovery    \n",
       "1982 Reagan  grass root          military force    tax increase         \n",
       "1983 Reagan  interest rate       majority leader   technological leader \n",
       "1984 Reagan  next step           down payment      underground economy  \n",
       "1985 Reagan  fellow citizen      economic growth   assistance           \n",
       "1986 Reagan  national security   human spirit      next decade          \n",
       "1987 Reagan  new job             third century     fellow citizen       \n",
       "1988 Reagan  free market         nuclear terror    freedom fighters     \n",
       "1989 BushSr  growth              child care        lease sale           \n",
       "1990 BushSr  american people     american idea     control              \n",
       "1991 BushSr  fit tribute         american people   define hour          \n",
       "1992 BushSr  government          war begin         cold war             \n",
       "1993 Clinton lower burdens       economic growth   credit crunch        \n",
       "1994 Clinton violent crime       private sector    better angels        \n",
       "1995 Clinton minimum wage        religious leader  new era              \n",
       "1996 Clinton gi bill             crime bill        local community      \n",
       "1997 Clinton cold war            high school       new century          \n",
       "1998 Clinton mass destruction    21st century      child care           \n",
       "1999 Clinton health insurance    social security   tax credit           \n",
       "2000 Clinton health care         prescription drug economic growth      \n",
       "2001 GWBush  tax relief          increase spending Social Security      \n",
       "2002 GWBush  terrorist camp      nuclear weapon    american people      \n",
       "2003 GWBush  intelligence source fellow citizen    tax relief           \n",
       "2004 GWBush  law enforcement     grow stronger     fellow citizen       \n",
       "2005 GWBush  small business      younger worker    palestinian territory\n",
       "2006 GWBush  american people     american worker   organized crime      \n",
       "2007 GWBush  failing school      new strategy      foreign oil          \n",
       "2008 GWBush  iraqi force         new market        young democracy      \n",
       "2009 Obama   american taxpayer   help banks        tax cut              \n",
       "2010 Obama   health care         rural community   tax break            \n",
       "2011 Obama   new job             business owner    last month           \n",
       "2012 Obama   financial system    american energy   tax code             \n",
       "2013 Obama   tax code            american people   new job              \n",
       "2014 Obama   minimum wage        higher education  new job              \n",
       "2015 Obama   create more         knit family       student loan         \n",
       "2016 Obama   fair shot           unarmed truth     make sure            \n",
       "2017 Trump   national rebuilding american spirit   save billion         \n",
       "2018 Trump   american family     american worker   new administration   \n",
       "2019 Trump   southern border     prescription drug human trafficker     \n",
       "2020 Trump   american family     brave man         southern border      \n",
       "2021 Biden   clean water         background check  develop breakthrough "
      ]
     },
     "metadata": {},
     "output_type": "display_data"
    }
   ],
   "source": [
    "t(sapply(speech_topics, function(x) head(x$keyword)))"
   ]
  },
  {
   "cell_type": "code",
   "execution_count": 11,
   "metadata": {},
   "outputs": [],
   "source": [
    "topics_by_speech <- bind_rows(speech_topics, .id=\"Speech\")"
   ]
  },
  {
   "cell_type": "markdown",
   "metadata": {},
   "source": [
    "## Specific Keywords"
   ]
  },
  {
   "cell_type": "code",
   "execution_count": 12,
   "metadata": {},
   "outputs": [],
   "source": [
    "## Find the top mentions of keywords\n",
    "\n",
    "find_topic <- function(x) {\n",
    "    topics_by_speech %>%\n",
    "        filter(str_detect(keyword, fixed(x))) %>%\n",
    "        arrange(desc(rake)) %>%\n",
    "        head()\n",
    "}"
   ]
  },
  {
   "cell_type": "code",
   "execution_count": 13,
   "metadata": {},
   "outputs": [
    {
     "data": {
      "text/html": [
       "<table class=\"dataframe\">\n",
       "<caption>A data.frame: 6 × 5</caption>\n",
       "<thead>\n",
       "\t<tr><th></th><th scope=col>Speech</th><th scope=col>keyword</th><th scope=col>ngram</th><th scope=col>freq</th><th scope=col>rake</th></tr>\n",
       "\t<tr><th></th><th scope=col>&lt;chr&gt;</th><th scope=col>&lt;chr&gt;</th><th scope=col>&lt;int&gt;</th><th scope=col>&lt;int&gt;</th><th scope=col>&lt;dbl&gt;</th></tr>\n",
       "</thead>\n",
       "<tbody>\n",
       "\t<tr><th scope=row>1</th><td>2020 Trump </td><td>health care     </td><td>2</td><td>2</td><td>4.461538</td></tr>\n",
       "\t<tr><th scope=row>2</th><td>2004 GWBush</td><td>health care     </td><td>2</td><td>3</td><td>4.187500</td></tr>\n",
       "\t<tr><th scope=row>3</th><td>2007 GWBush</td><td>health insurance</td><td>2</td><td>4</td><td>4.033613</td></tr>\n",
       "\t<tr><th scope=row>4</th><td>2013 Obama </td><td>health care     </td><td>2</td><td>2</td><td>3.977778</td></tr>\n",
       "\t<tr><th scope=row>5</th><td>2004 GWBush</td><td>health insurance</td><td>2</td><td>2</td><td>3.687500</td></tr>\n",
       "\t<tr><th scope=row>6</th><td>2009 Obama </td><td>health care     </td><td>2</td><td>5</td><td>3.631579</td></tr>\n",
       "</tbody>\n",
       "</table>\n"
      ],
      "text/latex": [
       "A data.frame: 6 × 5\n",
       "\\begin{tabular}{r|lllll}\n",
       "  & Speech & keyword & ngram & freq & rake\\\\\n",
       "  & <chr> & <chr> & <int> & <int> & <dbl>\\\\\n",
       "\\hline\n",
       "\t1 & 2020 Trump  & health care      & 2 & 2 & 4.461538\\\\\n",
       "\t2 & 2004 GWBush & health care      & 2 & 3 & 4.187500\\\\\n",
       "\t3 & 2007 GWBush & health insurance & 2 & 4 & 4.033613\\\\\n",
       "\t4 & 2013 Obama  & health care      & 2 & 2 & 3.977778\\\\\n",
       "\t5 & 2004 GWBush & health insurance & 2 & 2 & 3.687500\\\\\n",
       "\t6 & 2009 Obama  & health care      & 2 & 5 & 3.631579\\\\\n",
       "\\end{tabular}\n"
      ],
      "text/markdown": [
       "\n",
       "A data.frame: 6 × 5\n",
       "\n",
       "| <!--/--> | Speech &lt;chr&gt; | keyword &lt;chr&gt; | ngram &lt;int&gt; | freq &lt;int&gt; | rake &lt;dbl&gt; |\n",
       "|---|---|---|---|---|---|\n",
       "| 1 | 2020 Trump  | health care      | 2 | 2 | 4.461538 |\n",
       "| 2 | 2004 GWBush | health care      | 2 | 3 | 4.187500 |\n",
       "| 3 | 2007 GWBush | health insurance | 2 | 4 | 4.033613 |\n",
       "| 4 | 2013 Obama  | health care      | 2 | 2 | 3.977778 |\n",
       "| 5 | 2004 GWBush | health insurance | 2 | 2 | 3.687500 |\n",
       "| 6 | 2009 Obama  | health care      | 2 | 5 | 3.631579 |\n",
       "\n"
      ],
      "text/plain": [
       "  Speech      keyword          ngram freq rake    \n",
       "1 2020 Trump  health care      2     2    4.461538\n",
       "2 2004 GWBush health care      2     3    4.187500\n",
       "3 2007 GWBush health insurance 2     4    4.033613\n",
       "4 2013 Obama  health care      2     2    3.977778\n",
       "5 2004 GWBush health insurance 2     2    3.687500\n",
       "6 2009 Obama  health care      2     5    3.631579"
      ]
     },
     "metadata": {},
     "output_type": "display_data"
    }
   ],
   "source": [
    "find_topic(\"health\")"
   ]
  },
  {
   "cell_type": "code",
   "execution_count": 14,
   "metadata": {},
   "outputs": [
    {
     "data": {
      "text/html": [
       "<table class=\"dataframe\">\n",
       "<caption>A data.frame: 6 × 5</caption>\n",
       "<thead>\n",
       "\t<tr><th></th><th scope=col>Speech</th><th scope=col>keyword</th><th scope=col>ngram</th><th scope=col>freq</th><th scope=col>rake</th></tr>\n",
       "\t<tr><th></th><th scope=col>&lt;chr&gt;</th><th scope=col>&lt;chr&gt;</th><th scope=col>&lt;int&gt;</th><th scope=col>&lt;int&gt;</th><th scope=col>&lt;dbl&gt;</th></tr>\n",
       "</thead>\n",
       "<tbody>\n",
       "\t<tr><th scope=row>1</th><td>2000 Clinton</td><td>prescription drug</td><td>2</td><td>2</td><td>3.0555556</td></tr>\n",
       "\t<tr><th scope=row>2</th><td>2019 Trump  </td><td>prescription drug</td><td>2</td><td>2</td><td>2.5000000</td></tr>\n",
       "\t<tr><th scope=row>3</th><td>2020 Trump  </td><td>drug             </td><td>1</td><td>2</td><td>1.6000000</td></tr>\n",
       "\t<tr><th scope=row>4</th><td>1994 Clinton</td><td>drug treatment   </td><td>2</td><td>2</td><td>1.3030303</td></tr>\n",
       "\t<tr><th scope=row>5</th><td>2003 GWBush </td><td>drug             </td><td>1</td><td>3</td><td>1.1000000</td></tr>\n",
       "\t<tr><th scope=row>6</th><td>2017 Trump  </td><td>drug             </td><td>1</td><td>4</td><td>0.7142857</td></tr>\n",
       "</tbody>\n",
       "</table>\n"
      ],
      "text/latex": [
       "A data.frame: 6 × 5\n",
       "\\begin{tabular}{r|lllll}\n",
       "  & Speech & keyword & ngram & freq & rake\\\\\n",
       "  & <chr> & <chr> & <int> & <int> & <dbl>\\\\\n",
       "\\hline\n",
       "\t1 & 2000 Clinton & prescription drug & 2 & 2 & 3.0555556\\\\\n",
       "\t2 & 2019 Trump   & prescription drug & 2 & 2 & 2.5000000\\\\\n",
       "\t3 & 2020 Trump   & drug              & 1 & 2 & 1.6000000\\\\\n",
       "\t4 & 1994 Clinton & drug treatment    & 2 & 2 & 1.3030303\\\\\n",
       "\t5 & 2003 GWBush  & drug              & 1 & 3 & 1.1000000\\\\\n",
       "\t6 & 2017 Trump   & drug              & 1 & 4 & 0.7142857\\\\\n",
       "\\end{tabular}\n"
      ],
      "text/markdown": [
       "\n",
       "A data.frame: 6 × 5\n",
       "\n",
       "| <!--/--> | Speech &lt;chr&gt; | keyword &lt;chr&gt; | ngram &lt;int&gt; | freq &lt;int&gt; | rake &lt;dbl&gt; |\n",
       "|---|---|---|---|---|---|\n",
       "| 1 | 2000 Clinton | prescription drug | 2 | 2 | 3.0555556 |\n",
       "| 2 | 2019 Trump   | prescription drug | 2 | 2 | 2.5000000 |\n",
       "| 3 | 2020 Trump   | drug              | 1 | 2 | 1.6000000 |\n",
       "| 4 | 1994 Clinton | drug treatment    | 2 | 2 | 1.3030303 |\n",
       "| 5 | 2003 GWBush  | drug              | 1 | 3 | 1.1000000 |\n",
       "| 6 | 2017 Trump   | drug              | 1 | 4 | 0.7142857 |\n",
       "\n"
      ],
      "text/plain": [
       "  Speech       keyword           ngram freq rake     \n",
       "1 2000 Clinton prescription drug 2     2    3.0555556\n",
       "2 2019 Trump   prescription drug 2     2    2.5000000\n",
       "3 2020 Trump   drug              1     2    1.6000000\n",
       "4 1994 Clinton drug treatment    2     2    1.3030303\n",
       "5 2003 GWBush  drug              1     3    1.1000000\n",
       "6 2017 Trump   drug              1     4    0.7142857"
      ]
     },
     "metadata": {},
     "output_type": "display_data"
    }
   ],
   "source": [
    "find_topic(\"drug\")"
   ]
  },
  {
   "cell_type": "code",
   "execution_count": 15,
   "metadata": {},
   "outputs": [
    {
     "data": {
      "text/html": [
       "<table class=\"dataframe\">\n",
       "<caption>A data.frame: 4 × 5</caption>\n",
       "<thead>\n",
       "\t<tr><th></th><th scope=col>Speech</th><th scope=col>keyword</th><th scope=col>ngram</th><th scope=col>freq</th><th scope=col>rake</th></tr>\n",
       "\t<tr><th></th><th scope=col>&lt;chr&gt;</th><th scope=col>&lt;chr&gt;</th><th scope=col>&lt;int&gt;</th><th scope=col>&lt;int&gt;</th><th scope=col>&lt;dbl&gt;</th></tr>\n",
       "</thead>\n",
       "<tbody>\n",
       "\t<tr><th scope=row>1</th><td>2019 Trump </td><td>immigration system </td><td>2</td><td>2</td><td>3.0000000</td></tr>\n",
       "\t<tr><th scope=row>2</th><td>2019 Trump </td><td>illegal immigration</td><td>2</td><td>2</td><td>2.9333333</td></tr>\n",
       "\t<tr><th scope=row>3</th><td>2008 GWBush</td><td>immigration        </td><td>1</td><td>2</td><td>0.3333333</td></tr>\n",
       "\t<tr><th scope=row>4</th><td>2015 Obama </td><td>immigration        </td><td>1</td><td>2</td><td>0.0000000</td></tr>\n",
       "</tbody>\n",
       "</table>\n"
      ],
      "text/latex": [
       "A data.frame: 4 × 5\n",
       "\\begin{tabular}{r|lllll}\n",
       "  & Speech & keyword & ngram & freq & rake\\\\\n",
       "  & <chr> & <chr> & <int> & <int> & <dbl>\\\\\n",
       "\\hline\n",
       "\t1 & 2019 Trump  & immigration system  & 2 & 2 & 3.0000000\\\\\n",
       "\t2 & 2019 Trump  & illegal immigration & 2 & 2 & 2.9333333\\\\\n",
       "\t3 & 2008 GWBush & immigration         & 1 & 2 & 0.3333333\\\\\n",
       "\t4 & 2015 Obama  & immigration         & 1 & 2 & 0.0000000\\\\\n",
       "\\end{tabular}\n"
      ],
      "text/markdown": [
       "\n",
       "A data.frame: 4 × 5\n",
       "\n",
       "| <!--/--> | Speech &lt;chr&gt; | keyword &lt;chr&gt; | ngram &lt;int&gt; | freq &lt;int&gt; | rake &lt;dbl&gt; |\n",
       "|---|---|---|---|---|---|\n",
       "| 1 | 2019 Trump  | immigration system  | 2 | 2 | 3.0000000 |\n",
       "| 2 | 2019 Trump  | illegal immigration | 2 | 2 | 2.9333333 |\n",
       "| 3 | 2008 GWBush | immigration         | 1 | 2 | 0.3333333 |\n",
       "| 4 | 2015 Obama  | immigration         | 1 | 2 | 0.0000000 |\n",
       "\n"
      ],
      "text/plain": [
       "  Speech      keyword             ngram freq rake     \n",
       "1 2019 Trump  immigration system  2     2    3.0000000\n",
       "2 2019 Trump  illegal immigration 2     2    2.9333333\n",
       "3 2008 GWBush immigration         1     2    0.3333333\n",
       "4 2015 Obama  immigration         1     2    0.0000000"
      ]
     },
     "metadata": {},
     "output_type": "display_data"
    }
   ],
   "source": [
    "find_topic(\"immigration\")"
   ]
  },
  {
   "cell_type": "code",
   "execution_count": 16,
   "metadata": {},
   "outputs": [
    {
     "data": {
      "text/html": [
       "<table class=\"dataframe\">\n",
       "<caption>A data.frame: 6 × 5</caption>\n",
       "<thead>\n",
       "\t<tr><th></th><th scope=col>Speech</th><th scope=col>keyword</th><th scope=col>ngram</th><th scope=col>freq</th><th scope=col>rake</th></tr>\n",
       "\t<tr><th></th><th scope=col>&lt;chr&gt;</th><th scope=col>&lt;chr&gt;</th><th scope=col>&lt;int&gt;</th><th scope=col>&lt;int&gt;</th><th scope=col>&lt;dbl&gt;</th></tr>\n",
       "</thead>\n",
       "<tbody>\n",
       "\t<tr><th scope=row>1</th><td>2021 Biden  </td><td>gun violence</td><td>2</td><td>3</td><td>2.123810</td></tr>\n",
       "\t<tr><th scope=row>2</th><td>1994 Clinton</td><td>own gun     </td><td>2</td><td>2</td><td>2.107143</td></tr>\n",
       "\t<tr><th scope=row>3</th><td>2000 Clinton</td><td>keep gun    </td><td>2</td><td>2</td><td>2.100000</td></tr>\n",
       "\t<tr><th scope=row>4</th><td>2013 Obama  </td><td>gun violence</td><td>2</td><td>2</td><td>1.833333</td></tr>\n",
       "\t<tr><th scope=row>5</th><td>2000 Clinton</td><td>gun         </td><td>1</td><td>4</td><td>1.600000</td></tr>\n",
       "\t<tr><th scope=row>6</th><td>2021 Biden  </td><td>gun         </td><td>1</td><td>4</td><td>1.266667</td></tr>\n",
       "</tbody>\n",
       "</table>\n"
      ],
      "text/latex": [
       "A data.frame: 6 × 5\n",
       "\\begin{tabular}{r|lllll}\n",
       "  & Speech & keyword & ngram & freq & rake\\\\\n",
       "  & <chr> & <chr> & <int> & <int> & <dbl>\\\\\n",
       "\\hline\n",
       "\t1 & 2021 Biden   & gun violence & 2 & 3 & 2.123810\\\\\n",
       "\t2 & 1994 Clinton & own gun      & 2 & 2 & 2.107143\\\\\n",
       "\t3 & 2000 Clinton & keep gun     & 2 & 2 & 2.100000\\\\\n",
       "\t4 & 2013 Obama   & gun violence & 2 & 2 & 1.833333\\\\\n",
       "\t5 & 2000 Clinton & gun          & 1 & 4 & 1.600000\\\\\n",
       "\t6 & 2021 Biden   & gun          & 1 & 4 & 1.266667\\\\\n",
       "\\end{tabular}\n"
      ],
      "text/markdown": [
       "\n",
       "A data.frame: 6 × 5\n",
       "\n",
       "| <!--/--> | Speech &lt;chr&gt; | keyword &lt;chr&gt; | ngram &lt;int&gt; | freq &lt;int&gt; | rake &lt;dbl&gt; |\n",
       "|---|---|---|---|---|---|\n",
       "| 1 | 2021 Biden   | gun violence | 2 | 3 | 2.123810 |\n",
       "| 2 | 1994 Clinton | own gun      | 2 | 2 | 2.107143 |\n",
       "| 3 | 2000 Clinton | keep gun     | 2 | 2 | 2.100000 |\n",
       "| 4 | 2013 Obama   | gun violence | 2 | 2 | 1.833333 |\n",
       "| 5 | 2000 Clinton | gun          | 1 | 4 | 1.600000 |\n",
       "| 6 | 2021 Biden   | gun          | 1 | 4 | 1.266667 |\n",
       "\n"
      ],
      "text/plain": [
       "  Speech       keyword      ngram freq rake    \n",
       "1 2021 Biden   gun violence 2     3    2.123810\n",
       "2 1994 Clinton own gun      2     2    2.107143\n",
       "3 2000 Clinton keep gun     2     2    2.100000\n",
       "4 2013 Obama   gun violence 2     2    1.833333\n",
       "5 2000 Clinton gun          1     4    1.600000\n",
       "6 2021 Biden   gun          1     4    1.266667"
      ]
     },
     "metadata": {},
     "output_type": "display_data"
    }
   ],
   "source": [
    "find_topic(\"gun\")"
   ]
  },
  {
   "cell_type": "code",
   "execution_count": 17,
   "metadata": {},
   "outputs": [
    {
     "data": {
      "text/html": [
       "<table class=\"dataframe\">\n",
       "<caption>A data.frame: 6 × 5</caption>\n",
       "<thead>\n",
       "\t<tr><th></th><th scope=col>Speech</th><th scope=col>keyword</th><th scope=col>ngram</th><th scope=col>freq</th><th scope=col>rake</th></tr>\n",
       "\t<tr><th></th><th scope=col>&lt;chr&gt;</th><th scope=col>&lt;chr&gt;</th><th scope=col>&lt;int&gt;</th><th scope=col>&lt;int&gt;</th><th scope=col>&lt;dbl&gt;</th></tr>\n",
       "</thead>\n",
       "<tbody>\n",
       "\t<tr><th scope=row>1</th><td>1998 Clinton</td><td>tax cut   </td><td>2</td><td>2</td><td>3.853846</td></tr>\n",
       "\t<tr><th scope=row>2</th><td>2000 Clinton</td><td>tax credit</td><td>2</td><td>4</td><td>3.692308</td></tr>\n",
       "\t<tr><th scope=row>3</th><td>2013 Obama  </td><td>tax reform</td><td>2</td><td>2</td><td>3.371429</td></tr>\n",
       "\t<tr><th scope=row>4</th><td>2005 GWBush </td><td>tax code  </td><td>2</td><td>2</td><td>3.366667</td></tr>\n",
       "\t<tr><th scope=row>5</th><td>2010 Obama  </td><td>tax credit</td><td>2</td><td>2</td><td>3.187500</td></tr>\n",
       "\t<tr><th scope=row>6</th><td>2010 Obama  </td><td>tax cut   </td><td>2</td><td>2</td><td>2.995192</td></tr>\n",
       "</tbody>\n",
       "</table>\n"
      ],
      "text/latex": [
       "A data.frame: 6 × 5\n",
       "\\begin{tabular}{r|lllll}\n",
       "  & Speech & keyword & ngram & freq & rake\\\\\n",
       "  & <chr> & <chr> & <int> & <int> & <dbl>\\\\\n",
       "\\hline\n",
       "\t1 & 1998 Clinton & tax cut    & 2 & 2 & 3.853846\\\\\n",
       "\t2 & 2000 Clinton & tax credit & 2 & 4 & 3.692308\\\\\n",
       "\t3 & 2013 Obama   & tax reform & 2 & 2 & 3.371429\\\\\n",
       "\t4 & 2005 GWBush  & tax code   & 2 & 2 & 3.366667\\\\\n",
       "\t5 & 2010 Obama   & tax credit & 2 & 2 & 3.187500\\\\\n",
       "\t6 & 2010 Obama   & tax cut    & 2 & 2 & 2.995192\\\\\n",
       "\\end{tabular}\n"
      ],
      "text/markdown": [
       "\n",
       "A data.frame: 6 × 5\n",
       "\n",
       "| <!--/--> | Speech &lt;chr&gt; | keyword &lt;chr&gt; | ngram &lt;int&gt; | freq &lt;int&gt; | rake &lt;dbl&gt; |\n",
       "|---|---|---|---|---|---|\n",
       "| 1 | 1998 Clinton | tax cut    | 2 | 2 | 3.853846 |\n",
       "| 2 | 2000 Clinton | tax credit | 2 | 4 | 3.692308 |\n",
       "| 3 | 2013 Obama   | tax reform | 2 | 2 | 3.371429 |\n",
       "| 4 | 2005 GWBush  | tax code   | 2 | 2 | 3.366667 |\n",
       "| 5 | 2010 Obama   | tax credit | 2 | 2 | 3.187500 |\n",
       "| 6 | 2010 Obama   | tax cut    | 2 | 2 | 2.995192 |\n",
       "\n"
      ],
      "text/plain": [
       "  Speech       keyword    ngram freq rake    \n",
       "1 1998 Clinton tax cut    2     2    3.853846\n",
       "2 2000 Clinton tax credit 2     4    3.692308\n",
       "3 2013 Obama   tax reform 2     2    3.371429\n",
       "4 2005 GWBush  tax code   2     2    3.366667\n",
       "5 2010 Obama   tax credit 2     2    3.187500\n",
       "6 2010 Obama   tax cut    2     2    2.995192"
      ]
     },
     "metadata": {},
     "output_type": "display_data"
    }
   ],
   "source": [
    "find_topic(\"tax\")"
   ]
  },
  {
   "cell_type": "code",
   "execution_count": 18,
   "metadata": {},
   "outputs": [
    {
     "data": {
      "text/html": [
       "<table class=\"dataframe\">\n",
       "<caption>A data.frame: 6 × 5</caption>\n",
       "<thead>\n",
       "\t<tr><th></th><th scope=col>Speech</th><th scope=col>keyword</th><th scope=col>ngram</th><th scope=col>freq</th><th scope=col>rake</th></tr>\n",
       "\t<tr><th></th><th scope=col>&lt;chr&gt;</th><th scope=col>&lt;chr&gt;</th><th scope=col>&lt;int&gt;</th><th scope=col>&lt;int&gt;</th><th scope=col>&lt;dbl&gt;</th></tr>\n",
       "</thead>\n",
       "<tbody>\n",
       "\t<tr><th scope=row>1</th><td>2009 Obama  </td><td>help banks</td><td>2</td><td>2</td><td>2.0625</td></tr>\n",
       "\t<tr><th scope=row>2</th><td>2010 Obama  </td><td>bank      </td><td>1</td><td>2</td><td>1.5000</td></tr>\n",
       "\t<tr><th scope=row>3</th><td>2009 Obama  </td><td>bank      </td><td>1</td><td>4</td><td>1.0000</td></tr>\n",
       "\t<tr><th scope=row>4</th><td>2010 Obama  </td><td>banks     </td><td>1</td><td>2</td><td>0.6000</td></tr>\n",
       "\t<tr><th scope=row>5</th><td>2012 Obama  </td><td>bank      </td><td>1</td><td>3</td><td>0.2500</td></tr>\n",
       "\t<tr><th scope=row>6</th><td>1994 Clinton</td><td>bankruptcy</td><td>1</td><td>2</td><td>0.0000</td></tr>\n",
       "</tbody>\n",
       "</table>\n"
      ],
      "text/latex": [
       "A data.frame: 6 × 5\n",
       "\\begin{tabular}{r|lllll}\n",
       "  & Speech & keyword & ngram & freq & rake\\\\\n",
       "  & <chr> & <chr> & <int> & <int> & <dbl>\\\\\n",
       "\\hline\n",
       "\t1 & 2009 Obama   & help banks & 2 & 2 & 2.0625\\\\\n",
       "\t2 & 2010 Obama   & bank       & 1 & 2 & 1.5000\\\\\n",
       "\t3 & 2009 Obama   & bank       & 1 & 4 & 1.0000\\\\\n",
       "\t4 & 2010 Obama   & banks      & 1 & 2 & 0.6000\\\\\n",
       "\t5 & 2012 Obama   & bank       & 1 & 3 & 0.2500\\\\\n",
       "\t6 & 1994 Clinton & bankruptcy & 1 & 2 & 0.0000\\\\\n",
       "\\end{tabular}\n"
      ],
      "text/markdown": [
       "\n",
       "A data.frame: 6 × 5\n",
       "\n",
       "| <!--/--> | Speech &lt;chr&gt; | keyword &lt;chr&gt; | ngram &lt;int&gt; | freq &lt;int&gt; | rake &lt;dbl&gt; |\n",
       "|---|---|---|---|---|---|\n",
       "| 1 | 2009 Obama   | help banks | 2 | 2 | 2.0625 |\n",
       "| 2 | 2010 Obama   | bank       | 1 | 2 | 1.5000 |\n",
       "| 3 | 2009 Obama   | bank       | 1 | 4 | 1.0000 |\n",
       "| 4 | 2010 Obama   | banks      | 1 | 2 | 0.6000 |\n",
       "| 5 | 2012 Obama   | bank       | 1 | 3 | 0.2500 |\n",
       "| 6 | 1994 Clinton | bankruptcy | 1 | 2 | 0.0000 |\n",
       "\n"
      ],
      "text/plain": [
       "  Speech       keyword    ngram freq rake  \n",
       "1 2009 Obama   help banks 2     2    2.0625\n",
       "2 2010 Obama   bank       1     2    1.5000\n",
       "3 2009 Obama   bank       1     4    1.0000\n",
       "4 2010 Obama   banks      1     2    0.6000\n",
       "5 2012 Obama   bank       1     3    0.2500\n",
       "6 1994 Clinton bankruptcy 1     2    0.0000"
      ]
     },
     "metadata": {},
     "output_type": "display_data"
    }
   ],
   "source": [
    "find_topic(\"bank\")"
   ]
  },
  {
   "cell_type": "code",
   "execution_count": 19,
   "metadata": {},
   "outputs": [
    {
     "data": {
      "text/html": [
       "<table class=\"dataframe\">\n",
       "<caption>A data.frame: 6 × 5</caption>\n",
       "<thead>\n",
       "\t<tr><th></th><th scope=col>Speech</th><th scope=col>keyword</th><th scope=col>ngram</th><th scope=col>freq</th><th scope=col>rake</th></tr>\n",
       "\t<tr><th></th><th scope=col>&lt;chr&gt;</th><th scope=col>&lt;chr&gt;</th><th scope=col>&lt;int&gt;</th><th scope=col>&lt;int&gt;</th><th scope=col>&lt;dbl&gt;</th></tr>\n",
       "</thead>\n",
       "<tbody>\n",
       "\t<tr><th scope=row>1</th><td>2005 GWBush </td><td>social security  </td><td>2</td><td>3</td><td>3.863636</td></tr>\n",
       "\t<tr><th scope=row>2</th><td>2001 GWBush </td><td>social security  </td><td>2</td><td>3</td><td>3.266667</td></tr>\n",
       "\t<tr><th scope=row>3</th><td>1999 Clinton</td><td>social security  </td><td>2</td><td>5</td><td>3.101504</td></tr>\n",
       "\t<tr><th scope=row>4</th><td>1998 Clinton</td><td>social security  </td><td>2</td><td>2</td><td>2.666667</td></tr>\n",
       "\t<tr><th scope=row>5</th><td>2008 GWBush </td><td>energy security  </td><td>2</td><td>2</td><td>2.466667</td></tr>\n",
       "\t<tr><th scope=row>6</th><td>1988 Reagan </td><td>national security</td><td>2</td><td>2</td><td>2.450000</td></tr>\n",
       "</tbody>\n",
       "</table>\n"
      ],
      "text/latex": [
       "A data.frame: 6 × 5\n",
       "\\begin{tabular}{r|lllll}\n",
       "  & Speech & keyword & ngram & freq & rake\\\\\n",
       "  & <chr> & <chr> & <int> & <int> & <dbl>\\\\\n",
       "\\hline\n",
       "\t1 & 2005 GWBush  & social security   & 2 & 3 & 3.863636\\\\\n",
       "\t2 & 2001 GWBush  & social security   & 2 & 3 & 3.266667\\\\\n",
       "\t3 & 1999 Clinton & social security   & 2 & 5 & 3.101504\\\\\n",
       "\t4 & 1998 Clinton & social security   & 2 & 2 & 2.666667\\\\\n",
       "\t5 & 2008 GWBush  & energy security   & 2 & 2 & 2.466667\\\\\n",
       "\t6 & 1988 Reagan  & national security & 2 & 2 & 2.450000\\\\\n",
       "\\end{tabular}\n"
      ],
      "text/markdown": [
       "\n",
       "A data.frame: 6 × 5\n",
       "\n",
       "| <!--/--> | Speech &lt;chr&gt; | keyword &lt;chr&gt; | ngram &lt;int&gt; | freq &lt;int&gt; | rake &lt;dbl&gt; |\n",
       "|---|---|---|---|---|---|\n",
       "| 1 | 2005 GWBush  | social security   | 2 | 3 | 3.863636 |\n",
       "| 2 | 2001 GWBush  | social security   | 2 | 3 | 3.266667 |\n",
       "| 3 | 1999 Clinton | social security   | 2 | 5 | 3.101504 |\n",
       "| 4 | 1998 Clinton | social security   | 2 | 2 | 2.666667 |\n",
       "| 5 | 2008 GWBush  | energy security   | 2 | 2 | 2.466667 |\n",
       "| 6 | 1988 Reagan  | national security | 2 | 2 | 2.450000 |\n",
       "\n"
      ],
      "text/plain": [
       "  Speech       keyword           ngram freq rake    \n",
       "1 2005 GWBush  social security   2     3    3.863636\n",
       "2 2001 GWBush  social security   2     3    3.266667\n",
       "3 1999 Clinton social security   2     5    3.101504\n",
       "4 1998 Clinton social security   2     2    2.666667\n",
       "5 2008 GWBush  energy security   2     2    2.466667\n",
       "6 1988 Reagan  national security 2     2    2.450000"
      ]
     },
     "metadata": {},
     "output_type": "display_data"
    }
   ],
   "source": [
    "find_topic(\"security\")"
   ]
  },
  {
   "cell_type": "code",
   "execution_count": 20,
   "metadata": {},
   "outputs": [
    {
     "data": {
      "text/html": [
       "<table class=\"dataframe\">\n",
       "<caption>A data.frame: 6 × 5</caption>\n",
       "<thead>\n",
       "\t<tr><th></th><th scope=col>Speech</th><th scope=col>keyword</th><th scope=col>ngram</th><th scope=col>freq</th><th scope=col>rake</th></tr>\n",
       "\t<tr><th></th><th scope=col>&lt;chr&gt;</th><th scope=col>&lt;chr&gt;</th><th scope=col>&lt;int&gt;</th><th scope=col>&lt;int&gt;</th><th scope=col>&lt;dbl&gt;</th></tr>\n",
       "</thead>\n",
       "<tbody>\n",
       "\t<tr><th scope=row>1</th><td>2002 GWBush</td><td>terrorist camp         </td><td>2</td><td>2</td><td>2.275000</td></tr>\n",
       "\t<tr><th scope=row>2</th><td>1988 Reagan</td><td>nuclear terror         </td><td>2</td><td>2</td><td>2.142857</td></tr>\n",
       "\t<tr><th scope=row>3</th><td>2006 GWBush</td><td>terror network         </td><td>2</td><td>2</td><td>1.833333</td></tr>\n",
       "\t<tr><th scope=row>4</th><td>2006 GWBush</td><td>terrorist              </td><td>1</td><td>2</td><td>1.454545</td></tr>\n",
       "\t<tr><th scope=row>5</th><td>2013 Obama </td><td>counterterrorism effort</td><td>2</td><td>2</td><td>1.400000</td></tr>\n",
       "\t<tr><th scope=row>6</th><td>2005 GWBush</td><td>harbor terrorist       </td><td>2</td><td>2</td><td>1.250000</td></tr>\n",
       "</tbody>\n",
       "</table>\n"
      ],
      "text/latex": [
       "A data.frame: 6 × 5\n",
       "\\begin{tabular}{r|lllll}\n",
       "  & Speech & keyword & ngram & freq & rake\\\\\n",
       "  & <chr> & <chr> & <int> & <int> & <dbl>\\\\\n",
       "\\hline\n",
       "\t1 & 2002 GWBush & terrorist camp          & 2 & 2 & 2.275000\\\\\n",
       "\t2 & 1988 Reagan & nuclear terror          & 2 & 2 & 2.142857\\\\\n",
       "\t3 & 2006 GWBush & terror network          & 2 & 2 & 1.833333\\\\\n",
       "\t4 & 2006 GWBush & terrorist               & 1 & 2 & 1.454545\\\\\n",
       "\t5 & 2013 Obama  & counterterrorism effort & 2 & 2 & 1.400000\\\\\n",
       "\t6 & 2005 GWBush & harbor terrorist        & 2 & 2 & 1.250000\\\\\n",
       "\\end{tabular}\n"
      ],
      "text/markdown": [
       "\n",
       "A data.frame: 6 × 5\n",
       "\n",
       "| <!--/--> | Speech &lt;chr&gt; | keyword &lt;chr&gt; | ngram &lt;int&gt; | freq &lt;int&gt; | rake &lt;dbl&gt; |\n",
       "|---|---|---|---|---|---|\n",
       "| 1 | 2002 GWBush | terrorist camp          | 2 | 2 | 2.275000 |\n",
       "| 2 | 1988 Reagan | nuclear terror          | 2 | 2 | 2.142857 |\n",
       "| 3 | 2006 GWBush | terror network          | 2 | 2 | 1.833333 |\n",
       "| 4 | 2006 GWBush | terrorist               | 1 | 2 | 1.454545 |\n",
       "| 5 | 2013 Obama  | counterterrorism effort | 2 | 2 | 1.400000 |\n",
       "| 6 | 2005 GWBush | harbor terrorist        | 2 | 2 | 1.250000 |\n",
       "\n"
      ],
      "text/plain": [
       "  Speech      keyword                 ngram freq rake    \n",
       "1 2002 GWBush terrorist camp          2     2    2.275000\n",
       "2 1988 Reagan nuclear terror          2     2    2.142857\n",
       "3 2006 GWBush terror network          2     2    1.833333\n",
       "4 2006 GWBush terrorist               1     2    1.454545\n",
       "5 2013 Obama  counterterrorism effort 2     2    1.400000\n",
       "6 2005 GWBush harbor terrorist        2     2    1.250000"
      ]
     },
     "metadata": {},
     "output_type": "display_data"
    }
   ],
   "source": [
    "find_topic(\"terror\")"
   ]
  },
  {
   "cell_type": "code",
   "execution_count": 21,
   "metadata": {},
   "outputs": [
    {
     "data": {
      "text/html": [
       "<table class=\"dataframe\">\n",
       "<caption>A data.frame: 6 × 5</caption>\n",
       "<thead>\n",
       "\t<tr><th></th><th scope=col>Speech</th><th scope=col>keyword</th><th scope=col>ngram</th><th scope=col>freq</th><th scope=col>rake</th></tr>\n",
       "\t<tr><th></th><th scope=col>&lt;chr&gt;</th><th scope=col>&lt;chr&gt;</th><th scope=col>&lt;int&gt;</th><th scope=col>&lt;int&gt;</th><th scope=col>&lt;dbl&gt;</th></tr>\n",
       "</thead>\n",
       "<tbody>\n",
       "\t<tr><th scope=row>1</th><td>1982 Reagan </td><td>near future      </td><td>2</td><td>2</td><td>2.111111</td></tr>\n",
       "\t<tr><th scope=row>2</th><td>1993 Clinton</td><td>economic future  </td><td>2</td><td>2</td><td>1.867133</td></tr>\n",
       "\t<tr><th scope=row>3</th><td>2013 Obama  </td><td>future generation</td><td>2</td><td>2</td><td>1.750000</td></tr>\n",
       "\t<tr><th scope=row>4</th><td>1989 BushSr </td><td>better future    </td><td>2</td><td>2</td><td>1.466667</td></tr>\n",
       "\t<tr><th scope=row>5</th><td>2016 Obama  </td><td>better future    </td><td>2</td><td>2</td><td>1.428571</td></tr>\n",
       "\t<tr><th scope=row>6</th><td>2014 Obama  </td><td>future generation</td><td>2</td><td>2</td><td>1.300000</td></tr>\n",
       "</tbody>\n",
       "</table>\n"
      ],
      "text/latex": [
       "A data.frame: 6 × 5\n",
       "\\begin{tabular}{r|lllll}\n",
       "  & Speech & keyword & ngram & freq & rake\\\\\n",
       "  & <chr> & <chr> & <int> & <int> & <dbl>\\\\\n",
       "\\hline\n",
       "\t1 & 1982 Reagan  & near future       & 2 & 2 & 2.111111\\\\\n",
       "\t2 & 1993 Clinton & economic future   & 2 & 2 & 1.867133\\\\\n",
       "\t3 & 2013 Obama   & future generation & 2 & 2 & 1.750000\\\\\n",
       "\t4 & 1989 BushSr  & better future     & 2 & 2 & 1.466667\\\\\n",
       "\t5 & 2016 Obama   & better future     & 2 & 2 & 1.428571\\\\\n",
       "\t6 & 2014 Obama   & future generation & 2 & 2 & 1.300000\\\\\n",
       "\\end{tabular}\n"
      ],
      "text/markdown": [
       "\n",
       "A data.frame: 6 × 5\n",
       "\n",
       "| <!--/--> | Speech &lt;chr&gt; | keyword &lt;chr&gt; | ngram &lt;int&gt; | freq &lt;int&gt; | rake &lt;dbl&gt; |\n",
       "|---|---|---|---|---|---|\n",
       "| 1 | 1982 Reagan  | near future       | 2 | 2 | 2.111111 |\n",
       "| 2 | 1993 Clinton | economic future   | 2 | 2 | 1.867133 |\n",
       "| 3 | 2013 Obama   | future generation | 2 | 2 | 1.750000 |\n",
       "| 4 | 1989 BushSr  | better future     | 2 | 2 | 1.466667 |\n",
       "| 5 | 2016 Obama   | better future     | 2 | 2 | 1.428571 |\n",
       "| 6 | 2014 Obama   | future generation | 2 | 2 | 1.300000 |\n",
       "\n"
      ],
      "text/plain": [
       "  Speech       keyword           ngram freq rake    \n",
       "1 1982 Reagan  near future       2     2    2.111111\n",
       "2 1993 Clinton economic future   2     2    1.867133\n",
       "3 2013 Obama   future generation 2     2    1.750000\n",
       "4 1989 BushSr  better future     2     2    1.466667\n",
       "5 2016 Obama   better future     2     2    1.428571\n",
       "6 2014 Obama   future generation 2     2    1.300000"
      ]
     },
     "metadata": {},
     "output_type": "display_data"
    }
   ],
   "source": [
    "find_topic(\"future\")"
   ]
  },
  {
   "cell_type": "code",
   "execution_count": 22,
   "metadata": {},
   "outputs": [
    {
     "data": {
      "text/html": [
       "<table class=\"dataframe\">\n",
       "<caption>A data.frame: 3 × 5</caption>\n",
       "<thead>\n",
       "\t<tr><th></th><th scope=col>Speech</th><th scope=col>keyword</th><th scope=col>ngram</th><th scope=col>freq</th><th scope=col>rake</th></tr>\n",
       "\t<tr><th></th><th scope=col>&lt;chr&gt;</th><th scope=col>&lt;chr&gt;</th><th scope=col>&lt;int&gt;</th><th scope=col>&lt;int&gt;</th><th scope=col>&lt;dbl&gt;</th></tr>\n",
       "</thead>\n",
       "<tbody>\n",
       "\t<tr><th scope=row>1</th><td>2020 Trump  </td><td>illegal alien      </td><td>2</td><td>3</td><td>3.300000</td></tr>\n",
       "\t<tr><th scope=row>2</th><td>1995 Clinton</td><td>illegal alien      </td><td>2</td><td>2</td><td>3.000000</td></tr>\n",
       "\t<tr><th scope=row>3</th><td>2019 Trump  </td><td>illegal immigration</td><td>2</td><td>2</td><td>2.933333</td></tr>\n",
       "</tbody>\n",
       "</table>\n"
      ],
      "text/latex": [
       "A data.frame: 3 × 5\n",
       "\\begin{tabular}{r|lllll}\n",
       "  & Speech & keyword & ngram & freq & rake\\\\\n",
       "  & <chr> & <chr> & <int> & <int> & <dbl>\\\\\n",
       "\\hline\n",
       "\t1 & 2020 Trump   & illegal alien       & 2 & 3 & 3.300000\\\\\n",
       "\t2 & 1995 Clinton & illegal alien       & 2 & 2 & 3.000000\\\\\n",
       "\t3 & 2019 Trump   & illegal immigration & 2 & 2 & 2.933333\\\\\n",
       "\\end{tabular}\n"
      ],
      "text/markdown": [
       "\n",
       "A data.frame: 3 × 5\n",
       "\n",
       "| <!--/--> | Speech &lt;chr&gt; | keyword &lt;chr&gt; | ngram &lt;int&gt; | freq &lt;int&gt; | rake &lt;dbl&gt; |\n",
       "|---|---|---|---|---|---|\n",
       "| 1 | 2020 Trump   | illegal alien       | 2 | 3 | 3.300000 |\n",
       "| 2 | 1995 Clinton | illegal alien       | 2 | 2 | 3.000000 |\n",
       "| 3 | 2019 Trump   | illegal immigration | 2 | 2 | 2.933333 |\n",
       "\n"
      ],
      "text/plain": [
       "  Speech       keyword             ngram freq rake    \n",
       "1 2020 Trump   illegal alien       2     3    3.300000\n",
       "2 1995 Clinton illegal alien       2     2    3.000000\n",
       "3 2019 Trump   illegal immigration 2     2    2.933333"
      ]
     },
     "metadata": {},
     "output_type": "display_data"
    }
   ],
   "source": [
    "find_topic(\"illegal\")"
   ]
  },
  {
   "cell_type": "code",
   "execution_count": 23,
   "metadata": {},
   "outputs": [
    {
     "data": {
      "text/html": [
       "<table class=\"dataframe\">\n",
       "<caption>A data.frame: 2 × 5</caption>\n",
       "<thead>\n",
       "\t<tr><th></th><th scope=col>Speech</th><th scope=col>keyword</th><th scope=col>ngram</th><th scope=col>freq</th><th scope=col>rake</th></tr>\n",
       "\t<tr><th></th><th scope=col>&lt;chr&gt;</th><th scope=col>&lt;chr&gt;</th><th scope=col>&lt;int&gt;</th><th scope=col>&lt;int&gt;</th><th scope=col>&lt;dbl&gt;</th></tr>\n",
       "</thead>\n",
       "<tbody>\n",
       "\t<tr><th scope=row>1</th><td>2000 Clinton</td><td>prescription drug</td><td>2</td><td>2</td><td>3.055556</td></tr>\n",
       "\t<tr><th scope=row>2</th><td>2019 Trump  </td><td>prescription drug</td><td>2</td><td>2</td><td>2.500000</td></tr>\n",
       "</tbody>\n",
       "</table>\n"
      ],
      "text/latex": [
       "A data.frame: 2 × 5\n",
       "\\begin{tabular}{r|lllll}\n",
       "  & Speech & keyword & ngram & freq & rake\\\\\n",
       "  & <chr> & <chr> & <int> & <int> & <dbl>\\\\\n",
       "\\hline\n",
       "\t1 & 2000 Clinton & prescription drug & 2 & 2 & 3.055556\\\\\n",
       "\t2 & 2019 Trump   & prescription drug & 2 & 2 & 2.500000\\\\\n",
       "\\end{tabular}\n"
      ],
      "text/markdown": [
       "\n",
       "A data.frame: 2 × 5\n",
       "\n",
       "| <!--/--> | Speech &lt;chr&gt; | keyword &lt;chr&gt; | ngram &lt;int&gt; | freq &lt;int&gt; | rake &lt;dbl&gt; |\n",
       "|---|---|---|---|---|---|\n",
       "| 1 | 2000 Clinton | prescription drug | 2 | 2 | 3.055556 |\n",
       "| 2 | 2019 Trump   | prescription drug | 2 | 2 | 2.500000 |\n",
       "\n"
      ],
      "text/plain": [
       "  Speech       keyword           ngram freq rake    \n",
       "1 2000 Clinton prescription drug 2     2    3.055556\n",
       "2 2019 Trump   prescription drug 2     2    2.500000"
      ]
     },
     "metadata": {},
     "output_type": "display_data"
    }
   ],
   "source": [
    "find_topic(\"prescription\")"
   ]
  },
  {
   "cell_type": "code",
   "execution_count": 24,
   "metadata": {},
   "outputs": [
    {
     "data": {
      "text/html": [
       "<table class=\"dataframe\">\n",
       "<caption>A data.frame: 6 × 5</caption>\n",
       "<thead>\n",
       "\t<tr><th></th><th scope=col>Speech</th><th scope=col>keyword</th><th scope=col>ngram</th><th scope=col>freq</th><th scope=col>rake</th></tr>\n",
       "\t<tr><th></th><th scope=col>&lt;chr&gt;</th><th scope=col>&lt;chr&gt;</th><th scope=col>&lt;int&gt;</th><th scope=col>&lt;int&gt;</th><th scope=col>&lt;dbl&gt;</th></tr>\n",
       "</thead>\n",
       "<tbody>\n",
       "\t<tr><th scope=row>1</th><td>2007 GWBush </td><td>health insurance      </td><td>2</td><td>4</td><td>4.033613</td></tr>\n",
       "\t<tr><th scope=row>2</th><td>2004 GWBush </td><td>health insurance      </td><td>2</td><td>2</td><td>3.687500</td></tr>\n",
       "\t<tr><th scope=row>3</th><td>1994 Clinton</td><td>health insurance      </td><td>2</td><td>4</td><td>3.315549</td></tr>\n",
       "\t<tr><th scope=row>4</th><td>1999 Clinton</td><td>health insurance      </td><td>2</td><td>2</td><td>3.150000</td></tr>\n",
       "\t<tr><th scope=row>5</th><td>2014 Obama  </td><td>unemployment insurance</td><td>2</td><td>2</td><td>3.071429</td></tr>\n",
       "\t<tr><th scope=row>6</th><td>1998 Clinton</td><td>health insurance      </td><td>2</td><td>2</td><td>2.933333</td></tr>\n",
       "</tbody>\n",
       "</table>\n"
      ],
      "text/latex": [
       "A data.frame: 6 × 5\n",
       "\\begin{tabular}{r|lllll}\n",
       "  & Speech & keyword & ngram & freq & rake\\\\\n",
       "  & <chr> & <chr> & <int> & <int> & <dbl>\\\\\n",
       "\\hline\n",
       "\t1 & 2007 GWBush  & health insurance       & 2 & 4 & 4.033613\\\\\n",
       "\t2 & 2004 GWBush  & health insurance       & 2 & 2 & 3.687500\\\\\n",
       "\t3 & 1994 Clinton & health insurance       & 2 & 4 & 3.315549\\\\\n",
       "\t4 & 1999 Clinton & health insurance       & 2 & 2 & 3.150000\\\\\n",
       "\t5 & 2014 Obama   & unemployment insurance & 2 & 2 & 3.071429\\\\\n",
       "\t6 & 1998 Clinton & health insurance       & 2 & 2 & 2.933333\\\\\n",
       "\\end{tabular}\n"
      ],
      "text/markdown": [
       "\n",
       "A data.frame: 6 × 5\n",
       "\n",
       "| <!--/--> | Speech &lt;chr&gt; | keyword &lt;chr&gt; | ngram &lt;int&gt; | freq &lt;int&gt; | rake &lt;dbl&gt; |\n",
       "|---|---|---|---|---|---|\n",
       "| 1 | 2007 GWBush  | health insurance       | 2 | 4 | 4.033613 |\n",
       "| 2 | 2004 GWBush  | health insurance       | 2 | 2 | 3.687500 |\n",
       "| 3 | 1994 Clinton | health insurance       | 2 | 4 | 3.315549 |\n",
       "| 4 | 1999 Clinton | health insurance       | 2 | 2 | 3.150000 |\n",
       "| 5 | 2014 Obama   | unemployment insurance | 2 | 2 | 3.071429 |\n",
       "| 6 | 1998 Clinton | health insurance       | 2 | 2 | 2.933333 |\n",
       "\n"
      ],
      "text/plain": [
       "  Speech       keyword                ngram freq rake    \n",
       "1 2007 GWBush  health insurance       2     4    4.033613\n",
       "2 2004 GWBush  health insurance       2     2    3.687500\n",
       "3 1994 Clinton health insurance       2     4    3.315549\n",
       "4 1999 Clinton health insurance       2     2    3.150000\n",
       "5 2014 Obama   unemployment insurance 2     2    3.071429\n",
       "6 1998 Clinton health insurance       2     2    2.933333"
      ]
     },
     "metadata": {},
     "output_type": "display_data"
    }
   ],
   "source": [
    "find_topic(\"insurance\")"
   ]
  },
  {
   "cell_type": "code",
   "execution_count": 25,
   "metadata": {},
   "outputs": [
    {
     "data": {
      "text/html": [
       "<table class=\"dataframe\">\n",
       "<caption>A data.frame: 6 × 5</caption>\n",
       "<thead>\n",
       "\t<tr><th></th><th scope=col>Speech</th><th scope=col>keyword</th><th scope=col>ngram</th><th scope=col>freq</th><th scope=col>rake</th></tr>\n",
       "\t<tr><th></th><th scope=col>&lt;chr&gt;</th><th scope=col>&lt;chr&gt;</th><th scope=col>&lt;int&gt;</th><th scope=col>&lt;int&gt;</th><th scope=col>&lt;dbl&gt;</th></tr>\n",
       "</thead>\n",
       "<tbody>\n",
       "\t<tr><th scope=row>1</th><td>2020 Trump  </td><td>unemployment rate     </td><td>2</td><td>4</td><td>3.5000000</td></tr>\n",
       "\t<tr><th scope=row>2</th><td>2014 Obama  </td><td>unemployment insurance</td><td>2</td><td>2</td><td>3.0714286</td></tr>\n",
       "\t<tr><th scope=row>3</th><td>1983 Reagan </td><td>unemployment          </td><td>1</td><td>2</td><td>2.0000000</td></tr>\n",
       "\t<tr><th scope=row>4</th><td>1995 Clinton</td><td>employ people         </td><td>2</td><td>2</td><td>1.6027397</td></tr>\n",
       "\t<tr><th scope=row>5</th><td>1983 Reagan </td><td>term unemployed       </td><td>2</td><td>2</td><td>1.5000000</td></tr>\n",
       "\t<tr><th scope=row>6</th><td>1982 Reagan </td><td>unemployment          </td><td>1</td><td>3</td><td>0.7142857</td></tr>\n",
       "</tbody>\n",
       "</table>\n"
      ],
      "text/latex": [
       "A data.frame: 6 × 5\n",
       "\\begin{tabular}{r|lllll}\n",
       "  & Speech & keyword & ngram & freq & rake\\\\\n",
       "  & <chr> & <chr> & <int> & <int> & <dbl>\\\\\n",
       "\\hline\n",
       "\t1 & 2020 Trump   & unemployment rate      & 2 & 4 & 3.5000000\\\\\n",
       "\t2 & 2014 Obama   & unemployment insurance & 2 & 2 & 3.0714286\\\\\n",
       "\t3 & 1983 Reagan  & unemployment           & 1 & 2 & 2.0000000\\\\\n",
       "\t4 & 1995 Clinton & employ people          & 2 & 2 & 1.6027397\\\\\n",
       "\t5 & 1983 Reagan  & term unemployed        & 2 & 2 & 1.5000000\\\\\n",
       "\t6 & 1982 Reagan  & unemployment           & 1 & 3 & 0.7142857\\\\\n",
       "\\end{tabular}\n"
      ],
      "text/markdown": [
       "\n",
       "A data.frame: 6 × 5\n",
       "\n",
       "| <!--/--> | Speech &lt;chr&gt; | keyword &lt;chr&gt; | ngram &lt;int&gt; | freq &lt;int&gt; | rake &lt;dbl&gt; |\n",
       "|---|---|---|---|---|---|\n",
       "| 1 | 2020 Trump   | unemployment rate      | 2 | 4 | 3.5000000 |\n",
       "| 2 | 2014 Obama   | unemployment insurance | 2 | 2 | 3.0714286 |\n",
       "| 3 | 1983 Reagan  | unemployment           | 1 | 2 | 2.0000000 |\n",
       "| 4 | 1995 Clinton | employ people          | 2 | 2 | 1.6027397 |\n",
       "| 5 | 1983 Reagan  | term unemployed        | 2 | 2 | 1.5000000 |\n",
       "| 6 | 1982 Reagan  | unemployment           | 1 | 3 | 0.7142857 |\n",
       "\n"
      ],
      "text/plain": [
       "  Speech       keyword                ngram freq rake     \n",
       "1 2020 Trump   unemployment rate      2     4    3.5000000\n",
       "2 2014 Obama   unemployment insurance 2     2    3.0714286\n",
       "3 1983 Reagan  unemployment           1     2    2.0000000\n",
       "4 1995 Clinton employ people          2     2    1.6027397\n",
       "5 1983 Reagan  term unemployed        2     2    1.5000000\n",
       "6 1982 Reagan  unemployment           1     3    0.7142857"
      ]
     },
     "metadata": {},
     "output_type": "display_data"
    }
   ],
   "source": [
    "find_topic(\"employ\")"
   ]
  },
  {
   "cell_type": "code",
   "execution_count": 26,
   "metadata": {},
   "outputs": [
    {
     "data": {
      "text/html": [
       "<table class=\"dataframe\">\n",
       "<caption>A data.frame: 5 × 5</caption>\n",
       "<thead>\n",
       "\t<tr><th></th><th scope=col>Speech</th><th scope=col>keyword</th><th scope=col>ngram</th><th scope=col>freq</th><th scope=col>rake</th></tr>\n",
       "\t<tr><th></th><th scope=col>&lt;chr&gt;</th><th scope=col>&lt;chr&gt;</th><th scope=col>&lt;int&gt;</th><th scope=col>&lt;int&gt;</th><th scope=col>&lt;dbl&gt;</th></tr>\n",
       "</thead>\n",
       "<tbody>\n",
       "\t<tr><th scope=row>1</th><td>2011 Obama  </td><td>industry</td><td>1</td><td>2</td><td>1.1666667</td></tr>\n",
       "\t<tr><th scope=row>2</th><td>1984 Reagan </td><td>industry</td><td>1</td><td>2</td><td>1.0000000</td></tr>\n",
       "\t<tr><th scope=row>3</th><td>2012 Obama  </td><td>industry</td><td>1</td><td>4</td><td>0.9000000</td></tr>\n",
       "\t<tr><th scope=row>4</th><td>1981 Reagan </td><td>industry</td><td>1</td><td>3</td><td>0.8571429</td></tr>\n",
       "\t<tr><th scope=row>5</th><td>2000 Clinton</td><td>industry</td><td>1</td><td>2</td><td>0.6000000</td></tr>\n",
       "</tbody>\n",
       "</table>\n"
      ],
      "text/latex": [
       "A data.frame: 5 × 5\n",
       "\\begin{tabular}{r|lllll}\n",
       "  & Speech & keyword & ngram & freq & rake\\\\\n",
       "  & <chr> & <chr> & <int> & <int> & <dbl>\\\\\n",
       "\\hline\n",
       "\t1 & 2011 Obama   & industry & 1 & 2 & 1.1666667\\\\\n",
       "\t2 & 1984 Reagan  & industry & 1 & 2 & 1.0000000\\\\\n",
       "\t3 & 2012 Obama   & industry & 1 & 4 & 0.9000000\\\\\n",
       "\t4 & 1981 Reagan  & industry & 1 & 3 & 0.8571429\\\\\n",
       "\t5 & 2000 Clinton & industry & 1 & 2 & 0.6000000\\\\\n",
       "\\end{tabular}\n"
      ],
      "text/markdown": [
       "\n",
       "A data.frame: 5 × 5\n",
       "\n",
       "| <!--/--> | Speech &lt;chr&gt; | keyword &lt;chr&gt; | ngram &lt;int&gt; | freq &lt;int&gt; | rake &lt;dbl&gt; |\n",
       "|---|---|---|---|---|---|\n",
       "| 1 | 2011 Obama   | industry | 1 | 2 | 1.1666667 |\n",
       "| 2 | 1984 Reagan  | industry | 1 | 2 | 1.0000000 |\n",
       "| 3 | 2012 Obama   | industry | 1 | 4 | 0.9000000 |\n",
       "| 4 | 1981 Reagan  | industry | 1 | 3 | 0.8571429 |\n",
       "| 5 | 2000 Clinton | industry | 1 | 2 | 0.6000000 |\n",
       "\n"
      ],
      "text/plain": [
       "  Speech       keyword  ngram freq rake     \n",
       "1 2011 Obama   industry 1     2    1.1666667\n",
       "2 1984 Reagan  industry 1     2    1.0000000\n",
       "3 2012 Obama   industry 1     4    0.9000000\n",
       "4 1981 Reagan  industry 1     3    0.8571429\n",
       "5 2000 Clinton industry 1     2    0.6000000"
      ]
     },
     "metadata": {},
     "output_type": "display_data"
    }
   ],
   "source": [
    "find_topic(\"industry\")"
   ]
  },
  {
   "cell_type": "code",
   "execution_count": 27,
   "metadata": {},
   "outputs": [
    {
     "data": {
      "text/html": [
       "<table class=\"dataframe\">\n",
       "<caption>A data.frame: 6 × 5</caption>\n",
       "<thead>\n",
       "\t<tr><th></th><th scope=col>Speech</th><th scope=col>keyword</th><th scope=col>ngram</th><th scope=col>freq</th><th scope=col>rake</th></tr>\n",
       "\t<tr><th></th><th scope=col>&lt;chr&gt;</th><th scope=col>&lt;chr&gt;</th><th scope=col>&lt;int&gt;</th><th scope=col>&lt;int&gt;</th><th scope=col>&lt;dbl&gt;</th></tr>\n",
       "</thead>\n",
       "<tbody>\n",
       "\t<tr><th scope=row>1</th><td>1998 Clinton</td><td>global warming</td><td>2</td><td>2</td><td>2.428571</td></tr>\n",
       "\t<tr><th scope=row>2</th><td>1997 Clinton</td><td>cold war      </td><td>2</td><td>5</td><td>2.291667</td></tr>\n",
       "\t<tr><th scope=row>3</th><td>1992 BushSr </td><td>war begin     </td><td>2</td><td>2</td><td>1.833333</td></tr>\n",
       "\t<tr><th scope=row>4</th><td>1992 BushSr </td><td>cold war      </td><td>2</td><td>2</td><td>1.833333</td></tr>\n",
       "\t<tr><th scope=row>5</th><td>1995 Clinton</td><td>cold war      </td><td>2</td><td>6</td><td>1.750000</td></tr>\n",
       "\t<tr><th scope=row>6</th><td>1993 Clinton</td><td>reward work   </td><td>2</td><td>2</td><td>1.510345</td></tr>\n",
       "</tbody>\n",
       "</table>\n"
      ],
      "text/latex": [
       "A data.frame: 6 × 5\n",
       "\\begin{tabular}{r|lllll}\n",
       "  & Speech & keyword & ngram & freq & rake\\\\\n",
       "  & <chr> & <chr> & <int> & <int> & <dbl>\\\\\n",
       "\\hline\n",
       "\t1 & 1998 Clinton & global warming & 2 & 2 & 2.428571\\\\\n",
       "\t2 & 1997 Clinton & cold war       & 2 & 5 & 2.291667\\\\\n",
       "\t3 & 1992 BushSr  & war begin      & 2 & 2 & 1.833333\\\\\n",
       "\t4 & 1992 BushSr  & cold war       & 2 & 2 & 1.833333\\\\\n",
       "\t5 & 1995 Clinton & cold war       & 2 & 6 & 1.750000\\\\\n",
       "\t6 & 1993 Clinton & reward work    & 2 & 2 & 1.510345\\\\\n",
       "\\end{tabular}\n"
      ],
      "text/markdown": [
       "\n",
       "A data.frame: 6 × 5\n",
       "\n",
       "| <!--/--> | Speech &lt;chr&gt; | keyword &lt;chr&gt; | ngram &lt;int&gt; | freq &lt;int&gt; | rake &lt;dbl&gt; |\n",
       "|---|---|---|---|---|---|\n",
       "| 1 | 1998 Clinton | global warming | 2 | 2 | 2.428571 |\n",
       "| 2 | 1997 Clinton | cold war       | 2 | 5 | 2.291667 |\n",
       "| 3 | 1992 BushSr  | war begin      | 2 | 2 | 1.833333 |\n",
       "| 4 | 1992 BushSr  | cold war       | 2 | 2 | 1.833333 |\n",
       "| 5 | 1995 Clinton | cold war       | 2 | 6 | 1.750000 |\n",
       "| 6 | 1993 Clinton | reward work    | 2 | 2 | 1.510345 |\n",
       "\n"
      ],
      "text/plain": [
       "  Speech       keyword        ngram freq rake    \n",
       "1 1998 Clinton global warming 2     2    2.428571\n",
       "2 1997 Clinton cold war       2     5    2.291667\n",
       "3 1992 BushSr  war begin      2     2    1.833333\n",
       "4 1992 BushSr  cold war       2     2    1.833333\n",
       "5 1995 Clinton cold war       2     6    1.750000\n",
       "6 1993 Clinton reward work    2     2    1.510345"
      ]
     },
     "metadata": {},
     "output_type": "display_data"
    }
   ],
   "source": [
    "find_topic(\"war\")"
   ]
  },
  {
   "cell_type": "code",
   "execution_count": 28,
   "metadata": {},
   "outputs": [
    {
     "data": {
      "text/html": [
       "<table class=\"dataframe\">\n",
       "<caption>A data.frame: 6 × 5</caption>\n",
       "<thead>\n",
       "\t<tr><th></th><th scope=col>Speech</th><th scope=col>keyword</th><th scope=col>ngram</th><th scope=col>freq</th><th scope=col>rake</th></tr>\n",
       "\t<tr><th></th><th scope=col>&lt;chr&gt;</th><th scope=col>&lt;chr&gt;</th><th scope=col>&lt;int&gt;</th><th scope=col>&lt;int&gt;</th><th scope=col>&lt;dbl&gt;</th></tr>\n",
       "</thead>\n",
       "<tbody>\n",
       "\t<tr><th scope=row>1</th><td>2019 Trump </td><td>southern border</td><td>2</td><td>4</td><td>2.5476190</td></tr>\n",
       "\t<tr><th scope=row>2</th><td>2020 Trump </td><td>southern border</td><td>2</td><td>2</td><td>2.0476190</td></tr>\n",
       "\t<tr><th scope=row>3</th><td>2019 Trump </td><td>border         </td><td>1</td><td>2</td><td>1.2142857</td></tr>\n",
       "\t<tr><th scope=row>4</th><td>2020 Trump </td><td>border         </td><td>1</td><td>3</td><td>0.7142857</td></tr>\n",
       "\t<tr><th scope=row>5</th><td>2005 GWBush</td><td>border         </td><td>1</td><td>2</td><td>0.6666667</td></tr>\n",
       "\t<tr><th scope=row>6</th><td>2006 GWBush</td><td>border         </td><td>1</td><td>2</td><td>0.5000000</td></tr>\n",
       "</tbody>\n",
       "</table>\n"
      ],
      "text/latex": [
       "A data.frame: 6 × 5\n",
       "\\begin{tabular}{r|lllll}\n",
       "  & Speech & keyword & ngram & freq & rake\\\\\n",
       "  & <chr> & <chr> & <int> & <int> & <dbl>\\\\\n",
       "\\hline\n",
       "\t1 & 2019 Trump  & southern border & 2 & 4 & 2.5476190\\\\\n",
       "\t2 & 2020 Trump  & southern border & 2 & 2 & 2.0476190\\\\\n",
       "\t3 & 2019 Trump  & border          & 1 & 2 & 1.2142857\\\\\n",
       "\t4 & 2020 Trump  & border          & 1 & 3 & 0.7142857\\\\\n",
       "\t5 & 2005 GWBush & border          & 1 & 2 & 0.6666667\\\\\n",
       "\t6 & 2006 GWBush & border          & 1 & 2 & 0.5000000\\\\\n",
       "\\end{tabular}\n"
      ],
      "text/markdown": [
       "\n",
       "A data.frame: 6 × 5\n",
       "\n",
       "| <!--/--> | Speech &lt;chr&gt; | keyword &lt;chr&gt; | ngram &lt;int&gt; | freq &lt;int&gt; | rake &lt;dbl&gt; |\n",
       "|---|---|---|---|---|---|\n",
       "| 1 | 2019 Trump  | southern border | 2 | 4 | 2.5476190 |\n",
       "| 2 | 2020 Trump  | southern border | 2 | 2 | 2.0476190 |\n",
       "| 3 | 2019 Trump  | border          | 1 | 2 | 1.2142857 |\n",
       "| 4 | 2020 Trump  | border          | 1 | 3 | 0.7142857 |\n",
       "| 5 | 2005 GWBush | border          | 1 | 2 | 0.6666667 |\n",
       "| 6 | 2006 GWBush | border          | 1 | 2 | 0.5000000 |\n",
       "\n"
      ],
      "text/plain": [
       "  Speech      keyword         ngram freq rake     \n",
       "1 2019 Trump  southern border 2     4    2.5476190\n",
       "2 2020 Trump  southern border 2     2    2.0476190\n",
       "3 2019 Trump  border          1     2    1.2142857\n",
       "4 2020 Trump  border          1     3    0.7142857\n",
       "5 2005 GWBush border          1     2    0.6666667\n",
       "6 2006 GWBush border          1     2    0.5000000"
      ]
     },
     "metadata": {},
     "output_type": "display_data"
    }
   ],
   "source": [
    "find_topic(\"border\")"
   ]
  },
  {
   "cell_type": "code",
   "execution_count": 29,
   "metadata": {},
   "outputs": [
    {
     "data": {
      "text/html": [
       "<table class=\"dataframe\">\n",
       "<caption>A data.frame: 0 × 5</caption>\n",
       "<thead>\n",
       "\t<tr><th scope=col>Speech</th><th scope=col>keyword</th><th scope=col>ngram</th><th scope=col>freq</th><th scope=col>rake</th></tr>\n",
       "\t<tr><th scope=col>&lt;chr&gt;</th><th scope=col>&lt;chr&gt;</th><th scope=col>&lt;int&gt;</th><th scope=col>&lt;int&gt;</th><th scope=col>&lt;dbl&gt;</th></tr>\n",
       "</thead>\n",
       "<tbody>\n",
       "</tbody>\n",
       "</table>\n"
      ],
      "text/latex": [
       "A data.frame: 0 × 5\n",
       "\\begin{tabular}{lllll}\n",
       " Speech & keyword & ngram & freq & rake\\\\\n",
       " <chr> & <chr> & <int> & <int> & <dbl>\\\\\n",
       "\\hline\n",
       "\\end{tabular}\n"
      ],
      "text/markdown": [
       "\n",
       "A data.frame: 0 × 5\n",
       "\n",
       "| Speech &lt;chr&gt; | keyword &lt;chr&gt; | ngram &lt;int&gt; | freq &lt;int&gt; | rake &lt;dbl&gt; |\n",
       "|---|---|---|---|---|\n",
       "\n"
      ],
      "text/plain": [
       "     Speech keyword ngram freq rake"
      ]
     },
     "metadata": {},
     "output_type": "display_data"
    }
   ],
   "source": [
    "find_topic(\"impeach\")"
   ]
  },
  {
   "cell_type": "code",
   "execution_count": 30,
   "metadata": {},
   "outputs": [
    {
     "data": {
      "text/html": [
       "<table class=\"dataframe\">\n",
       "<caption>A data.frame: 1 × 5</caption>\n",
       "<thead>\n",
       "\t<tr><th></th><th scope=col>Speech</th><th scope=col>keyword</th><th scope=col>ngram</th><th scope=col>freq</th><th scope=col>rake</th></tr>\n",
       "\t<tr><th></th><th scope=col>&lt;chr&gt;</th><th scope=col>&lt;chr&gt;</th><th scope=col>&lt;int&gt;</th><th scope=col>&lt;int&gt;</th><th scope=col>&lt;dbl&gt;</th></tr>\n",
       "</thead>\n",
       "<tbody>\n",
       "\t<tr><th scope=row>1</th><td>2014 Obama</td><td>equality</td><td>1</td><td>2</td><td>0.3333333</td></tr>\n",
       "</tbody>\n",
       "</table>\n"
      ],
      "text/latex": [
       "A data.frame: 1 × 5\n",
       "\\begin{tabular}{r|lllll}\n",
       "  & Speech & keyword & ngram & freq & rake\\\\\n",
       "  & <chr> & <chr> & <int> & <int> & <dbl>\\\\\n",
       "\\hline\n",
       "\t1 & 2014 Obama & equality & 1 & 2 & 0.3333333\\\\\n",
       "\\end{tabular}\n"
      ],
      "text/markdown": [
       "\n",
       "A data.frame: 1 × 5\n",
       "\n",
       "| <!--/--> | Speech &lt;chr&gt; | keyword &lt;chr&gt; | ngram &lt;int&gt; | freq &lt;int&gt; | rake &lt;dbl&gt; |\n",
       "|---|---|---|---|---|---|\n",
       "| 1 | 2014 Obama | equality | 1 | 2 | 0.3333333 |\n",
       "\n"
      ],
      "text/plain": [
       "  Speech     keyword  ngram freq rake     \n",
       "1 2014 Obama equality 1     2    0.3333333"
      ]
     },
     "metadata": {},
     "output_type": "display_data"
    }
   ],
   "source": [
    "find_topic(\"equality\")"
   ]
  },
  {
   "cell_type": "code",
   "execution_count": 31,
   "metadata": {},
   "outputs": [
    {
     "data": {
      "text/html": [
       "<table class=\"dataframe\">\n",
       "<caption>A data.frame: 0 × 5</caption>\n",
       "<thead>\n",
       "\t<tr><th scope=col>Speech</th><th scope=col>keyword</th><th scope=col>ngram</th><th scope=col>freq</th><th scope=col>rake</th></tr>\n",
       "\t<tr><th scope=col>&lt;chr&gt;</th><th scope=col>&lt;chr&gt;</th><th scope=col>&lt;int&gt;</th><th scope=col>&lt;int&gt;</th><th scope=col>&lt;dbl&gt;</th></tr>\n",
       "</thead>\n",
       "<tbody>\n",
       "</tbody>\n",
       "</table>\n"
      ],
      "text/latex": [
       "A data.frame: 0 × 5\n",
       "\\begin{tabular}{lllll}\n",
       " Speech & keyword & ngram & freq & rake\\\\\n",
       " <chr> & <chr> & <int> & <int> & <dbl>\\\\\n",
       "\\hline\n",
       "\\end{tabular}\n"
      ],
      "text/markdown": [
       "\n",
       "A data.frame: 0 × 5\n",
       "\n",
       "| Speech &lt;chr&gt; | keyword &lt;chr&gt; | ngram &lt;int&gt; | freq &lt;int&gt; | rake &lt;dbl&gt; |\n",
       "|---|---|---|---|---|\n",
       "\n"
      ],
      "text/plain": [
       "     Speech keyword ngram freq rake"
      ]
     },
     "metadata": {},
     "output_type": "display_data"
    }
   ],
   "source": [
    "find_topic(\"equity\")"
   ]
  },
  {
   "cell_type": "code",
   "execution_count": 32,
   "metadata": {},
   "outputs": [
    {
     "data": {
      "text/html": [
       "<table class=\"dataframe\">\n",
       "<caption>A data.frame: 1 × 5</caption>\n",
       "<thead>\n",
       "\t<tr><th></th><th scope=col>Speech</th><th scope=col>keyword</th><th scope=col>ngram</th><th scope=col>freq</th><th scope=col>rake</th></tr>\n",
       "\t<tr><th></th><th scope=col>&lt;chr&gt;</th><th scope=col>&lt;chr&gt;</th><th scope=col>&lt;int&gt;</th><th scope=col>&lt;int&gt;</th><th scope=col>&lt;dbl&gt;</th></tr>\n",
       "</thead>\n",
       "<tbody>\n",
       "\t<tr><th scope=row>1</th><td>2021 Biden</td><td>systemic racism</td><td>2</td><td>2</td><td>2</td></tr>\n",
       "</tbody>\n",
       "</table>\n"
      ],
      "text/latex": [
       "A data.frame: 1 × 5\n",
       "\\begin{tabular}{r|lllll}\n",
       "  & Speech & keyword & ngram & freq & rake\\\\\n",
       "  & <chr> & <chr> & <int> & <int> & <dbl>\\\\\n",
       "\\hline\n",
       "\t1 & 2021 Biden & systemic racism & 2 & 2 & 2\\\\\n",
       "\\end{tabular}\n"
      ],
      "text/markdown": [
       "\n",
       "A data.frame: 1 × 5\n",
       "\n",
       "| <!--/--> | Speech &lt;chr&gt; | keyword &lt;chr&gt; | ngram &lt;int&gt; | freq &lt;int&gt; | rake &lt;dbl&gt; |\n",
       "|---|---|---|---|---|---|\n",
       "| 1 | 2021 Biden | systemic racism | 2 | 2 | 2 |\n",
       "\n"
      ],
      "text/plain": [
       "  Speech     keyword         ngram freq rake\n",
       "1 2021 Biden systemic racism 2     2    2   "
      ]
     },
     "metadata": {},
     "output_type": "display_data"
    }
   ],
   "source": [
    "find_topic(\"racism\")"
   ]
  },
  {
   "cell_type": "code",
   "execution_count": null,
   "metadata": {},
   "outputs": [],
   "source": []
  }
 ],
 "metadata": {
  "kernelspec": {
   "display_name": "R",
   "language": "R",
   "name": "ir"
  },
  "language_info": {
   "codemirror_mode": "r",
   "file_extension": ".r",
   "mimetype": "text/x-r-source",
   "name": "R",
   "pygments_lexer": "r",
   "version": "4.0.3"
  }
 },
 "nbformat": 4,
 "nbformat_minor": 4
}
