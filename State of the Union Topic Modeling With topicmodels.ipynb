{
 "cells": [
  {
   "cell_type": "markdown",
   "metadata": {},
   "source": [
    "# State of the Union\n",
    "\n",
    "## Topic Modeling with *topicmodels*\n",
    "\n",
    "### Created by Lars Bernhardsson\n",
    "\n",
    "I used the jupyter/datascience-notebook docker image found at https://hub.docker.com/r/jupyter/datascience-notebook when making this notebook."
   ]
  },
  {
   "cell_type": "markdown",
   "metadata": {},
   "source": [
    "## R session prep"
   ]
  },
  {
   "cell_type": "code",
   "execution_count": 1,
   "metadata": {},
   "outputs": [
    {
     "name": "stderr",
     "output_type": "stream",
     "text": [
      "── \u001b[1mAttaching packages\u001b[22m ─────────────────────────────────────── tidyverse 1.2.1 ──\n",
      "\u001b[32m✔\u001b[39m \u001b[34mggplot2\u001b[39m 3.2.1     \u001b[32m✔\u001b[39m \u001b[34mpurrr  \u001b[39m 0.3.2\n",
      "\u001b[32m✔\u001b[39m \u001b[34mtibble \u001b[39m 2.1.3     \u001b[32m✔\u001b[39m \u001b[34mdplyr  \u001b[39m 0.8.3\n",
      "\u001b[32m✔\u001b[39m \u001b[34mtidyr  \u001b[39m 0.8.3     \u001b[32m✔\u001b[39m \u001b[34mstringr\u001b[39m 1.4.0\n",
      "\u001b[32m✔\u001b[39m \u001b[34mreadr  \u001b[39m 1.3.1     \u001b[32m✔\u001b[39m \u001b[34mforcats\u001b[39m 0.4.0\n",
      "── \u001b[1mConflicts\u001b[22m ────────────────────────────────────────── tidyverse_conflicts() ──\n",
      "\u001b[31m✖\u001b[39m \u001b[34mdplyr\u001b[39m::\u001b[32mfilter()\u001b[39m masks \u001b[34mstats\u001b[39m::filter()\n",
      "\u001b[31m✖\u001b[39m \u001b[34mdplyr\u001b[39m::\u001b[32mlag()\u001b[39m    masks \u001b[34mstats\u001b[39m::lag()\n",
      "Loading required package: NLP\n",
      "\n",
      "Attaching package: ‘NLP’\n",
      "\n",
      "The following object is masked from ‘package:ggplot2’:\n",
      "\n",
      "    annotate\n",
      "\n"
     ]
    }
   ],
   "source": [
    "# If you are using the jupyter/datascience-notebook docker image to run the notebooks in this repository,\n",
    "# open a terminal window and run this first:\n",
    "#\n",
    "#   conda install r-topicmodels\n",
    "\n",
    "library(tidyverse)\n",
    "library(tm)\n",
    "library(topicmodels)\n",
    "\n",
    "options(stringsAsFactors = FALSE)"
   ]
  },
  {
   "cell_type": "markdown",
   "metadata": {},
   "source": [
    "## Data"
   ]
  },
  {
   "cell_type": "code",
   "execution_count": 2,
   "metadata": {},
   "outputs": [],
   "source": [
    "if(file.exists(\"SOTUtexts.RData\")) {\n",
    "    load(\"SOTUtexts.RData\")\n",
    "} else {\n",
    "    stop(\"Run the data notebook first\")\n",
    "}"
   ]
  },
  {
   "cell_type": "markdown",
   "metadata": {},
   "source": [
    "## Processing"
   ]
  },
  {
   "cell_type": "code",
   "execution_count": 3,
   "metadata": {},
   "outputs": [],
   "source": [
    "s <- SimpleCorpus(VectorSource(d$Text))\n",
    "\n",
    "m <- DocumentTermMatrix(\n",
    "    s,\n",
    "    control=list(\n",
    "        removePunctuation=TRUE,\n",
    "        removeNumbers=TRUE,\n",
    "        stopwords=TRUE,\n",
    "        stemming=TRUE,\n",
    "        minWOrdLength=3\n",
    "    )\n",
    ")"
   ]
  },
  {
   "cell_type": "code",
   "execution_count": 4,
   "metadata": {},
   "outputs": [],
   "source": [
    "lda_model <- LDA(x = m, k = 8)"
   ]
  },
  {
   "cell_type": "code",
   "execution_count": 5,
   "metadata": {},
   "outputs": [
    {
     "data": {
      "text/html": [
       "<table>\n",
       "<caption>A matrix: 20 × 8 of type chr</caption>\n",
       "<thead>\n",
       "\t<tr><th scope=col>Topic 1</th><th scope=col>Topic 2</th><th scope=col>Topic 3</th><th scope=col>Topic 4</th><th scope=col>Topic 5</th><th scope=col>Topic 6</th><th scope=col>Topic 7</th><th scope=col>Topic 8</th></tr>\n",
       "</thead>\n",
       "<tbody>\n",
       "\t<tr><td>will    </td><td>year     </td><td>american</td><td>will    </td><td>will    </td><td>will     </td><td>year    </td><td>will    </td></tr>\n",
       "\t<tr><td>america </td><td>will     </td><td>will    </td><td>year    </td><td>america </td><td>america  </td><td>american</td><td>american</td></tr>\n",
       "\t<tr><td>year    </td><td>work     </td><td>applaus </td><td>program </td><td>american</td><td>american </td><td>work    </td><td>year    </td></tr>\n",
       "\t<tr><td>must    </td><td>peopl    </td><td>year    </td><td>american</td><td>can     </td><td>must     </td><td>will    </td><td>job     </td></tr>\n",
       "\t<tr><td>american</td><td>american </td><td>america </td><td>govern  </td><td>must    </td><td>peopl    </td><td>america </td><td>now     </td></tr>\n",
       "\t<tr><td>let     </td><td>must     </td><td>countri </td><td>tax     </td><td>peopl   </td><td>nation   </td><td>new     </td><td>can     </td></tr>\n",
       "\t<tr><td>nation  </td><td>new      </td><td>new     </td><td>must    </td><td>nation  </td><td>year     </td><td>that    </td><td>work    </td></tr>\n",
       "\t<tr><td>world   </td><td>can      </td><td>one     </td><td>peopl   </td><td>world   </td><td>secur    </td><td>make    </td><td>america </td></tr>\n",
       "\t<tr><td>new     </td><td>america  </td><td>peopl   </td><td>can     </td><td>year    </td><td>countri  </td><td>job     </td><td>peopl   </td></tr>\n",
       "\t<tr><td>can     </td><td>everi    </td><td>thank   </td><td>now     </td><td>govern  </td><td>terrorist</td><td>can     </td><td>make    </td></tr>\n",
       "\t<tr><td>freedom </td><td>children </td><td>nation  </td><td>make    </td><td>freedom </td><td>world    </td><td>peopl   </td><td>new     </td></tr>\n",
       "\t<tr><td>peopl   </td><td>now      </td><td>great   </td><td>plan    </td><td>work    </td><td>help     </td><td>need    </td><td>get     </td></tr>\n",
       "\t<tr><td>time    </td><td>make     </td><td>tonight </td><td>feder   </td><td>peac    </td><td>can      </td><td>now     </td><td>tax     </td></tr>\n",
       "\t<tr><td>make    </td><td>nation   </td><td>state   </td><td>job     </td><td>hope    </td><td>iraq     </td><td>world   </td><td>that    </td></tr>\n",
       "\t<tr><td>tonight </td><td>help     </td><td>can     </td><td>nation  </td><td>futur   </td><td>make     </td><td>countri </td><td>energi  </td></tr>\n",
       "\t<tr><td>budget  </td><td>congress </td><td>must    </td><td>time    </td><td>help    </td><td>congress </td><td>let     </td><td>one     </td></tr>\n",
       "\t<tr><td>congress</td><td>one      </td><td>now     </td><td>new     </td><td>new     </td><td>work     </td><td>want    </td><td>right   </td></tr>\n",
       "\t<tr><td>now     </td><td>famili   </td><td>also    </td><td>spend   </td><td>one     </td><td>new      </td><td>everi   </td><td>time    </td></tr>\n",
       "\t<tr><td>govern  </td><td>communiti</td><td>work    </td><td>america </td><td>now     </td><td>health   </td><td>just    </td><td>know    </td></tr>\n",
       "\t<tr><td>one     </td><td>ask      </td><td>unit    </td><td>econom  </td><td>tax     </td><td>act      </td><td>help    </td><td>help    </td></tr>\n",
       "</tbody>\n",
       "</table>\n"
      ],
      "text/latex": [
       "A matrix: 20 × 8 of type chr\n",
       "\\begin{tabular}{llllllll}\n",
       " Topic 1 & Topic 2 & Topic 3 & Topic 4 & Topic 5 & Topic 6 & Topic 7 & Topic 8\\\\\n",
       "\\hline\n",
       "\t will     & year      & american & will     & will     & will      & year     & will    \\\\\n",
       "\t america  & will      & will     & year     & america  & america   & american & american\\\\\n",
       "\t year     & work      & applaus  & program  & american & american  & work     & year    \\\\\n",
       "\t must     & peopl     & year     & american & can      & must      & will     & job     \\\\\n",
       "\t american & american  & america  & govern   & must     & peopl     & america  & now     \\\\\n",
       "\t let      & must      & countri  & tax      & peopl    & nation    & new      & can     \\\\\n",
       "\t nation   & new       & new      & must     & nation   & year      & that     & work    \\\\\n",
       "\t world    & can       & one      & peopl    & world    & secur     & make     & america \\\\\n",
       "\t new      & america   & peopl    & can      & year     & countri   & job      & peopl   \\\\\n",
       "\t can      & everi     & thank    & now      & govern   & terrorist & can      & make    \\\\\n",
       "\t freedom  & children  & nation   & make     & freedom  & world     & peopl    & new     \\\\\n",
       "\t peopl    & now       & great    & plan     & work     & help      & need     & get     \\\\\n",
       "\t time     & make      & tonight  & feder    & peac     & can       & now      & tax     \\\\\n",
       "\t make     & nation    & state    & job      & hope     & iraq      & world    & that    \\\\\n",
       "\t tonight  & help      & can      & nation   & futur    & make      & countri  & energi  \\\\\n",
       "\t budget   & congress  & must     & time     & help     & congress  & let      & one     \\\\\n",
       "\t congress & one       & now      & new      & new      & work      & want     & right   \\\\\n",
       "\t now      & famili    & also     & spend    & one      & new       & everi    & time    \\\\\n",
       "\t govern   & communiti & work     & america  & now      & health    & just     & know    \\\\\n",
       "\t one      & ask       & unit     & econom   & tax      & act       & help     & help    \\\\\n",
       "\\end{tabular}\n"
      ],
      "text/markdown": [
       "\n",
       "A matrix: 20 × 8 of type chr\n",
       "\n",
       "| Topic 1 | Topic 2 | Topic 3 | Topic 4 | Topic 5 | Topic 6 | Topic 7 | Topic 8 |\n",
       "|---|---|---|---|---|---|---|---|\n",
       "| will     | year      | american | will     | will     | will      | year     | will     |\n",
       "| america  | will      | will     | year     | america  | america   | american | american |\n",
       "| year     | work      | applaus  | program  | american | american  | work     | year     |\n",
       "| must     | peopl     | year     | american | can      | must      | will     | job      |\n",
       "| american | american  | america  | govern   | must     | peopl     | america  | now      |\n",
       "| let      | must      | countri  | tax      | peopl    | nation    | new      | can      |\n",
       "| nation   | new       | new      | must     | nation   | year      | that     | work     |\n",
       "| world    | can       | one      | peopl    | world    | secur     | make     | america  |\n",
       "| new      | america   | peopl    | can      | year     | countri   | job      | peopl    |\n",
       "| can      | everi     | thank    | now      | govern   | terrorist | can      | make     |\n",
       "| freedom  | children  | nation   | make     | freedom  | world     | peopl    | new      |\n",
       "| peopl    | now       | great    | plan     | work     | help      | need     | get      |\n",
       "| time     | make      | tonight  | feder    | peac     | can       | now      | tax      |\n",
       "| make     | nation    | state    | job      | hope     | iraq      | world    | that     |\n",
       "| tonight  | help      | can      | nation   | futur    | make      | countri  | energi   |\n",
       "| budget   | congress  | must     | time     | help     | congress  | let      | one      |\n",
       "| congress | one       | now      | new      | new      | work      | want     | right    |\n",
       "| now      | famili    | also     | spend    | one      | new       | everi    | time     |\n",
       "| govern   | communiti | work     | america  | now      | health    | just     | know     |\n",
       "| one      | ask       | unit     | econom   | tax      | act       | help     | help     |\n",
       "\n"
      ],
      "text/plain": [
       "      Topic 1  Topic 2   Topic 3  Topic 4  Topic 5  Topic 6   Topic 7  Topic 8 \n",
       " [1,] will     year      american will     will     will      year     will    \n",
       " [2,] america  will      will     year     america  america   american american\n",
       " [3,] year     work      applaus  program  american american  work     year    \n",
       " [4,] must     peopl     year     american can      must      will     job     \n",
       " [5,] american american  america  govern   must     peopl     america  now     \n",
       " [6,] let      must      countri  tax      peopl    nation    new      can     \n",
       " [7,] nation   new       new      must     nation   year      that     work    \n",
       " [8,] world    can       one      peopl    world    secur     make     america \n",
       " [9,] new      america   peopl    can      year     countri   job      peopl   \n",
       "[10,] can      everi     thank    now      govern   terrorist can      make    \n",
       "[11,] freedom  children  nation   make     freedom  world     peopl    new     \n",
       "[12,] peopl    now       great    plan     work     help      need     get     \n",
       "[13,] time     make      tonight  feder    peac     can       now      tax     \n",
       "[14,] make     nation    state    job      hope     iraq      world    that    \n",
       "[15,] tonight  help      can      nation   futur    make      countri  energi  \n",
       "[16,] budget   congress  must     time     help     congress  let      one     \n",
       "[17,] congress one       now      new      new      work      want     right   \n",
       "[18,] now      famili    also     spend    one      new       everi    time    \n",
       "[19,] govern   communiti work     america  now      health    just     know    \n",
       "[20,] one      ask       unit     econom   tax      act       help     help    "
      ]
     },
     "metadata": {},
     "output_type": "display_data"
    }
   ],
   "source": [
    "terms(lda_model, 20)"
   ]
  },
  {
   "cell_type": "markdown",
   "metadata": {},
   "source": [
    "## Visualization"
   ]
  },
  {
   "cell_type": "code",
   "execution_count": 6,
   "metadata": {},
   "outputs": [
    {
     "data": {
      "image/png": "[encoded data removed]",
      "text/plain": [
       "plot without title"
      ]
     },
     "metadata": {},
     "output_type": "display_data"
    }
   ],
   "source": [
    "data.frame(President=d$President, Year=d$Year, Topic=ordered(topics(lda_model))) %>%\n",
    "    ggplot(aes(x=Year, y=President, fill=Topic)) +\n",
    "    scale_fill_brewer(type=\"qual\") +\n",
    "    geom_tile(color=\"black\")"
   ]
  },
  {
   "cell_type": "code",
   "execution_count": null,
   "metadata": {},
   "outputs": [],
   "source": []
  }
 ],
 "metadata": {
  "kernelspec": {
   "display_name": "R",
   "language": "R",
   "name": "ir"
  },
  "language_info": {
   "codemirror_mode": "r",
   "file_extension": ".r",
   "mimetype": "text/x-r-source",
   "name": "R",
   "pygments_lexer": "r",
   "version": "3.6.1"
  }
 },
 "nbformat": 4,
 "nbformat_minor": 4
}
