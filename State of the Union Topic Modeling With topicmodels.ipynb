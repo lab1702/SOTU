{
 "cells": [
  {
   "cell_type": "markdown",
   "metadata": {},
   "source": [
    "# State of the Union\n",
    "\n",
    "## Topic Modeling with *topicmodels*\n",
    "\n",
    "### Created by Lars Bernhardsson\n",
    "\n",
    "I used the jupyter/datascience-notebook docker image found at https://hub.docker.com/r/jupyter/datascience-notebook when making this notebook."
   ]
  },
  {
   "cell_type": "markdown",
   "metadata": {},
   "source": [
    "## R session prep"
   ]
  },
  {
   "cell_type": "code",
   "execution_count": 1,
   "metadata": {},
   "outputs": [
    {
     "name": "stderr",
     "output_type": "stream",
     "text": [
      "── \u001b[1mAttaching packages\u001b[22m ─────────────────────────────────────────────────────────────────────────────── tidyverse 1.3.1 ──\n",
      "\n",
      "\u001b[32m✔\u001b[39m \u001b[34mggplot2\u001b[39m 3.3.3     \u001b[32m✔\u001b[39m \u001b[34mpurrr  \u001b[39m 0.3.4\n",
      "\u001b[32m✔\u001b[39m \u001b[34mtibble \u001b[39m 3.1.0     \u001b[32m✔\u001b[39m \u001b[34mdplyr  \u001b[39m 1.0.5\n",
      "\u001b[32m✔\u001b[39m \u001b[34mtidyr  \u001b[39m 1.1.3     \u001b[32m✔\u001b[39m \u001b[34mstringr\u001b[39m 1.4.0\n",
      "\u001b[32m✔\u001b[39m \u001b[34mreadr  \u001b[39m 1.4.0     \u001b[32m✔\u001b[39m \u001b[34mforcats\u001b[39m 0.5.1\n",
      "\n",
      "── \u001b[1mConflicts\u001b[22m ────────────────────────────────────────────────────────────────────────────────── tidyverse_conflicts() ──\n",
      "\u001b[31m✖\u001b[39m \u001b[34mdplyr\u001b[39m::\u001b[32mfilter()\u001b[39m masks \u001b[34mstats\u001b[39m::filter()\n",
      "\u001b[31m✖\u001b[39m \u001b[34mdplyr\u001b[39m::\u001b[32mlag()\u001b[39m    masks \u001b[34mstats\u001b[39m::lag()\n",
      "\n",
      "Loading required package: NLP\n",
      "\n",
      "\n",
      "Attaching package: ‘NLP’\n",
      "\n",
      "\n",
      "The following object is masked from ‘package:ggplot2’:\n",
      "\n",
      "    annotate\n",
      "\n",
      "\n"
     ]
    }
   ],
   "source": [
    "# If you are using the jupyter/datascience-notebook docker image to run the notebooks in this repository,\n",
    "# open a terminal window and run this first:\n",
    "#\n",
    "#   conda install r-topicmodels\n",
    "\n",
    "library(tidyverse)\n",
    "library(tm)\n",
    "library(topicmodels)\n",
    "\n",
    "options(stringsAsFactors = FALSE)"
   ]
  },
  {
   "cell_type": "markdown",
   "metadata": {},
   "source": [
    "## Data"
   ]
  },
  {
   "cell_type": "code",
   "execution_count": 2,
   "metadata": {},
   "outputs": [],
   "source": [
    "if(file.exists(\"SOTUtexts.RData\")) {\n",
    "    load(\"SOTUtexts.RData\")\n",
    "} else {\n",
    "    stop(\"Run the data notebook first\")\n",
    "}"
   ]
  },
  {
   "cell_type": "markdown",
   "metadata": {},
   "source": [
    "## Processing"
   ]
  },
  {
   "cell_type": "code",
   "execution_count": 3,
   "metadata": {},
   "outputs": [],
   "source": [
    "s <- SimpleCorpus(VectorSource(d$Text))\n",
    "\n",
    "m <- DocumentTermMatrix(\n",
    "    s,\n",
    "    control=list(\n",
    "        removePunctuation=TRUE,\n",
    "        removeNumbers=TRUE,\n",
    "        stopwords=TRUE,\n",
    "        stemming=TRUE,\n",
    "        minWOrdLength=3\n",
    "    )\n",
    ")"
   ]
  },
  {
   "cell_type": "code",
   "execution_count": 4,
   "metadata": {},
   "outputs": [],
   "source": [
    "lda_model <- LDA(x = m, k = 6)"
   ]
  },
  {
   "cell_type": "code",
   "execution_count": 5,
   "metadata": {},
   "outputs": [
    {
     "data": {
      "text/html": [
       "<table class=\"dataframe\">\n",
       "<caption>A matrix: 10 × 6 of type chr</caption>\n",
       "<thead>\n",
       "\t<tr><th scope=col>Topic 1</th><th scope=col>Topic 2</th><th scope=col>Topic 3</th><th scope=col>Topic 4</th><th scope=col>Topic 5</th><th scope=col>Topic 6</th></tr>\n",
       "</thead>\n",
       "<tbody>\n",
       "\t<tr><td>must    </td><td>will    </td><td>will    </td><td>american</td><td>will     </td><td>american</td></tr>\n",
       "\t<tr><td>will    </td><td>american</td><td>year    </td><td>year    </td><td>america  </td><td>will    </td></tr>\n",
       "\t<tr><td>year    </td><td>now     </td><td>america </td><td>work    </td><td>american </td><td>america </td></tr>\n",
       "\t<tr><td>america </td><td>can     </td><td>american</td><td>will    </td><td>peopl    </td><td>year    </td></tr>\n",
       "\t<tr><td>american</td><td>year    </td><td>must    </td><td>peopl   </td><td>nation   </td><td>thank   </td></tr>\n",
       "\t<tr><td>nation  </td><td>peopl   </td><td>can     </td><td>job     </td><td>world    </td><td>countri </td></tr>\n",
       "\t<tr><td>new     </td><td>know    </td><td>govern  </td><td>can     </td><td>year     </td><td>one     </td></tr>\n",
       "\t<tr><td>work    </td><td>america </td><td>peopl   </td><td>new     </td><td>countri  </td><td>new     </td></tr>\n",
       "\t<tr><td>everi   </td><td>job     </td><td>program </td><td>make    </td><td>secur    </td><td>nation  </td></tr>\n",
       "\t<tr><td>can     </td><td>make    </td><td>nation  </td><td>america </td><td>terrorist</td><td>peopl   </td></tr>\n",
       "</tbody>\n",
       "</table>\n"
      ],
      "text/latex": [
       "A matrix: 10 × 6 of type chr\n",
       "\\begin{tabular}{llllll}\n",
       " Topic 1 & Topic 2 & Topic 3 & Topic 4 & Topic 5 & Topic 6\\\\\n",
       "\\hline\n",
       "\t must     & will     & will     & american & will      & american\\\\\n",
       "\t will     & american & year     & year     & america   & will    \\\\\n",
       "\t year     & now      & america  & work     & american  & america \\\\\n",
       "\t america  & can      & american & will     & peopl     & year    \\\\\n",
       "\t american & year     & must     & peopl    & nation    & thank   \\\\\n",
       "\t nation   & peopl    & can      & job      & world     & countri \\\\\n",
       "\t new      & know     & govern   & can      & year      & one     \\\\\n",
       "\t work     & america  & peopl    & new      & countri   & new     \\\\\n",
       "\t everi    & job      & program  & make     & secur     & nation  \\\\\n",
       "\t can      & make     & nation   & america  & terrorist & peopl   \\\\\n",
       "\\end{tabular}\n"
      ],
      "text/markdown": [
       "\n",
       "A matrix: 10 × 6 of type chr\n",
       "\n",
       "| Topic 1 | Topic 2 | Topic 3 | Topic 4 | Topic 5 | Topic 6 |\n",
       "|---|---|---|---|---|---|\n",
       "| must     | will     | will     | american | will      | american |\n",
       "| will     | american | year     | year     | america   | will     |\n",
       "| year     | now      | america  | work     | american  | america  |\n",
       "| america  | can      | american | will     | peopl     | year     |\n",
       "| american | year     | must     | peopl    | nation    | thank    |\n",
       "| nation   | peopl    | can      | job      | world     | countri  |\n",
       "| new      | know     | govern   | can      | year      | one      |\n",
       "| work     | america  | peopl    | new      | countri   | new      |\n",
       "| everi    | job      | program  | make     | secur     | nation   |\n",
       "| can      | make     | nation   | america  | terrorist | peopl    |\n",
       "\n"
      ],
      "text/plain": [
       "      Topic 1  Topic 2  Topic 3  Topic 4  Topic 5   Topic 6 \n",
       " [1,] must     will     will     american will      american\n",
       " [2,] will     american year     year     america   will    \n",
       " [3,] year     now      america  work     american  america \n",
       " [4,] america  can      american will     peopl     year    \n",
       " [5,] american year     must     peopl    nation    thank   \n",
       " [6,] nation   peopl    can      job      world     countri \n",
       " [7,] new      know     govern   can      year      one     \n",
       " [8,] work     america  peopl    new      countri   new     \n",
       " [9,] everi    job      program  make     secur     nation  \n",
       "[10,] can      make     nation   america  terrorist peopl   "
      ]
     },
     "metadata": {},
     "output_type": "display_data"
    }
   ],
   "source": [
    "terms(lda_model, 10)"
   ]
  },
  {
   "cell_type": "markdown",
   "metadata": {},
   "source": [
    "## Visualization"
   ]
  },
  {
   "cell_type": "code",
   "execution_count": 6,
   "metadata": {},
   "outputs": [
    {
     "data": {
      "image/png": "[encoded data removed]",
      "text/plain": [
       "plot without title"
      ]
     },
     "metadata": {
      "image/png": {
       "height": 420,
       "width": 420
      }
     },
     "output_type": "display_data"
    }
   ],
   "source": [
    "data.frame(President=d$President, Year=d$Year, Topic=factor(topics(lda_model))) %>%\n",
    "    ggplot(aes(x=Year, y=President, fill=Topic)) +\n",
    "    geom_tile(color=\"black\")"
   ]
  },
  {
   "cell_type": "code",
   "execution_count": null,
   "metadata": {},
   "outputs": [],
   "source": []
  }
 ],
 "metadata": {
  "kernelspec": {
   "display_name": "R",
   "language": "R",
   "name": "ir"
  },
  "language_info": {
   "codemirror_mode": "r",
   "file_extension": ".r",
   "mimetype": "text/x-r-source",
   "name": "R",
   "pygments_lexer": "r",
   "version": "4.0.3"
  }
 },
 "nbformat": 4,
 "nbformat_minor": 4
}
