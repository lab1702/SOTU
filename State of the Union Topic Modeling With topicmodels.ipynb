{
 "cells": [
  {
   "cell_type": "markdown",
   "metadata": {},
   "source": [
    "# State of the Union\n",
    "\n",
    "## Topic Modeling with *topicmodels*\n",
    "\n",
    "### Created by Lars Bernhardsson\n",
    "\n",
    "I used the jupyter/datascience-notebook docker image found at https://hub.docker.com/r/jupyter/datascience-notebook when making this notebook."
   ]
  },
  {
   "cell_type": "markdown",
   "metadata": {},
   "source": [
    "## R session prep"
   ]
  },
  {
   "cell_type": "code",
   "execution_count": 1,
   "metadata": {},
   "outputs": [
    {
     "name": "stderr",
     "output_type": "stream",
     "text": [
      "── \u001b[1mAttaching packages\u001b[22m ─────────────────────────────────────── tidyverse 1.2.1 ──\n",
      "\u001b[32m✔\u001b[39m \u001b[34mggplot2\u001b[39m 3.2.0     \u001b[32m✔\u001b[39m \u001b[34mpurrr  \u001b[39m 0.3.2\n",
      "\u001b[32m✔\u001b[39m \u001b[34mtibble \u001b[39m 2.1.3     \u001b[32m✔\u001b[39m \u001b[34mdplyr  \u001b[39m 0.8.3\n",
      "\u001b[32m✔\u001b[39m \u001b[34mtidyr  \u001b[39m 0.8.3     \u001b[32m✔\u001b[39m \u001b[34mstringr\u001b[39m 1.4.0\n",
      "\u001b[32m✔\u001b[39m \u001b[34mreadr  \u001b[39m 1.3.1     \u001b[32m✔\u001b[39m \u001b[34mforcats\u001b[39m 0.4.0\n",
      "── \u001b[1mConflicts\u001b[22m ────────────────────────────────────────── tidyverse_conflicts() ──\n",
      "\u001b[31m✖\u001b[39m \u001b[34mdplyr\u001b[39m::\u001b[32mfilter()\u001b[39m masks \u001b[34mstats\u001b[39m::filter()\n",
      "\u001b[31m✖\u001b[39m \u001b[34mdplyr\u001b[39m::\u001b[32mlag()\u001b[39m    masks \u001b[34mstats\u001b[39m::lag()\n",
      "Loading required package: NLP\n",
      "\n",
      "Attaching package: ‘NLP’\n",
      "\n",
      "The following object is masked from ‘package:ggplot2’:\n",
      "\n",
      "    annotate\n",
      "\n"
     ]
    }
   ],
   "source": [
    "# If you are using the jupyter/datascience-notebook docker image to run the notebooks in this repository,\n",
    "# open a terminal window and run this first:\n",
    "#\n",
    "#   conda install r-topicmodels\n",
    "\n",
    "library(tidyverse)\n",
    "library(tm)\n",
    "library(topicmodels)\n",
    "\n",
    "options(stringsAsFactors = FALSE)"
   ]
  },
  {
   "cell_type": "markdown",
   "metadata": {},
   "source": [
    "## Data"
   ]
  },
  {
   "cell_type": "code",
   "execution_count": 2,
   "metadata": {},
   "outputs": [],
   "source": [
    "if(file.exists(\"SOTUtexts.RData\")) {\n",
    "    load(\"SOTUtexts.RData\")\n",
    "} else {\n",
    "    stop(\"Run the data notebook first\")\n",
    "}"
   ]
  },
  {
   "cell_type": "markdown",
   "metadata": {},
   "source": [
    "## Processing"
   ]
  },
  {
   "cell_type": "code",
   "execution_count": 3,
   "metadata": {},
   "outputs": [],
   "source": [
    "s <- SimpleCorpus(VectorSource(d$Text))\n",
    "\n",
    "m <- DocumentTermMatrix(\n",
    "    s,\n",
    "    control=list(\n",
    "        removePunctuation=TRUE,\n",
    "        removeNumbers=TRUE,\n",
    "        stopwords=TRUE,\n",
    "        stemming=TRUE,\n",
    "        minWOrdLength=3\n",
    "    )\n",
    ")"
   ]
  },
  {
   "cell_type": "code",
   "execution_count": 4,
   "metadata": {},
   "outputs": [],
   "source": [
    "lda_model <- LDA(x = m, k = 8)"
   ]
  },
  {
   "cell_type": "code",
   "execution_count": 5,
   "metadata": {
    "scrolled": false
   },
   "outputs": [
    {
     "data": {
      "text/html": [
       "<table>\n",
       "<caption>A matrix: 20 × 8 of type chr</caption>\n",
       "<thead>\n",
       "\t<tr><th scope=col>Topic 1</th><th scope=col>Topic 2</th><th scope=col>Topic 3</th><th scope=col>Topic 4</th><th scope=col>Topic 5</th><th scope=col>Topic 6</th><th scope=col>Topic 7</th><th scope=col>Topic 8</th></tr>\n",
       "</thead>\n",
       "<tbody>\n",
       "\t<tr><td>will    </td><td>american</td><td>year     </td><td>will    </td><td>will    </td><td>will    </td><td>will     </td><td>peopl   </td></tr>\n",
       "\t<tr><td>america </td><td>will    </td><td>american </td><td>american</td><td>must    </td><td>program </td><td>america  </td><td>will    </td></tr>\n",
       "\t<tr><td>must    </td><td>applaus </td><td>work     </td><td>year    </td><td>year    </td><td>year    </td><td>american </td><td>year    </td></tr>\n",
       "\t<tr><td>year    </td><td>america </td><td>will     </td><td>job     </td><td>peopl   </td><td>tax     </td><td>peopl    </td><td>work    </td></tr>\n",
       "\t<tr><td>can     </td><td>year    </td><td>america  </td><td>work    </td><td>work    </td><td>govern  </td><td>nation   </td><td>american</td></tr>\n",
       "\t<tr><td>american</td><td>one     </td><td>must     </td><td>america </td><td>american</td><td>american</td><td>year     </td><td>can     </td></tr>\n",
       "\t<tr><td>nation  </td><td>countri </td><td>new      </td><td>new     </td><td>america </td><td>must    </td><td>world    </td><td>new     </td></tr>\n",
       "\t<tr><td>peopl   </td><td>new     </td><td>can      </td><td>can     </td><td>new     </td><td>can     </td><td>must     </td><td>know    </td></tr>\n",
       "\t<tr><td>freedom </td><td>thank   </td><td>peopl    </td><td>make    </td><td>make    </td><td>now     </td><td>can      </td><td>world   </td></tr>\n",
       "\t<tr><td>let     </td><td>nation  </td><td>now      </td><td>that    </td><td>can     </td><td>nation  </td><td>countri  </td><td>countri </td></tr>\n",
       "\t<tr><td>world   </td><td>peopl   </td><td>children </td><td>now     </td><td>everi   </td><td>plan    </td><td>secur    </td><td>must    </td></tr>\n",
       "\t<tr><td>peac    </td><td>great   </td><td>everi    </td><td>peopl   </td><td>help    </td><td>peopl   </td><td>congress </td><td>time    </td></tr>\n",
       "\t<tr><td>futur   </td><td>tonight </td><td>congress </td><td>get     </td><td>nation  </td><td>make    </td><td>terrorist</td><td>let     </td></tr>\n",
       "\t<tr><td>govern  </td><td>state   </td><td>nation   </td><td>need    </td><td>children</td><td>feder   </td><td>new      </td><td>make    </td></tr>\n",
       "\t<tr><td>work    </td><td>can     </td><td>challeng </td><td>help    </td><td>now     </td><td>job     </td><td>iraq     </td><td>govern  </td></tr>\n",
       "\t<tr><td>budget  </td><td>unit    </td><td>help     </td><td>countri </td><td>school  </td><td>increas </td><td>help     </td><td>cut     </td></tr>\n",
       "\t<tr><td>new     </td><td>now     </td><td>make     </td><td>let     </td><td>care    </td><td>spend   </td><td>work     </td><td>get     </td></tr>\n",
       "\t<tr><td>famili  </td><td>must    </td><td>communiti</td><td>everi   </td><td>ask     </td><td>budget  </td><td>govern   </td><td>one     </td></tr>\n",
       "\t<tr><td>time    </td><td>work    </td><td>famili   </td><td>one     </td><td>health  </td><td>rate    </td><td>freedom  </td><td>everi   </td></tr>\n",
       "\t<tr><td>make    </td><td>world   </td><td>one      </td><td>busi    </td><td>one     </td><td>america </td><td>state    </td><td>job     </td></tr>\n",
       "</tbody>\n",
       "</table>\n"
      ],
      "text/latex": [
       "A matrix: 20 × 8 of type chr\n",
       "\\begin{tabular}{llllllll}\n",
       " Topic 1 & Topic 2 & Topic 3 & Topic 4 & Topic 5 & Topic 6 & Topic 7 & Topic 8\\\\\n",
       "\\hline\n",
       "\t will     & american & year      & will     & will     & will     & will      & peopl   \\\\\n",
       "\t america  & will     & american  & american & must     & program  & america   & will    \\\\\n",
       "\t must     & applaus  & work      & year     & year     & year     & american  & year    \\\\\n",
       "\t year     & america  & will      & job      & peopl    & tax      & peopl     & work    \\\\\n",
       "\t can      & year     & america   & work     & work     & govern   & nation    & american\\\\\n",
       "\t american & one      & must      & america  & american & american & year      & can     \\\\\n",
       "\t nation   & countri  & new       & new      & america  & must     & world     & new     \\\\\n",
       "\t peopl    & new      & can       & can      & new      & can      & must      & know    \\\\\n",
       "\t freedom  & thank    & peopl     & make     & make     & now      & can       & world   \\\\\n",
       "\t let      & nation   & now       & that     & can      & nation   & countri   & countri \\\\\n",
       "\t world    & peopl    & children  & now      & everi    & plan     & secur     & must    \\\\\n",
       "\t peac     & great    & everi     & peopl    & help     & peopl    & congress  & time    \\\\\n",
       "\t futur    & tonight  & congress  & get      & nation   & make     & terrorist & let     \\\\\n",
       "\t govern   & state    & nation    & need     & children & feder    & new       & make    \\\\\n",
       "\t work     & can      & challeng  & help     & now      & job      & iraq      & govern  \\\\\n",
       "\t budget   & unit     & help      & countri  & school   & increas  & help      & cut     \\\\\n",
       "\t new      & now      & make      & let      & care     & spend    & work      & get     \\\\\n",
       "\t famili   & must     & communiti & everi    & ask      & budget   & govern    & one     \\\\\n",
       "\t time     & work     & famili    & one      & health   & rate     & freedom   & everi   \\\\\n",
       "\t make     & world    & one       & busi     & one      & america  & state     & job     \\\\\n",
       "\\end{tabular}\n"
      ],
      "text/markdown": [
       "\n",
       "A matrix: 20 × 8 of type chr\n",
       "\n",
       "| Topic 1 | Topic 2 | Topic 3 | Topic 4 | Topic 5 | Topic 6 | Topic 7 | Topic 8 |\n",
       "|---|---|---|---|---|---|---|---|\n",
       "| will     | american | year      | will     | will     | will     | will      | peopl    |\n",
       "| america  | will     | american  | american | must     | program  | america   | will     |\n",
       "| must     | applaus  | work      | year     | year     | year     | american  | year     |\n",
       "| year     | america  | will      | job      | peopl    | tax      | peopl     | work     |\n",
       "| can      | year     | america   | work     | work     | govern   | nation    | american |\n",
       "| american | one      | must      | america  | american | american | year      | can      |\n",
       "| nation   | countri  | new       | new      | america  | must     | world     | new      |\n",
       "| peopl    | new      | can       | can      | new      | can      | must      | know     |\n",
       "| freedom  | thank    | peopl     | make     | make     | now      | can       | world    |\n",
       "| let      | nation   | now       | that     | can      | nation   | countri   | countri  |\n",
       "| world    | peopl    | children  | now      | everi    | plan     | secur     | must     |\n",
       "| peac     | great    | everi     | peopl    | help     | peopl    | congress  | time     |\n",
       "| futur    | tonight  | congress  | get      | nation   | make     | terrorist | let      |\n",
       "| govern   | state    | nation    | need     | children | feder    | new       | make     |\n",
       "| work     | can      | challeng  | help     | now      | job      | iraq      | govern   |\n",
       "| budget   | unit     | help      | countri  | school   | increas  | help      | cut      |\n",
       "| new      | now      | make      | let      | care     | spend    | work      | get      |\n",
       "| famili   | must     | communiti | everi    | ask      | budget   | govern    | one      |\n",
       "| time     | work     | famili    | one      | health   | rate     | freedom   | everi    |\n",
       "| make     | world    | one       | busi     | one      | america  | state     | job      |\n",
       "\n"
      ],
      "text/plain": [
       "      Topic 1  Topic 2  Topic 3   Topic 4  Topic 5  Topic 6  Topic 7   Topic 8 \n",
       " [1,] will     american year      will     will     will     will      peopl   \n",
       " [2,] america  will     american  american must     program  america   will    \n",
       " [3,] must     applaus  work      year     year     year     american  year    \n",
       " [4,] year     america  will      job      peopl    tax      peopl     work    \n",
       " [5,] can      year     america   work     work     govern   nation    american\n",
       " [6,] american one      must      america  american american year      can     \n",
       " [7,] nation   countri  new       new      america  must     world     new     \n",
       " [8,] peopl    new      can       can      new      can      must      know    \n",
       " [9,] freedom  thank    peopl     make     make     now      can       world   \n",
       "[10,] let      nation   now       that     can      nation   countri   countri \n",
       "[11,] world    peopl    children  now      everi    plan     secur     must    \n",
       "[12,] peac     great    everi     peopl    help     peopl    congress  time    \n",
       "[13,] futur    tonight  congress  get      nation   make     terrorist let     \n",
       "[14,] govern   state    nation    need     children feder    new       make    \n",
       "[15,] work     can      challeng  help     now      job      iraq      govern  \n",
       "[16,] budget   unit     help      countri  school   increas  help      cut     \n",
       "[17,] new      now      make      let      care     spend    work      get     \n",
       "[18,] famili   must     communiti everi    ask      budget   govern    one     \n",
       "[19,] time     work     famili    one      health   rate     freedom   everi   \n",
       "[20,] make     world    one       busi     one      america  state     job     "
      ]
     },
     "metadata": {},
     "output_type": "display_data"
    }
   ],
   "source": [
    "terms(lda_model, 20)"
   ]
  },
  {
   "cell_type": "markdown",
   "metadata": {},
   "source": [
    "## Visualization"
   ]
  },
  {
   "cell_type": "code",
   "execution_count": 6,
   "metadata": {},
   "outputs": [
    {
     "data": {
      "image/png": "[encoded data removed]",
      "text/plain": [
       "plot without title"
      ]
     },
     "metadata": {},
     "output_type": "display_data"
    }
   ],
   "source": [
    "data.frame(President=d$President, Year=d$Year, Topic=ordered(topics(lda_model))) %>%\n",
    "    ggplot(aes(x=Year, y=President, fill=Topic)) +\n",
    "    scale_fill_brewer(type=\"qual\") +\n",
    "    geom_tile(color=\"black\")"
   ]
  },
  {
   "cell_type": "code",
   "execution_count": null,
   "metadata": {},
   "outputs": [],
   "source": []
  }
 ],
 "metadata": {
  "kernelspec": {
   "display_name": "R",
   "language": "R",
   "name": "ir"
  },
  "language_info": {
   "codemirror_mode": "r",
   "file_extension": ".r",
   "mimetype": "text/x-r-source",
   "name": "R",
   "pygments_lexer": "r",
   "version": "3.6.1"
  }
 },
 "nbformat": 4,
 "nbformat_minor": 4
}
