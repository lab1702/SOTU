{
 "cells": [
  {
   "cell_type": "markdown",
   "metadata": {},
   "source": [
    "# State of the Union\n",
    "\n",
    "## Topic Modeling with *topicmodels*\n",
    "\n",
    "### Created by Lars Bernhardsson\n",
    "\n",
    "I used the jupyter/datascience-notebook docker image found at https://hub.docker.com/r/jupyter/datascience-notebook when making this notebook."
   ]
  },
  {
   "cell_type": "markdown",
   "metadata": {},
   "source": [
    "## R session prep"
   ]
  },
  {
   "cell_type": "code",
   "execution_count": 1,
   "metadata": {},
   "outputs": [
    {
     "name": "stderr",
     "output_type": "stream",
     "text": [
      "── \u001b[1mAttaching packages\u001b[22m ─────────────────────────────────────────────────────────────────────────────── tidyverse 1.3.1 ──\n",
      "\n",
      "\u001b[32m✔\u001b[39m \u001b[34mggplot2\u001b[39m 3.3.5     \u001b[32m✔\u001b[39m \u001b[34mpurrr  \u001b[39m 0.3.4\n",
      "\u001b[32m✔\u001b[39m \u001b[34mtibble \u001b[39m 3.1.6     \u001b[32m✔\u001b[39m \u001b[34mdplyr  \u001b[39m 1.0.7\n",
      "\u001b[32m✔\u001b[39m \u001b[34mtidyr  \u001b[39m 1.2.0     \u001b[32m✔\u001b[39m \u001b[34mstringr\u001b[39m 1.4.0\n",
      "\u001b[32m✔\u001b[39m \u001b[34mreadr  \u001b[39m 2.1.2     \u001b[32m✔\u001b[39m \u001b[34mforcats\u001b[39m 0.5.1\n",
      "\n",
      "── \u001b[1mConflicts\u001b[22m ────────────────────────────────────────────────────────────────────────────────── tidyverse_conflicts() ──\n",
      "\u001b[31m✖\u001b[39m \u001b[34mdplyr\u001b[39m::\u001b[32mfilter()\u001b[39m masks \u001b[34mstats\u001b[39m::filter()\n",
      "\u001b[31m✖\u001b[39m \u001b[34mdplyr\u001b[39m::\u001b[32mlag()\u001b[39m    masks \u001b[34mstats\u001b[39m::lag()\n",
      "\n",
      "Loading required package: NLP\n",
      "\n",
      "\n",
      "Attaching package: ‘NLP’\n",
      "\n",
      "\n",
      "The following object is masked from ‘package:ggplot2’:\n",
      "\n",
      "    annotate\n",
      "\n",
      "\n"
     ]
    }
   ],
   "source": [
    "library(tidyverse)\n",
    "library(tm)\n",
    "library(topicmodels)\n",
    "\n",
    "options(repr.plot.width = 16, repr.plot.height = 9, repr.matrix.max.rows = 10000, repr.matrix.max.cols = 10000)"
   ]
  },
  {
   "cell_type": "markdown",
   "metadata": {},
   "source": [
    "## Data"
   ]
  },
  {
   "cell_type": "code",
   "execution_count": 2,
   "metadata": {},
   "outputs": [],
   "source": [
    "if(file.exists(\"SOTUtexts.RData\")) {\n",
    "    load(\"SOTUtexts.RData\")\n",
    "} else {\n",
    "    stop(\"Run the data notebook first\")\n",
    "}"
   ]
  },
  {
   "cell_type": "markdown",
   "metadata": {},
   "source": [
    "## Processing"
   ]
  },
  {
   "cell_type": "code",
   "execution_count": 3,
   "metadata": {},
   "outputs": [],
   "source": [
    "s <- SimpleCorpus(VectorSource(d$Text))\n",
    "\n",
    "m <- DocumentTermMatrix(\n",
    "    s,\n",
    "    control=list(\n",
    "        removePunctuation=TRUE,\n",
    "        removeNumbers=TRUE,\n",
    "        stopwords=TRUE,\n",
    "        stemming=TRUE,\n",
    "        minWOrdLength=3\n",
    "    )\n",
    ")"
   ]
  },
  {
   "cell_type": "code",
   "execution_count": 4,
   "metadata": {},
   "outputs": [],
   "source": [
    "lda_model <- LDA(x = m, k = 7)"
   ]
  },
  {
   "cell_type": "code",
   "execution_count": 5,
   "metadata": {},
   "outputs": [
    {
     "data": {
      "text/html": [
       "<table class=\"dataframe\">\n",
       "<caption>A matrix: 10 × 7 of type chr</caption>\n",
       "<thead>\n",
       "\t<tr><th scope=col>Topic 1</th><th scope=col>Topic 2</th><th scope=col>Topic 3</th><th scope=col>Topic 4</th><th scope=col>Topic 5</th><th scope=col>Topic 6</th><th scope=col>Topic 7</th></tr>\n",
       "</thead>\n",
       "<tbody>\n",
       "\t<tr><td>american</td><td>american</td><td>will    </td><td>will    </td><td>will    </td><td>will    </td><td>year    </td></tr>\n",
       "\t<tr><td>america </td><td>year    </td><td>year    </td><td>american</td><td>american</td><td>america </td><td>will    </td></tr>\n",
       "\t<tr><td>will    </td><td>will    </td><td>america </td><td>america </td><td>year    </td><td>american</td><td>work    </td></tr>\n",
       "\t<tr><td>peopl   </td><td>america </td><td>must    </td><td>nation  </td><td>job     </td><td>must    </td><td>peopl   </td></tr>\n",
       "\t<tr><td>year    </td><td>work    </td><td>american</td><td>year    </td><td>america </td><td>nation  </td><td>american</td></tr>\n",
       "\t<tr><td>job     </td><td>new     </td><td>can     </td><td>can     </td><td>that    </td><td>peopl   </td><td>must    </td></tr>\n",
       "\t<tr><td>thank   </td><td>now     </td><td>govern  </td><td>tonight </td><td>work    </td><td>year    </td><td>can     </td></tr>\n",
       "\t<tr><td>one     </td><td>can     </td><td>peopl   </td><td>peopl   </td><td>make    </td><td>secur   </td><td>new     </td></tr>\n",
       "\t<tr><td>countri </td><td>state   </td><td>program </td><td>world   </td><td>peopl   </td><td>world   </td><td>america </td></tr>\n",
       "\t<tr><td>can     </td><td>job     </td><td>nation  </td><td>must    </td><td>can     </td><td>can     </td><td>everi   </td></tr>\n",
       "</tbody>\n",
       "</table>\n"
      ],
      "text/latex": [
       "A matrix: 10 × 7 of type chr\n",
       "\\begin{tabular}{lllllll}\n",
       " Topic 1 & Topic 2 & Topic 3 & Topic 4 & Topic 5 & Topic 6 & Topic 7\\\\\n",
       "\\hline\n",
       "\t american & american & will     & will     & will     & will     & year    \\\\\n",
       "\t america  & year     & year     & american & american & america  & will    \\\\\n",
       "\t will     & will     & america  & america  & year     & american & work    \\\\\n",
       "\t peopl    & america  & must     & nation   & job      & must     & peopl   \\\\\n",
       "\t year     & work     & american & year     & america  & nation   & american\\\\\n",
       "\t job      & new      & can      & can      & that     & peopl    & must    \\\\\n",
       "\t thank    & now      & govern   & tonight  & work     & year     & can     \\\\\n",
       "\t one      & can      & peopl    & peopl    & make     & secur    & new     \\\\\n",
       "\t countri  & state    & program  & world    & peopl    & world    & america \\\\\n",
       "\t can      & job      & nation   & must     & can      & can      & everi   \\\\\n",
       "\\end{tabular}\n"
      ],
      "text/markdown": [
       "\n",
       "A matrix: 10 × 7 of type chr\n",
       "\n",
       "| Topic 1 | Topic 2 | Topic 3 | Topic 4 | Topic 5 | Topic 6 | Topic 7 |\n",
       "|---|---|---|---|---|---|---|\n",
       "| american | american | will     | will     | will     | will     | year     |\n",
       "| america  | year     | year     | american | american | america  | will     |\n",
       "| will     | will     | america  | america  | year     | american | work     |\n",
       "| peopl    | america  | must     | nation   | job      | must     | peopl    |\n",
       "| year     | work     | american | year     | america  | nation   | american |\n",
       "| job      | new      | can      | can      | that     | peopl    | must     |\n",
       "| thank    | now      | govern   | tonight  | work     | year     | can      |\n",
       "| one      | can      | peopl    | peopl    | make     | secur    | new      |\n",
       "| countri  | state    | program  | world    | peopl    | world    | america  |\n",
       "| can      | job      | nation   | must     | can      | can      | everi    |\n",
       "\n"
      ],
      "text/plain": [
       "      Topic 1  Topic 2  Topic 3  Topic 4  Topic 5  Topic 6  Topic 7 \n",
       " [1,] american american will     will     will     will     year    \n",
       " [2,] america  year     year     american american america  will    \n",
       " [3,] will     will     america  america  year     american work    \n",
       " [4,] peopl    america  must     nation   job      must     peopl   \n",
       " [5,] year     work     american year     america  nation   american\n",
       " [6,] job      new      can      can      that     peopl    must    \n",
       " [7,] thank    now      govern   tonight  work     year     can     \n",
       " [8,] one      can      peopl    peopl    make     secur    new     \n",
       " [9,] countri  state    program  world    peopl    world    america \n",
       "[10,] can      job      nation   must     can      can      everi   "
      ]
     },
     "metadata": {},
     "output_type": "display_data"
    }
   ],
   "source": [
    "terms(lda_model, 10)"
   ]
  },
  {
   "cell_type": "markdown",
   "metadata": {},
   "source": [
    "## Visualization"
   ]
  },
  {
   "cell_type": "code",
   "execution_count": 6,
   "metadata": {},
   "outputs": [
    {
     "data": {
      "image/png": "[encoded data removed]",
      "text/plain": [
       "plot without title"
      ]
     },
     "metadata": {
      "image/png": {
       "height": 540,
       "width": 960
      }
     },
     "output_type": "display_data"
    }
   ],
   "source": [
    "data.frame(President=d$President, Year=d$Year, Topic=factor(topics(lda_model))) %>%\n",
    "    ggplot(aes(x=Year, y=President, fill=Topic)) +\n",
    "    geom_tile(color=\"black\")"
   ]
  },
  {
   "cell_type": "code",
   "execution_count": null,
   "metadata": {},
   "outputs": [],
   "source": []
  }
 ],
 "metadata": {
  "kernelspec": {
   "display_name": "R",
   "language": "R",
   "name": "ir"
  },
  "language_info": {
   "codemirror_mode": "r",
   "file_extension": ".r",
   "mimetype": "text/x-r-source",
   "name": "R",
   "pygments_lexer": "r",
   "version": "4.1.2"
  }
 },
 "nbformat": 4,
 "nbformat_minor": 4
}
